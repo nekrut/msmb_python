{
  "nbformat": 4,
  "nbformat_minor": 0,
  "metadata": {
    "colab": {
      "name": "L2_stat_mod.ipynb",
      "version": "0.3.2",
      "provenance": [],
      "collapsed_sections": [
        "kPAcR5WmzCl6"
      ],
      "toc_visible": true,
      "include_colab_link": true
    },
    "kernelspec": {
      "name": "python3",
      "display_name": "Python 3"
    }
  },
  "cells": [
    {
      "cell_type": "markdown",
      "metadata": {
        "id": "view-in-github",
        "colab_type": "text"
      },
      "source": [
        "<a href=\"https://colab.research.google.com/github/nekrut/msmb_python/blob/master/chapter2.ipynb\" target=\"_parent\"><img src=\"https://colab.research.google.com/assets/colab-badge.svg\" alt=\"Open In Colab\"/></a>"
      ]
    },
    {
      "metadata": {
        "id": "Exm8yJN0ybjN",
        "colab_type": "code",
        "outputId": "f1c92974-964a-491f-f3f0-63a188de8610",
        "colab": {
          "base_uri": "https://localhost:8080/",
          "height": 241
        }
      },
      "cell_type": "code",
      "source": [
        "# Make sure we have latest seaborn\n",
        "!pip install seaborn --upgrade"
      ],
      "execution_count": 19,
      "outputs": [
        {
          "output_type": "stream",
          "text": [
            "Requirement already up-to-date: seaborn in /usr/local/lib/python3.6/dist-packages (0.9.0)\n",
            "Requirement already satisfied, skipping upgrade: scipy>=0.14.0 in /usr/local/lib/python3.6/dist-packages (from seaborn) (1.2.1)\n",
            "Requirement already satisfied, skipping upgrade: numpy>=1.9.3 in /usr/local/lib/python3.6/dist-packages (from seaborn) (1.16.2)\n",
            "Requirement already satisfied, skipping upgrade: matplotlib>=1.4.3 in /usr/local/lib/python3.6/dist-packages (from seaborn) (3.0.3)\n",
            "Requirement already satisfied, skipping upgrade: pandas>=0.15.2 in /usr/local/lib/python3.6/dist-packages (from seaborn) (0.24.2)\n",
            "Requirement already satisfied, skipping upgrade: python-dateutil>=2.1 in /usr/local/lib/python3.6/dist-packages (from matplotlib>=1.4.3->seaborn) (2.5.3)\n",
            "Requirement already satisfied, skipping upgrade: kiwisolver>=1.0.1 in /usr/local/lib/python3.6/dist-packages (from matplotlib>=1.4.3->seaborn) (1.0.1)\n",
            "Requirement already satisfied, skipping upgrade: cycler>=0.10 in /usr/local/lib/python3.6/dist-packages (from matplotlib>=1.4.3->seaborn) (0.10.0)\n",
            "Requirement already satisfied, skipping upgrade: pyparsing!=2.0.4,!=2.1.2,!=2.1.6,>=2.0.1 in /usr/local/lib/python3.6/dist-packages (from matplotlib>=1.4.3->seaborn) (2.4.0)\n",
            "Requirement already satisfied, skipping upgrade: pytz>=2011k in /usr/local/lib/python3.6/dist-packages (from pandas>=0.15.2->seaborn) (2018.9)\n",
            "Requirement already satisfied, skipping upgrade: six>=1.5 in /usr/local/lib/python3.6/dist-packages (from python-dateutil>=2.1->matplotlib>=1.4.3->seaborn) (1.11.0)\n",
            "Requirement already satisfied, skipping upgrade: setuptools in /usr/local/lib/python3.6/dist-packages (from kiwisolver>=1.0.1->matplotlib>=1.4.3->seaborn) (40.9.0)\n"
          ],
          "name": "stdout"
        }
      ]
    },
    {
      "metadata": {
        "id": "ABI5bfUHzade",
        "colab_type": "code",
        "outputId": "8f008733-475e-4f55-bde7-c04439c93319",
        "colab": {
          "base_uri": "https://localhost:8080/",
          "height": 34
        }
      },
      "cell_type": "code",
      "source": [
        "# Make sure we have latest numpy\n",
        "!pip install numpy --upgrade"
      ],
      "execution_count": 20,
      "outputs": [
        {
          "output_type": "stream",
          "text": [
            "Requirement already up-to-date: numpy in /usr/local/lib/python3.6/dist-packages (1.16.2)\n"
          ],
          "name": "stdout"
        }
      ]
    },
    {
      "metadata": {
        "id": "iPbOOmSKoQaj",
        "colab_type": "code",
        "outputId": "9f003347-8696-4fdd-9e4b-366163f87645",
        "colab": {
          "base_uri": "https://localhost:8080/",
          "height": 122
        }
      },
      "cell_type": "code",
      "source": [
        "!pip install pandas --upgrade"
      ],
      "execution_count": 21,
      "outputs": [
        {
          "output_type": "stream",
          "text": [
            "Requirement already up-to-date: pandas in /usr/local/lib/python3.6/dist-packages (0.24.2)\n",
            "Requirement already satisfied, skipping upgrade: pytz>=2011k in /usr/local/lib/python3.6/dist-packages (from pandas) (2018.9)\n",
            "Requirement already satisfied, skipping upgrade: numpy>=1.12.0 in /usr/local/lib/python3.6/dist-packages (from pandas) (1.16.2)\n",
            "Requirement already satisfied, skipping upgrade: python-dateutil>=2.5.0 in /usr/local/lib/python3.6/dist-packages (from pandas) (2.5.3)\n",
            "Requirement already satisfied, skipping upgrade: six>=1.5 in /usr/local/lib/python3.6/dist-packages (from python-dateutil>=2.5.0->pandas) (1.11.0)\n"
          ],
          "name": "stdout"
        }
      ]
    },
    {
      "metadata": {
        "id": "EVI7c3huzc6Q",
        "colab_type": "code",
        "colab": {}
      },
      "cell_type": "code",
      "source": [
        "import numpy as np\n",
        "import pandas as pd\n",
        "from IPython.display import Image\n",
        "import matplotlib.pyplot as plt\n",
        "import matplotlib.ticker as ticker"
      ],
      "execution_count": 0,
      "outputs": []
    },
    {
      "metadata": {
        "id": "qS0lB_yxzjZ_",
        "colab_type": "code",
        "colab": {}
      },
      "cell_type": "code",
      "source": [
        "import seaborn as sns\n",
        "sns.set_context(\"notebook\", font_scale=1.5, rc={\"lines.linewidth\": 2.5})"
      ],
      "execution_count": 0,
      "outputs": []
    },
    {
      "metadata": {
        "id": "9PeF5G05yiJa",
        "colab_type": "text"
      },
      "cell_type": "markdown",
      "source": [
        "# 2. Statistical Modeling\n",
        "---------\n",
        "In the previous chapter, the knowledge of both the generative model and the values of the parameters provided us with probabilities we could use for decision making – for instance, whether we had really found an epitope. In many real situations, neither the generative model nor the parameters are known, and we will need to estimate them using the data we have collected. Statistical modeling works from the data upwards to a model that might plausibly explain the data (Even if we have found a model that perfectly explains all our current data, it could always be that reality is more complex. A new set of data lets us conclude that another model is needed, and may include the current model as a special case or approximation). This upward-reasoning step is called statistical inference. This chapter will show us some of the distributions and estimation mechanisms that serve as building blocks for inference. Although the examples in this chapter are all parametric (i.e., the statistical models only have a small number of unknown parameters), the principles we discuss will generalize."
      ]
    },
    {
      "metadata": {
        "id": "s2NM3Wt0znQb",
        "colab_type": "code",
        "outputId": "427d0e4a-42d6-4063-a633-2a02cfaa96e5",
        "colab": {
          "base_uri": "https://localhost:8080/",
          "height": 317
        }
      },
      "cell_type": "code",
      "source": [
        "display(Image('http://web.stanford.edu/class/bios221/book/images/StatDiagram.png',width=300, height=300))\n"
      ],
      "execution_count": 3,
      "outputs": [
        {
          "output_type": "display_data",
          "data": {
            "image/png": "[encoded data removed]",
            "text/plain": [
              "<IPython.core.display.Image object>"
            ]
          },
          "metadata": {
            "tags": [],
            "image/png": {
              "width": 300,
              "height": 300
            }
          }
        }
      ]
    },
    {
      "metadata": {
        "id": "qsHINRw7zu1m",
        "colab_type": "text"
      },
      "cell_type": "markdown",
      "source": [
        "In a statistical setting, we start with the data $X$ and use them to estimate the parameters. These estimates are denoted by Greek letters with what we call hats on them, as in $\\hat{\\theta}$."
      ]
    },
    {
      "metadata": {
        "id": "kPAcR5WmzCl6",
        "colab_type": "text"
      },
      "cell_type": "markdown",
      "source": [
        "## 2.1. Goals of this chapter\n",
        "--------\n",
        "In this chapter we will:\n",
        "\n",
        " - See that there is a difference between two subjects that are often confused: “Probability” and “Statistics”.\n",
        " - Fit data to probability distributions using histograms and other visualization tricks.\n",
        " - Have a first encounter with an estimating procedure known as maximum likelihood through a simulation experiement.\n",
        " - Make inferences from data for which we have prior information. For this we will use the Bayesian paradigm which will involve new distributions with specially tailored properties. We will use simulations and see how Bayesian estimation differs from simple application of maximum likelihood.\n",
        " - Use statistical models and estimation to evaluate dependencies in binomial and multinomial distributions.\n",
        " - Analyse some historically interesting genomic data assembled into tables.\n",
        " - Make Markov chain models for dependent data.\n",
        " - Do a few concrete applications counting motifs in whole genomes and manipulate special Bioconductor classes dedicated to genomic data.\n",
        " \n",
        "Parameters are the key. $\\lambda$, $\\mu$, $\\theta$ are examples of parameters. he single parameter $\\lambda$ defines a Poisson distribution. The letter $\\mu$ is often used for the mean of the normal. More generally, we use the Greek letter $\\theta$ to designate a generic tuple of parameters necessary to specify a probability model. For instance, in the case of the binomial distribution, $\\theta = (n,p)$ comprises two numbers, a positive integer and a real number between 0 and 1.\n",
        "\n",
        "We saw in Chapter 1 that the knowledge of all the parameter values in the epitope example enabled us to use our probability model and test a null hypothesis based on the data we had at hand. We will see different approaches to statistical modeling through some real examples and computer simulations, but let’s start by making a distinction between two situations depending on how much information is available."
      ]
    },
    {
      "metadata": {
        "id": "AbfmsAm71Xra",
        "colab_type": "text"
      },
      "cell_type": "markdown",
      "source": [
        "## 2.2. The difference between statistical and probabilistic models\n",
        "---------\n",
        "A probabilistic analysis is possible when we know a good generative model for the randomness in the data, and we are provided with the parameters’ actual values.\n",
        "\n",
        "In the epitope example, knowing that false positives occured as Bernoulli(0.01) per position, the number of patients assayed and the length of the protein ensured that there were no unknown parameters.\n",
        "\n",
        "In such a case, we can use mathematical deduction to compute the probability of an event as schematized in Figure 2.1 below. In the epitope examples, we used the Poisson probability as our null model with the given parameter $\\lambda = 0.5$. We were able to conclude through mathematical deduction that the chances of seeing a maximum value of $7$ or larger was around $10^{-4}$ and thus that in fact the observed data were highly unlikely under that model (or “null hypothesis”).\n",
        "\n",
        "Now suppose that we know the number of patients and the length of the proteins (these are given by the experimental design) but not the distribution itself and the false positive rate. Once we observe data, we need to go up from the data to estimate both a probability model $F$ (Poisson, normal, binomial) and eventually the missing parameter(s) for that model. This is the type of statistical inference we will explain in this chapter."
      ]
    },
    {
      "metadata": {
        "id": "g7x2sDK-2J6p",
        "colab_type": "code",
        "outputId": "94bd5758-019d-486a-be0f-7b5e478b2161",
        "colab": {
          "base_uri": "https://localhost:8080/",
          "height": 317
        }
      },
      "cell_type": "code",
      "source": [
        "display(Image('http://web.stanford.edu/class/bios221/book/images/ProbaDiagram.png',width=300, height=300))"
      ],
      "execution_count": 4,
      "outputs": [
        {
          "output_type": "display_data",
          "data": {
            "image/png": "[encoded data removed]",
            "text/plain": [
              "<IPython.core.display.Image object>"
            ]
          },
          "metadata": {
            "tags": [],
            "image/png": {
              "width": 300,
              "height": 300
            }
          }
        }
      ]
    },
    {
      "metadata": {
        "id": "YcK-T8u22PTY",
        "colab_type": "text"
      },
      "cell_type": "markdown",
      "source": [
        ">**Figure 2.1**. The probabilistic model we obtained in Chapter 1. The data are represented as $x$ in green. We can use the observed data to compute the probability of observing $x$ when we know the true value of $\\theta$.\n",
        "\n"
      ]
    },
    {
      "metadata": {
        "id": "E-oEcWvp3Obv",
        "colab_type": "text"
      },
      "cell_type": "markdown",
      "source": [
        "## 2.3. A simple example of statistical modeling\n",
        "-------\n",
        "Start with the data\n",
        "\n",
        "There are two parts to the modeling procedure. First we need a reasonable probability distribution to model the data generation process. As we saw in Chapter 1, discrete count data may be modeled by simple probability distributions such as binomial, multinomial or Poisson distributions. The normal distribution, or bell shaped curve, is often a good model for continuous measurements. Distributions can also be more complicated mixtures of these elementary ones (more on this in Chapter 4).\n",
        "\n",
        "Let’s revisit the epitope example from the previous chapter, starting without the tricky outlier."
      ]
    },
    {
      "metadata": {
        "id": "tfAr9XHj2OkP",
        "colab_type": "code",
        "outputId": "c8880524-436e-4afb-8552-66270b447a76",
        "colab": {
          "base_uri": "https://localhost:8080/",
          "height": 34
        }
      },
      "cell_type": "code",
      "source": [
        "!pip install pyreadr"
      ],
      "execution_count": 5,
      "outputs": [
        {
          "output_type": "stream",
          "text": [
            "Requirement already satisfied: pyreadr in /usr/local/lib/python3.6/dist-packages (0.1.9)\n"
          ],
          "name": "stdout"
        }
      ]
    },
    {
      "metadata": {
        "id": "271FjGJU7MhP",
        "colab_type": "code",
        "outputId": "43b3c17f-ca25-429e-85ec-9c4d18db0ea0",
        "colab": {
          "base_uri": "https://localhost:8080/",
          "height": 309
        }
      },
      "cell_type": "code",
      "source": [
        "!wget https://github.com/nekrut/msmb_python/raw/master/data/e100.RData"
      ],
      "execution_count": 6,
      "outputs": [
        {
          "output_type": "stream",
          "text": [
            "--2019-04-17 16:40:31--  https://github.com/nekrut/msmb_python/raw/master/data/e100.RData\n",
            "Resolving github.com (github.com)... 192.30.253.112, 192.30.253.113\n",
            "Connecting to github.com (github.com)|192.30.253.112|:443... connected.\n",
            "HTTP request sent, awaiting response... 302 Found\n",
            "Location: https://raw.githubusercontent.com/nekrut/msmb_python/master/data/e100.RData [following]\n",
            "--2019-04-17 16:40:31--  https://raw.githubusercontent.com/nekrut/msmb_python/master/data/e100.RData\n",
            "Resolving raw.githubusercontent.com (raw.githubusercontent.com)... 151.101.0.133, 151.101.64.133, 151.101.128.133, ...\n",
            "Connecting to raw.githubusercontent.com (raw.githubusercontent.com)|151.101.0.133|:443... connected.\n",
            "HTTP request sent, awaiting response... 200 OK\n",
            "Length: 129 [application/octet-stream]\n",
            "Saving to: ‘e100.RData.1’\n",
            "\n",
            "e100.RData.1        100%[===================>]     129  --.-KB/s    in 0s      \n",
            "\n",
            "2019-04-17 16:40:31 (14.7 MB/s) - ‘e100.RData.1’ saved [129/129]\n",
            "\n"
          ],
          "name": "stdout"
        }
      ]
    },
    {
      "metadata": {
        "id": "QkQpt_Cb7Owr",
        "colab_type": "code",
        "colab": {}
      },
      "cell_type": "code",
      "source": [
        "import pyreadr\n",
        "df = pyreadr.read_r('e100.RData')['e100']"
      ],
      "execution_count": 0,
      "outputs": []
    },
    {
      "metadata": {
        "id": "Sr427cej7Vxz",
        "colab_type": "code",
        "colab": {}
      },
      "cell_type": "code",
      "source": [
        "e99 = df[df['e100']<7]"
      ],
      "execution_count": 0,
      "outputs": []
    },
    {
      "metadata": {
        "id": "gysWaWmv8T8Y",
        "colab_type": "text"
      },
      "cell_type": "markdown",
      "source": [
        "Goodness-of-fit : visual evaluation\n",
        "\n",
        "Our first step is to find a fit from candidate distributions; this requires consulting graphical and quantitative goodness-of-fit plots. For discrete data, we can plot a barplot of frequencies (for continuous data, we would look at the histogram) as in Figure 2.2:"
      ]
    },
    {
      "metadata": {
        "id": "AqeBI7gx7gXG",
        "colab_type": "code",
        "outputId": "5d83f846-a660-42da-b199-5cea3eed358c",
        "colab": {
          "base_uri": "https://localhost:8080/",
          "height": 321
        }
      },
      "cell_type": "code",
      "source": [
        "sns.countplot(e99['e100'], color='g', alpha=0.5)"
      ],
      "execution_count": 9,
      "outputs": [
        {
          "output_type": "execute_result",
          "data": {
            "text/plain": [
              "<matplotlib.axes._subplots.AxesSubplot at 0x7f907e373f98>"
            ]
          },
          "metadata": {
            "tags": []
          },
          "execution_count": 9
        },
        {
          "output_type": "display_data",
          "data": {
            "image/png": "[encoded data removed]",
            "text/plain": [
              "<Figure size 432x288 with 1 Axes>"
            ]
          },
          "metadata": {
            "tags": []
          }
        }
      ]
    },
    {
      "metadata": {
        "id": "qTpB7IJMCpyY",
        "colab_type": "text"
      },
      "cell_type": "markdown",
      "source": [
        ">**Figure 2.2.** The observed distribution of the epitope data without the outlier."
      ]
    },
    {
      "metadata": {
        "id": "fn0aWlybC2Bf",
        "colab_type": "text"
      },
      "cell_type": "markdown",
      "source": [
        "However, it is hard to decide which theoretical distribution fits the data best without using a comparison. One visual goodness-of-fit diagram is known as the rootogram (Cleveland 1988); it hangs the bars with the observed counts from the theoretical red points. If the counts correspond exactly to their theoretical values, the bottom of the boxes will align exactly with the horizontal axis."
      ]
    },
    {
      "metadata": {
        "id": "YMqdSsYmO_25",
        "colab_type": "code",
        "colab": {}
      },
      "cell_type": "code",
      "source": [
        "mlest = e99['e100'].mean()"
      ],
      "execution_count": 0,
      "outputs": []
    },
    {
      "metadata": {
        "id": "7ND6PyXvPFGT",
        "colab_type": "code",
        "outputId": "be98d472-d971-4e3f-a396-16f53984adf8",
        "colab": {
          "base_uri": "https://localhost:8080/",
          "height": 321
        }
      },
      "cell_type": "code",
      "source": [
        "from scipy.stats import poisson\n",
        "k = np.arange(e99['e100'].max()+1)\n",
        "sns.countplot(e99['e100'], order=k, color='g', alpha=0.5)\n",
        "plt.plot(k, poisson.pmf(k, mlest)*len(e99), 'go', markersize=9)"
      ],
      "execution_count": 11,
      "outputs": [
        {
          "output_type": "execute_result",
          "data": {
            "text/plain": [
              "[<matplotlib.lines.Line2D at 0x7f907d63e3c8>]"
            ]
          },
          "metadata": {
            "tags": []
          },
          "execution_count": 11
        },
        {
          "output_type": "display_data",
          "data": {
            "image/png": "[encoded data removed]",
            "text/plain": [
              "<Figure size 432x288 with 1 Axes>"
            ]
          },
          "metadata": {
            "tags": []
          }
        }
      ]
    },
    {
      "metadata": {
        "id": "ZLLUP8NgR2qq",
        "colab_type": "text"
      },
      "cell_type": "markdown",
      "source": [
        "We see that the rootogram for e99 seems to fit the Poisson model reasonably well. But remember, to make this happen we removed the outlier. The Poisson is completely determined by one parameter, often called the Poisson mean $\\lambda$. In most cases where we can guess the data follows a Poisson distribution, we will need to estimate the Poisson parameter from the data.\n",
        "\n",
        "The parameter is called the Poisson mean because it is the mean of the theoretical distribution and, as it turns out, is estimated by the sample mean. This overloading of the word is confusing to everyone.\n",
        "\n",
        "The most common way of estimating $\\lambda$ is to choose the value $\\hat{\\lambda}$ that makes the observed data the most likely. This is called the maximum likelihood estimator (Rice 2006 Chapter 8, Section 5), often abbreviated MLE. We will illustrate this rather paradoxical idea in the next section.\n",
        "\n",
        "Although we above took out the extreme observation before taking a guess at the probability distribution, we are going to return to the data with it for the rest of our analysis. In practice we would not know whether there is an outlier, and which data point(s) it is / they are. The effect of leaving it in is to make our estimate of the mean higher. In turns this would make it more likely that we’d observe a value of 7 under the null model, resulting in a larger p-value. So, if the resulting p-value is small even with the outlier included, we are assured that our analysis is up to something real. We call such a tactic being conservative: we err on the side of caution, of not detecting something.\n",
        "\n",
        "#### Estimating the parameter of the Poisson distribution\n",
        "\n",
        "What value for the Poisson mean makes the data the most probable? In a first step, we tally the outcomes:"
      ]
    },
    {
      "metadata": {
        "id": "SOr9xJxcOdFc",
        "colab_type": "code",
        "outputId": "1dd78b25-acd7-41e9-a432-d0bc3aae2960",
        "colab": {
          "base_uri": "https://localhost:8080/",
          "height": 102
        }
      },
      "cell_type": "code",
      "source": [
        "df['e100'].value_counts()"
      ],
      "execution_count": 12,
      "outputs": [
        {
          "output_type": "execute_result",
          "data": {
            "text/plain": [
              "0.0    58\n",
              "1.0    34\n",
              "2.0     7\n",
              "7.0     1\n",
              "Name: e100, dtype: int64"
            ]
          },
          "metadata": {
            "tags": []
          },
          "execution_count": 12
        }
      ]
    },
    {
      "metadata": {
        "id": "BKdJ0jK7Sy3o",
        "colab_type": "text"
      },
      "cell_type": "markdown",
      "source": [
        "Then we are going to try out different values for the Poisson mean and see which one gives the best fit to our data. If the mean $\\lambda$ of the Poisson distribution were 3, the counts would look something like this:"
      ]
    },
    {
      "metadata": {
        "id": "_Qfb4LGlSri-",
        "colab_type": "code",
        "colab": {}
      },
      "cell_type": "code",
      "source": [
        "x,y = np.unique(poisson.rvs(mu=3,size=100),return_counts=True)"
      ],
      "execution_count": 0,
      "outputs": []
    },
    {
      "metadata": {
        "id": "1cpvR4_HUIf2",
        "colab_type": "code",
        "outputId": "cd295253-ea4f-430a-eee4-bf5098273f24",
        "colab": {
          "base_uri": "https://localhost:8080/",
          "height": 34
        }
      },
      "cell_type": "code",
      "source": [
        "x"
      ],
      "execution_count": 14,
      "outputs": [
        {
          "output_type": "execute_result",
          "data": {
            "text/plain": [
              "array([0, 1, 2, 3, 4, 5, 6, 7])"
            ]
          },
          "metadata": {
            "tags": []
          },
          "execution_count": 14
        }
      ]
    },
    {
      "metadata": {
        "id": "isE1gMLrUJX8",
        "colab_type": "code",
        "outputId": "523ead58-2a38-4415-f16b-576b80eeb8cd",
        "colab": {
          "base_uri": "https://localhost:8080/",
          "height": 34
        }
      },
      "cell_type": "code",
      "source": [
        "y"
      ],
      "execution_count": 15,
      "outputs": [
        {
          "output_type": "execute_result",
          "data": {
            "text/plain": [
              "array([ 6, 13, 27, 30,  8,  9,  6,  1])"
            ]
          },
          "metadata": {
            "tags": []
          },
          "execution_count": 15
        }
      ]
    },
    {
      "metadata": {
        "id": "Gtie6gUCUdYJ",
        "colab_type": "text"
      },
      "cell_type": "markdown",
      "source": [
        "which has many more 2’s and 3’s than we see in our data. So we see that $\\lambda=3$ is unlikely to have produced our data, as the counts do not match up so well."
      ]
    },
    {
      "metadata": {
        "id": "IyzVJy8WUodQ",
        "colab_type": "text"
      },
      "cell_type": "markdown",
      "source": [
        "&#9757;  Repeat this simulation with different values of $\\lambda$ Can you find one that gives counts close to the oberved ones just by trial and error?"
      ]
    },
    {
      "metadata": {
        "id": "Fq7C8VwOVnch",
        "colab_type": "text"
      },
      "cell_type": "markdown",
      "source": [
        "So we could try out many possible values and proceed by brute force. However, we’ll do something more elegant and use a little mathematics to see which value maximizes the probability of observing our data. Let’s calculate the probability of seeing the data if the value of the Poisson parameter is $m$. Since we suppose the data derive from independent draws, this probability is simply the product of individual probabilities:\n",
        "\n",
        "$P(58 \\times 0, 34 \\times 1, 7 \\times 2, 1 \\times 7 | data\\ are\\ Poisson(m))=P(0)^{58} \\times P(1)^{34} \\times P(2)^{7} \\times P(7)^1\\\\$\n",
        "for $m=3$ we can compute this:"
      ]
    },
    {
      "metadata": {
        "id": "mkxbUYcZULmH",
        "colab_type": "code",
        "outputId": "9072ba6b-7aaa-403d-b0c0-12a8220b5703",
        "colab": {
          "base_uri": "https://localhost:8080/",
          "height": 34
        }
      },
      "cell_type": "code",
      "source": [
        "from numpy import prod\n",
        "prod(poisson.pmf([0,1,2,7],mu=3)**[58,34,7,1])"
      ],
      "execution_count": 16,
      "outputs": [
        {
          "output_type": "execute_result",
          "data": {
            "text/plain": [
              "1.3921432708903147e-110"
            ]
          },
          "metadata": {
            "tags": []
          },
          "execution_count": 16
        }
      ]
    },
    {
      "metadata": {
        "id": "idoyvv6FX7tc",
        "colab_type": "text"
      },
      "cell_type": "markdown",
      "source": [
        "&#9757; Compute the probability as above for $m=0,1,2$. Does $m$ have to be integer? Try computing the probability for $m=0.4$ for example."
      ]
    },
    {
      "metadata": {
        "id": "1IcqBZv6YSMO",
        "colab_type": "text"
      },
      "cell_type": "markdown",
      "source": [
        "This probability is the likelihood function of $\\lambda$, given the data, and we write it:\n",
        "\n",
        "$L(\\lambda,x=(k_1,k_2,k_3,...))=\\prod_{i=1}^{100}f(k_i)\\\\$\n",
        "\n",
        "where $L$ stands for likelihood and $f(k)=e^{-\\lambda}/k!$, the Poisson probability we saw earlier.\n",
        "\n",
        "Instead of working with multiplications of a hundred small numbers, it is convenient (That’s usually true both for pencil and paper and for computer calculations.)  to take the logarithm. Since the logarithm is strictly increasing, if there is a point where the logarithm achieves its maximum within an interval it will also be the maximum for the probability.\n",
        "\n",
        "Let’s start with a computational illustration. We compute the likelihood for many different values of the Poisson parameter. To do this we need to write a small function that computes the probability of the data for different values"
      ]
    },
    {
      "metadata": {
        "id": "qqirFc3mXQDW",
        "colab_type": "code",
        "colab": {}
      },
      "cell_type": "code",
      "source": [
        "def loglikelihood(l,data):\n",
        "  return np.sum(np.log(poisson.pmf(data,mu=l)))"
      ],
      "execution_count": 0,
      "outputs": []
    },
    {
      "metadata": {
        "id": "nVMPlnMd6dQE",
        "colab_type": "code",
        "colab": {}
      },
      "cell_type": "code",
      "source": [
        "lambdas=np.linspace(0.05,0.95,100)"
      ],
      "execution_count": 0,
      "outputs": []
    },
    {
      "metadata": {
        "id": "RXKpd2R66g1S",
        "colab_type": "code",
        "outputId": "1852120d-2676-4d9e-883b-96bfb06c44a4",
        "colab": {
          "base_uri": "https://localhost:8080/",
          "height": 357
        }
      },
      "cell_type": "code",
      "source": [
        "lambdas"
      ],
      "execution_count": 19,
      "outputs": [
        {
          "output_type": "execute_result",
          "data": {
            "text/plain": [
              "array([0.05      , 0.05909091, 0.06818182, 0.07727273, 0.08636364,\n",
              "       0.09545455, 0.10454545, 0.11363636, 0.12272727, 0.13181818,\n",
              "       0.14090909, 0.15      , 0.15909091, 0.16818182, 0.17727273,\n",
              "       0.18636364, 0.19545455, 0.20454545, 0.21363636, 0.22272727,\n",
              "       0.23181818, 0.24090909, 0.25      , 0.25909091, 0.26818182,\n",
              "       0.27727273, 0.28636364, 0.29545455, 0.30454545, 0.31363636,\n",
              "       0.32272727, 0.33181818, 0.34090909, 0.35      , 0.35909091,\n",
              "       0.36818182, 0.37727273, 0.38636364, 0.39545455, 0.40454545,\n",
              "       0.41363636, 0.42272727, 0.43181818, 0.44090909, 0.45      ,\n",
              "       0.45909091, 0.46818182, 0.47727273, 0.48636364, 0.49545455,\n",
              "       0.50454545, 0.51363636, 0.52272727, 0.53181818, 0.54090909,\n",
              "       0.55      , 0.55909091, 0.56818182, 0.57727273, 0.58636364,\n",
              "       0.59545455, 0.60454545, 0.61363636, 0.62272727, 0.63181818,\n",
              "       0.64090909, 0.65      , 0.65909091, 0.66818182, 0.67727273,\n",
              "       0.68636364, 0.69545455, 0.70454545, 0.71363636, 0.72272727,\n",
              "       0.73181818, 0.74090909, 0.75      , 0.75909091, 0.76818182,\n",
              "       0.77727273, 0.78636364, 0.79545455, 0.80454545, 0.81363636,\n",
              "       0.82272727, 0.83181818, 0.84090909, 0.85      , 0.85909091,\n",
              "       0.86818182, 0.87727273, 0.88636364, 0.89545455, 0.90454545,\n",
              "       0.91363636, 0.92272727, 0.93181818, 0.94090909, 0.95      ])"
            ]
          },
          "metadata": {
            "tags": []
          },
          "execution_count": 19
        }
      ]
    },
    {
      "metadata": {
        "id": "ggRdgcDGbM3l",
        "colab_type": "code",
        "outputId": "0a9beab5-140b-49f0-bca5-9f0dd84de0a5",
        "colab": {
          "base_uri": "https://localhost:8080/",
          "height": 299
        }
      },
      "cell_type": "code",
      "source": [
        "g = sns.lineplot(x=lambdas, y=([ loglikelihood(x,df['e100']) for x in lambdas ]))\n",
        "g.axhline(loglikelihood(0.55,df['e100']),color='purple')\n",
        "g.axvline(np.mean(df['e100']),color='r')"
      ],
      "execution_count": 20,
      "outputs": [
        {
          "output_type": "execute_result",
          "data": {
            "text/plain": [
              "<matplotlib.lines.Line2D at 0x7f907b5fe2b0>"
            ]
          },
          "metadata": {
            "tags": []
          },
          "execution_count": 20
        },
        {
          "output_type": "display_data",
          "data": {
            "image/png": "[encoded data removed]",
            "text/plain": [
              "<Figure size 432x288 with 1 Axes>"
            ]
          },
          "metadata": {
            "tags": []
          }
        }
      ]
    },
    {
      "metadata": {
        "id": "sF8tzattMbLr",
        "colab_type": "text"
      },
      "cell_type": "markdown",
      "source": [
        "### 2.3.1. Classical statistics for classical data\n",
        "\n",
        "Here is a formal proof of our computational finding that the mean maximizes the (log-)likelihood:\n",
        "\n",
        "$logL(\\lambda,x)=\\sum_{i=1}^{100}-\\lambda+k_ilog\\lambda-log(k_i!)=\\\\\n",
        "= -100\\lambda+log\\lambda(\\sum_{i=i}^{100}k_i)+const.$\n",
        "\n",
        "We use the catch-all “const.” for terms that do not depend on $\\lambda$ (although they do depend on $x$, i.e., on the $k_i$).  To find the $\\lambda$ that maximizes this, we compute the derivative in $\\lambda$ and set it to zero:\n",
        "\n",
        "$\\frac{d}{d\\lambda}logL=-100+\\frac{1}{\\lambda}\\sum_{i=1}^{100}k_i=0//\n",
        "\\lambda=\\frac{1}{100}\\sum_{i=1}^{100}k_i=\\bar{k}\\\\$\n",
        "\n",
        "You have just seen the first steps of a *statistical approach*, starting \"from the ground up\" (from the data) to infer the model parameter(s): this is statistical *estimation* a parameter from data. Another important component will be choosing which family of distributions our data come from, that part is done by evaluating the *goodness of fit*. We will encounter this later.\n",
        "\n",
        "In the classical *statistical* testing framework, we consider one single model, that we call the *null model*, for the data. The null model formulates an “uninteresting” baseline, such as that all observations come from the same random distribution regardless of which group or treatment they are from. We then test whether there is something more interesting going on by computing the probability that the data are compatible with that model. Often, this is the best we can do, since we do not know in sufficient detail what the “interesting”, non-null or alternative model should be. In other situations, we have two competing models that we can compare, as we will see later.\n",
        "\n",
        "Another useful direction is regression. We may be interested in knowing how our count-based response variable (e.g., the result of counting sequencing reads) depends on a continuous covariate, say, temperature or nutrient concentration. You may already have encountered linear regression, where our model is that the response variable $y$ depends on the covariate $x$ via the equation $y=ax+b+e$, with parameters $a$ and $b$ (that we need to estimate), and with residuals $e$ whose probability model is a normal distribution (whose variance we usually also need to estimate). For count data the same type of regression model is possible, although the probability distribution for the residuals then needs to be non-normal. In that case we use the generalized linear models framework. We will see examples when studying RNA-Seq in Chapter 8 and another type of next generation sequencing data, 16S rRNA data, in Chapter 9.\n",
        "\n",
        "Knowing that our probability model involves a Poisson, binomial, multinomial distribution or another parametric family will enable us to have quick answers to questions about the parameters of the model and compute quantities such as p-values and confidence intervals."
      ]
    },
    {
      "metadata": {
        "id": "xceC9O4XPMO2",
        "colab_type": "text"
      },
      "cell_type": "markdown",
      "source": [
        "## 2.4. Binomial distributions and maximum likelihood\n",
        "-------\n",
        "In a binomial distribution there are two parameters: the number of trials $n$, which is typically known, and the probability $p$ of seeing a 1 in a trial. This probability is often unknown.\n",
        "\n",
        "### 2.4.1. An example\n",
        "\n",
        "Suppose we take a sample of $n=120$ males and test them for red-green colorblindness. We can code the data as 0 if the subject is not colorblind and 1 if he is. We summarize the data by the table:"
      ]
    },
    {
      "metadata": {
        "id": "-4KgIJ6UUnDQ",
        "colab_type": "code",
        "colab": {}
      },
      "cell_type": "code",
      "source": [
        "cb = np.hstack((np.zeros(110),np.ones(10)))"
      ],
      "execution_count": 0,
      "outputs": []
    },
    {
      "metadata": {
        "id": "tjAZ6kYwUoGD",
        "colab_type": "code",
        "outputId": "84c137da-2796-4f08-f19d-92125229a7f8",
        "colab": {
          "base_uri": "https://localhost:8080/",
          "height": 153
        }
      },
      "cell_type": "code",
      "source": [
        "cb"
      ],
      "execution_count": 22,
      "outputs": [
        {
          "output_type": "execute_result",
          "data": {
            "text/plain": [
              "array([0., 0., 0., 0., 0., 0., 0., 0., 0., 0., 0., 0., 0., 0., 0., 0., 0.,\n",
              "       0., 0., 0., 0., 0., 0., 0., 0., 0., 0., 0., 0., 0., 0., 0., 0., 0.,\n",
              "       0., 0., 0., 0., 0., 0., 0., 0., 0., 0., 0., 0., 0., 0., 0., 0., 0.,\n",
              "       0., 0., 0., 0., 0., 0., 0., 0., 0., 0., 0., 0., 0., 0., 0., 0., 0.,\n",
              "       0., 0., 0., 0., 0., 0., 0., 0., 0., 0., 0., 0., 0., 0., 0., 0., 0.,\n",
              "       0., 0., 0., 0., 0., 0., 0., 0., 0., 0., 0., 0., 0., 0., 0., 0., 0.,\n",
              "       0., 0., 0., 0., 0., 0., 0., 0., 1., 1., 1., 1., 1., 1., 1., 1., 1.,\n",
              "       1.])"
            ]
          },
          "metadata": {
            "tags": []
          },
          "execution_count": 22
        }
      ]
    },
    {
      "metadata": {
        "id": "naqehAv2WZwT",
        "colab_type": "code",
        "outputId": "c318a9d7-c0e6-4e6d-bc1b-f99cc73fd1a9",
        "colab": {
          "base_uri": "https://localhost:8080/",
          "height": 34
        }
      },
      "cell_type": "code",
      "source": [
        "np.unique(cb,return_counts=True)"
      ],
      "execution_count": 23,
      "outputs": [
        {
          "output_type": "execute_result",
          "data": {
            "text/plain": [
              "(array([0., 1.]), array([110,  10]))"
            ]
          },
          "metadata": {
            "tags": []
          },
          "execution_count": 23
        }
      ]
    },
    {
      "metadata": {
        "id": "1vDEZi3HYDh9",
        "colab_type": "text"
      },
      "cell_type": "markdown",
      "source": [
        "&#9757; Which value of $p$ is the most likely given these data?"
      ]
    },
    {
      "metadata": {
        "id": "qbNoGd_yYPqc",
        "colab_type": "text"
      },
      "cell_type": "markdown",
      "source": [
        "In this special case, your intuition may give you the estimate $\\hat p=\\frac{1}{12}$, which turns out to be the maximum likelihood estimate. We put a hat over the letter to remind us that this is not (necessarily) the underlying true value, but an estimate we make from the data.\n",
        "\n",
        "As before in the case of the Poisson, if we compute the likelihood for many possible $p$, we can plot it and see where its maximum falls:"
      ]
    },
    {
      "metadata": {
        "id": "9XxJAj-xXtiO",
        "colab_type": "code",
        "colab": {}
      },
      "cell_type": "code",
      "source": [
        "probs = np.arange(0,0.301,step=0.005)"
      ],
      "execution_count": 0,
      "outputs": []
    },
    {
      "metadata": {
        "id": "TK9zq-E9bnAw",
        "colab_type": "code",
        "colab": {}
      },
      "cell_type": "code",
      "source": [
        "from scipy.stats import binom\n",
        "likelihood=binom.pmf(k=np.sum(cb),n=len(cb),p=probs)"
      ],
      "execution_count": 0,
      "outputs": []
    },
    {
      "metadata": {
        "id": "bLatmn8BcUDQ",
        "colab_type": "code",
        "outputId": "26453960-311d-4b19-d6fa-6f0ba39e1de6",
        "colab": {
          "base_uri": "https://localhost:8080/",
          "height": 321
        }
      },
      "cell_type": "code",
      "source": [
        "g=sns.lineplot(x=probs, y=likelihood)\n",
        "g.set(xlabel=\"probaility of success\",ylabel=\"likelihood\")"
      ],
      "execution_count": 26,
      "outputs": [
        {
          "output_type": "execute_result",
          "data": {
            "text/plain": [
              "[Text(0, 0.5, 'likelihood'), Text(0.5, 0, 'probaility of success')]"
            ]
          },
          "metadata": {
            "tags": []
          },
          "execution_count": 26
        },
        {
          "output_type": "display_data",
          "data": {
            "image/png": "[encoded data removed]",
            "text/plain": [
              "<Figure size 432x288 with 1 Axes>"
            ]
          },
          "metadata": {
            "tags": []
          }
        }
      ]
    },
    {
      "metadata": {
        "id": "jvnjelZ3frHL",
        "colab_type": "text"
      },
      "cell_type": "markdown",
      "source": [
        ">**Figure 2.5.** Plot of the likelihood as a function of the probabilities. The likelihood is a function on $[0,1]$; here we have zoomed into the range of $[0,0.3]$, as the likelihood is practically zero for larger values of $p$."
      ]
    },
    {
      "metadata": {
        "id": "HaVUPCprcq0J",
        "colab_type": "code",
        "outputId": "40034e3f-737d-4a87-89ac-862b3187bec3",
        "colab": {
          "base_uri": "https://localhost:8080/",
          "height": 34
        }
      },
      "cell_type": "code",
      "source": [
        "probs[np.argmax(likelihood)]"
      ],
      "execution_count": 27,
      "outputs": [
        {
          "output_type": "execute_result",
          "data": {
            "text/plain": [
              "0.085"
            ]
          },
          "metadata": {
            "tags": []
          },
          "execution_count": 27
        }
      ]
    },
    {
      "metadata": {
        "id": "xyASR3XQfR1q",
        "colab_type": "text"
      },
      "cell_type": "markdown",
      "source": [
        "Note: 0.085 is not exactly the value we expected ($\\frac{1}{12}$), and that is because the set of values that we tried (in probs) did not include the exact value of \n",
        "$\\frac{1}{12}\\simeq0.0833$, so we obtained the next best one. We could use numeric optimisation methods to overcome that.\n",
        "\n",
        "#### Likelihood for the binomial distribution\n",
        " \n",
        "One can come up with different criteria than ML, which lead to other estimators: they all carry hats. We'll see other examples in Chapter 4. The likelihood and the probability are the same mathematical function, only interpreted in different ways – in one case, it tells us how probable it is to see a particular set of values of the data, given the parameters; in the other case, we consider the data as fixed, and ask for the particular parameter value that makes the data more likely. Suppose \n",
        "$n=300$, and we observe $y=40$ successes. Then, for the binomial distribution:\n",
        "\n",
        "$f(\\theta|n,y)=f(y|n,\\theta)=\\binom{n}{y}\\theta^y(1-\\theta)^{(n-y)}.\\\\$\n",
        "\n",
        "As $\\binom{n}{y}$ is very large (It's around $e^{115}$ , and this can be seen from Stirling’s formula.) we use the logarithm of the likelihood to give:\n",
        "\n",
        "$logF(\\theta|y)=115+40log(\\theta)+(300-40)log(1-\\theta)$.\n",
        "\n",
        "Here’s a function we use to calculate it:"
      ]
    },
    {
      "metadata": {
        "id": "lEfL8Cs2eBps",
        "colab_type": "code",
        "colab": {}
      },
      "cell_type": "code",
      "source": [
        "def loglikelihood(theta, n=300,k=40):\n",
        "  return(115+k*np.log(theta)+(n-k)*np.log(1-theta))"
      ],
      "execution_count": 0,
      "outputs": []
    },
    {
      "metadata": {
        "id": "QEQ9HCPviuv6",
        "colab_type": "code",
        "colab": {}
      },
      "cell_type": "code",
      "source": [
        "thetas=np.arange(0,1,step=0.001)"
      ],
      "execution_count": 0,
      "outputs": []
    },
    {
      "metadata": {
        "id": "5vPAMPVpi1zV",
        "colab_type": "code",
        "outputId": "81b8b01e-a03f-409e-a294-04122fb95549",
        "colab": {
          "base_uri": "https://localhost:8080/",
          "height": 353
        }
      },
      "cell_type": "code",
      "source": [
        "sns.lineplot(x=thetas,y=loglikelihood(thetas))"
      ],
      "execution_count": 30,
      "outputs": [
        {
          "output_type": "stream",
          "text": [
            "/usr/local/lib/python3.6/dist-packages/ipykernel_launcher.py:2: RuntimeWarning: divide by zero encountered in log\n",
            "  \n"
          ],
          "name": "stderr"
        },
        {
          "output_type": "execute_result",
          "data": {
            "text/plain": [
              "<matplotlib.axes._subplots.AxesSubplot at 0x7f907b506e80>"
            ]
          },
          "metadata": {
            "tags": []
          },
          "execution_count": 30
        },
        {
          "output_type": "display_data",
          "data": {
            "image/png": "[encoded data removed]",
            "text/plain": [
              "<Figure size 432x288 with 1 Axes>"
            ]
          },
          "metadata": {
            "tags": []
          }
        }
      ]
    },
    {
      "metadata": {
        "id": "NS9-C05ql6Ut",
        "colab_type": "text"
      },
      "cell_type": "markdown",
      "source": [
        ">**Figure 2.6.** Plot of the log likelihood function for $n=300$ and $y=40$."
      ]
    },
    {
      "metadata": {
        "id": "3gYEQJS9mCSG",
        "colab_type": "text"
      },
      "cell_type": "markdown",
      "source": [
        "The maximum lies at 40/300 = 0.1333… , consistent with intuition, but we see that other values of $\\theta$ are almost equally likely, as the function is quite flat around the maximum. We will see in a later section how Bayesian methods allow us to use a range of values for $\\theta$."
      ]
    },
    {
      "metadata": {
        "id": "2v14L_-mbDVE",
        "colab_type": "text"
      },
      "cell_type": "markdown",
      "source": [
        "## 2.5. More boxes: multinomial data\n",
        "---------------"
      ]
    },
    {
      "metadata": {
        "id": "uxKEHixAbj1M",
        "colab_type": "text"
      },
      "cell_type": "markdown",
      "source": [
        "### 2.5.1. DNA count modeling: base pairs\n",
        "\n",
        "There are four basic molecules of DNA: A - adenine, C - cytosine, G - guanine, T - thymine. The nucleotides are classified into 2 groups: purines (A and G) and pyrimidines (C and T). The binomial would work as a model for the purine/pyrimidine groupings but not if we want to use A, C, G, T; for that we need the multinomial model from 1.4. Let’s look at noticeable patterns that occur in these frequencies."
      ]
    },
    {
      "metadata": {
        "id": "SXp9Q_ElbsoF",
        "colab_type": "text"
      },
      "cell_type": "markdown",
      "source": [
        "### 2.5.2. Nucleotide bias\n",
        "\n",
        "This section combines estimation and testing by simulation in a real example. Data from one strand of DNA for the genes of *Staphylococcus aureus* bacterium are available in a fasta file `staphsequence.ffn.txt`, which we can read with a function from the package [BioPython](https://biopython.org/):"
      ]
    },
    {
      "metadata": {
        "id": "KkQ6PTkajKGv",
        "colab_type": "code",
        "outputId": "4bc34bb8-5c20-4b90-e55a-2a62ddcfb6be",
        "colab": {
          "base_uri": "https://localhost:8080/",
          "height": 71
        }
      },
      "cell_type": "code",
      "source": [
        "pip install biopython"
      ],
      "execution_count": 31,
      "outputs": [
        {
          "output_type": "stream",
          "text": [
            "Requirement already satisfied: biopython in /usr/local/lib/python3.6/dist-packages (1.73)\n",
            "Requirement already satisfied: numpy in /usr/local/lib/python3.6/dist-packages (from biopython) (1.16.2)\n"
          ],
          "name": "stdout"
        }
      ]
    },
    {
      "metadata": {
        "id": "wPfPVYCkdGv0",
        "colab_type": "code",
        "outputId": "9297f30d-accf-43e5-c5e1-4068d0c6b2ac",
        "colab": {
          "base_uri": "https://localhost:8080/",
          "height": 224
        }
      },
      "cell_type": "code",
      "source": [
        "!wget https://raw.githubusercontent.com/nekrut/msmb_python/master/data/staphsequence.ffn.txt"
      ],
      "execution_count": 32,
      "outputs": [
        {
          "output_type": "stream",
          "text": [
            "--2019-04-17 16:40:59--  https://raw.githubusercontent.com/nekrut/msmb_python/master/data/staphsequence.ffn.txt\n",
            "Resolving raw.githubusercontent.com (raw.githubusercontent.com)... 151.101.0.133, 151.101.64.133, 151.101.128.133, ...\n",
            "Connecting to raw.githubusercontent.com (raw.githubusercontent.com)|151.101.0.133|:443... connected.\n",
            "HTTP request sent, awaiting response... 200 OK\n",
            "Length: 2788929 (2.7M) [text/plain]\n",
            "Saving to: ‘staphsequence.ffn.txt.1’\n",
            "\n",
            "\rstaphsequence.ffn.t   0%[                    ]       0  --.-KB/s               \rstaphsequence.ffn.t 100%[===================>]   2.66M  --.-KB/s    in 0.05s   \n",
            "\n",
            "2019-04-17 16:41:00 (50.5 MB/s) - ‘staphsequence.ffn.txt.1’ saved [2788929/2788929]\n",
            "\n"
          ],
          "name": "stdout"
        }
      ]
    },
    {
      "metadata": {
        "id": "2WFOy504deqY",
        "colab_type": "code",
        "colab": {}
      },
      "cell_type": "code",
      "source": [
        "from Bio import SeqIO\n",
        "with open('staphsequence.ffn.txt','r') as handle:\n",
        "  genes = list(SeqIO.parse(handle,\"fasta\"))"
      ],
      "execution_count": 0,
      "outputs": []
    },
    {
      "metadata": {
        "id": "IjQyZopLQhbW",
        "colab_type": "text"
      },
      "cell_type": "markdown",
      "source": [
        "Let's look at the first gene:"
      ]
    },
    {
      "metadata": {
        "id": "z4P8LMLOQmwL",
        "colab_type": "code",
        "outputId": "e2179500-5e51-4e51-d35b-d5bdd68737e9",
        "colab": {
          "base_uri": "https://localhost:8080/",
          "height": 54
        }
      },
      "cell_type": "code",
      "source": [
        "genes[0]"
      ],
      "execution_count": 34,
      "outputs": [
        {
          "output_type": "execute_result",
          "data": {
            "text/plain": [
              "SeqRecord(seq=Seq('ATGTCGGAAAAAGAAATTTGGGAAAAAGTGCTTGAAATTGCTCAAGAAAAATTA...TAA', SingleLetterAlphabet()), id='lcl|NC_002952.2_cdsid_YP_039478.1', name='lcl|NC_002952.2_cdsid_YP_039478.1', description='lcl|NC_002952.2_cdsid_YP_039478.1 [gene=dnaA] [protein=chromosomal replication initiation protein] [protein_id=YP_039478.1] [location=517..1878]', dbxrefs=[])"
            ]
          },
          "metadata": {
            "tags": []
          },
          "execution_count": 34
        }
      ]
    },
    {
      "metadata": {
        "id": "QbjFrc-KQxKw",
        "colab_type": "code",
        "outputId": "2d5620a2-7f3f-4774-df8e-7f0168e3d0da",
        "colab": {
          "base_uri": "https://localhost:8080/",
          "height": 34
        }
      },
      "cell_type": "code",
      "source": [
        "[genes[0].seq.count(x) for x in 'ACGT']"
      ],
      "execution_count": 35,
      "outputs": [
        {
          "output_type": "execute_result",
          "data": {
            "text/plain": [
              "[522, 219, 229, 392]"
            ]
          },
          "metadata": {
            "tags": []
          },
          "execution_count": 35
        }
      ]
    },
    {
      "metadata": {
        "id": "L4_uJ1RIRFGC",
        "colab_type": "text"
      },
      "cell_type": "markdown",
      "source": [
        "Due to their different physcal properties, evolutionary selection can act on the nucleotide frequencies. So we can ask whether, say, the first ten genes from these data come from the same multinomial. We do not have a prior reference, we just want to decide whether the nucleotides occur in the same proportions in the first 10 genes. If not, this would provide us with evidence for varying selective pressure on these ten genes."
      ]
    },
    {
      "metadata": {
        "id": "DwySiMTBj6ob",
        "colab_type": "code",
        "colab": {}
      },
      "cell_type": "code",
      "source": [
        "import pandas as pd\n",
        "tab10 = pd.DataFrame(index=('A','C','G','T'))"
      ],
      "execution_count": 0,
      "outputs": []
    },
    {
      "metadata": {
        "id": "usXTUEaLMfXh",
        "colab_type": "code",
        "colab": {}
      },
      "cell_type": "code",
      "source": [
        "for i, gene in enumerate(genes[:10]):\n",
        "  tab10['gene{}'.format(i)] = [gene.seq.count(x) for x in 'ACGT']"
      ],
      "execution_count": 0,
      "outputs": []
    },
    {
      "metadata": {
        "id": "6RYb_X9GNFED",
        "colab_type": "code",
        "outputId": "1e39d49c-51a3-4e32-9c79-c473aedba35f",
        "colab": {
          "base_uri": "https://localhost:8080/",
          "height": 173
        }
      },
      "cell_type": "code",
      "source": [
        "tab10"
      ],
      "execution_count": 38,
      "outputs": [
        {
          "output_type": "execute_result",
          "data": {
            "text/html": [
              "<div>\n",
              "<style scoped>\n",
              "    .dataframe tbody tr th:only-of-type {\n",
              "        vertical-align: middle;\n",
              "    }\n",
              "\n",
              "    .dataframe tbody tr th {\n",
              "        vertical-align: top;\n",
              "    }\n",
              "\n",
              "    .dataframe thead th {\n",
              "        text-align: right;\n",
              "    }\n",
              "</style>\n",
              "<table border=\"1\" class=\"dataframe\">\n",
              "  <thead>\n",
              "    <tr style=\"text-align: right;\">\n",
              "      <th></th>\n",
              "      <th>gene0</th>\n",
              "      <th>gene1</th>\n",
              "      <th>gene2</th>\n",
              "      <th>gene3</th>\n",
              "      <th>gene4</th>\n",
              "      <th>gene5</th>\n",
              "      <th>gene6</th>\n",
              "      <th>gene7</th>\n",
              "      <th>gene8</th>\n",
              "      <th>gene9</th>\n",
              "    </tr>\n",
              "  </thead>\n",
              "  <tbody>\n",
              "    <tr>\n",
              "      <th>A</th>\n",
              "      <td>522</td>\n",
              "      <td>413</td>\n",
              "      <td>85</td>\n",
              "      <td>411</td>\n",
              "      <td>685</td>\n",
              "      <td>887</td>\n",
              "      <td>275</td>\n",
              "      <td>510</td>\n",
              "      <td>487</td>\n",
              "      <td>191</td>\n",
              "    </tr>\n",
              "    <tr>\n",
              "      <th>C</th>\n",
              "      <td>219</td>\n",
              "      <td>176</td>\n",
              "      <td>31</td>\n",
              "      <td>168</td>\n",
              "      <td>293</td>\n",
              "      <td>395</td>\n",
              "      <td>137</td>\n",
              "      <td>244</td>\n",
              "      <td>180</td>\n",
              "      <td>111</td>\n",
              "    </tr>\n",
              "    <tr>\n",
              "      <th>G</th>\n",
              "      <td>229</td>\n",
              "      <td>193</td>\n",
              "      <td>56</td>\n",
              "      <td>207</td>\n",
              "      <td>423</td>\n",
              "      <td>586</td>\n",
              "      <td>169</td>\n",
              "      <td>316</td>\n",
              "      <td>263</td>\n",
              "      <td>142</td>\n",
              "    </tr>\n",
              "    <tr>\n",
              "      <th>T</th>\n",
              "      <td>392</td>\n",
              "      <td>352</td>\n",
              "      <td>74</td>\n",
              "      <td>327</td>\n",
              "      <td>531</td>\n",
              "      <td>793</td>\n",
              "      <td>250</td>\n",
              "      <td>445</td>\n",
              "      <td>357</td>\n",
              "      <td>252</td>\n",
              "    </tr>\n",
              "  </tbody>\n",
              "</table>\n",
              "</div>"
            ],
            "text/plain": [
              "   gene0  gene1  gene2  gene3  gene4  gene5  gene6  gene7  gene8  gene9\n",
              "A    522    413     85    411    685    887    275    510    487    191\n",
              "C    219    176     31    168    293    395    137    244    180    111\n",
              "G    229    193     56    207    423    586    169    316    263    142\n",
              "T    392    352     74    327    531    793    250    445    357    252"
            ]
          },
          "metadata": {
            "tags": []
          },
          "execution_count": 38
        }
      ]
    },
    {
      "metadata": {
        "id": "SYTloTr9NHHj",
        "colab_type": "code",
        "colab": {}
      },
      "cell_type": "code",
      "source": [
        "prop10 = (tab10/tab10.sum()).round(2)"
      ],
      "execution_count": 0,
      "outputs": []
    },
    {
      "metadata": {
        "id": "iC1lcn5uOXCp",
        "colab_type": "code",
        "outputId": "2fdac746-784b-4331-d37b-7e539fe6964e",
        "colab": {
          "base_uri": "https://localhost:8080/",
          "height": 173
        }
      },
      "cell_type": "code",
      "source": [
        "prop10"
      ],
      "execution_count": 40,
      "outputs": [
        {
          "output_type": "execute_result",
          "data": {
            "text/html": [
              "<div>\n",
              "<style scoped>\n",
              "    .dataframe tbody tr th:only-of-type {\n",
              "        vertical-align: middle;\n",
              "    }\n",
              "\n",
              "    .dataframe tbody tr th {\n",
              "        vertical-align: top;\n",
              "    }\n",
              "\n",
              "    .dataframe thead th {\n",
              "        text-align: right;\n",
              "    }\n",
              "</style>\n",
              "<table border=\"1\" class=\"dataframe\">\n",
              "  <thead>\n",
              "    <tr style=\"text-align: right;\">\n",
              "      <th></th>\n",
              "      <th>gene0</th>\n",
              "      <th>gene1</th>\n",
              "      <th>gene2</th>\n",
              "      <th>gene3</th>\n",
              "      <th>gene4</th>\n",
              "      <th>gene5</th>\n",
              "      <th>gene6</th>\n",
              "      <th>gene7</th>\n",
              "      <th>gene8</th>\n",
              "      <th>gene9</th>\n",
              "    </tr>\n",
              "  </thead>\n",
              "  <tbody>\n",
              "    <tr>\n",
              "      <th>A</th>\n",
              "      <td>0.38</td>\n",
              "      <td>0.36</td>\n",
              "      <td>0.35</td>\n",
              "      <td>0.37</td>\n",
              "      <td>0.35</td>\n",
              "      <td>0.33</td>\n",
              "      <td>0.33</td>\n",
              "      <td>0.34</td>\n",
              "      <td>0.38</td>\n",
              "      <td>0.27</td>\n",
              "    </tr>\n",
              "    <tr>\n",
              "      <th>C</th>\n",
              "      <td>0.16</td>\n",
              "      <td>0.16</td>\n",
              "      <td>0.13</td>\n",
              "      <td>0.15</td>\n",
              "      <td>0.15</td>\n",
              "      <td>0.15</td>\n",
              "      <td>0.16</td>\n",
              "      <td>0.16</td>\n",
              "      <td>0.14</td>\n",
              "      <td>0.16</td>\n",
              "    </tr>\n",
              "    <tr>\n",
              "      <th>G</th>\n",
              "      <td>0.17</td>\n",
              "      <td>0.17</td>\n",
              "      <td>0.23</td>\n",
              "      <td>0.19</td>\n",
              "      <td>0.22</td>\n",
              "      <td>0.22</td>\n",
              "      <td>0.20</td>\n",
              "      <td>0.21</td>\n",
              "      <td>0.20</td>\n",
              "      <td>0.20</td>\n",
              "    </tr>\n",
              "    <tr>\n",
              "      <th>T</th>\n",
              "      <td>0.29</td>\n",
              "      <td>0.31</td>\n",
              "      <td>0.30</td>\n",
              "      <td>0.29</td>\n",
              "      <td>0.27</td>\n",
              "      <td>0.30</td>\n",
              "      <td>0.30</td>\n",
              "      <td>0.29</td>\n",
              "      <td>0.28</td>\n",
              "      <td>0.36</td>\n",
              "    </tr>\n",
              "  </tbody>\n",
              "</table>\n",
              "</div>"
            ],
            "text/plain": [
              "   gene0  gene1  gene2  gene3  gene4  gene5  gene6  gene7  gene8  gene9\n",
              "A   0.38   0.36   0.35   0.37   0.35   0.33   0.33   0.34   0.38   0.27\n",
              "C   0.16   0.16   0.13   0.15   0.15   0.15   0.16   0.16   0.14   0.16\n",
              "G   0.17   0.17   0.23   0.19   0.22   0.22   0.20   0.21   0.20   0.20\n",
              "T   0.29   0.31   0.30   0.29   0.27   0.30   0.30   0.29   0.28   0.36"
            ]
          },
          "metadata": {
            "tags": []
          },
          "execution_count": 40
        }
      ]
    },
    {
      "metadata": {
        "id": "JVGEHeMvPaCs",
        "colab_type": "code",
        "colab": {}
      },
      "cell_type": "code",
      "source": [
        "p0 = np.array(prop10.mean(axis=1))"
      ],
      "execution_count": 0,
      "outputs": []
    },
    {
      "metadata": {
        "id": "Dw2npgf5Pn9u",
        "colab_type": "code",
        "outputId": "84c0017d-12b1-43c2-aebd-7eee914dbee3",
        "colab": {
          "base_uri": "https://localhost:8080/",
          "height": 34
        }
      },
      "cell_type": "code",
      "source": [
        "p0"
      ],
      "execution_count": 42,
      "outputs": [
        {
          "output_type": "execute_result",
          "data": {
            "text/plain": [
              "array([0.346, 0.152, 0.201, 0.299])"
            ]
          },
          "metadata": {
            "tags": []
          },
          "execution_count": 42
        }
      ]
    },
    {
      "metadata": {
        "id": "-iXCIUgtRdvC",
        "colab_type": "text"
      },
      "cell_type": "markdown",
      "source": [
        "So let’s suppose `p0` is the vector of multinomial probabilities for all the ten genes and use a Monte Carlo simulation to test whether the departures between the observed letter frequencies and expected values under this supposition are within a plausible range.\n",
        "\n",
        "We compute the expected counts by taking the outer product of the vector of probabilities p0 with the sums of nucleotide counts from each of the 10 columns, `cs`:"
      ]
    },
    {
      "metadata": {
        "id": "BoCQ6NsHRRuL",
        "colab_type": "code",
        "colab": {}
      },
      "cell_type": "code",
      "source": [
        "cs = pd.DataFrame(tab10.sum()).T"
      ],
      "execution_count": 0,
      "outputs": []
    },
    {
      "metadata": {
        "id": "EYRWQ4vZVpVn",
        "colab_type": "code",
        "outputId": "e2798876-5c6f-4b1f-a415-1381f2fa57fd",
        "colab": {
          "base_uri": "https://localhost:8080/",
          "height": 80
        }
      },
      "cell_type": "code",
      "source": [
        "cs"
      ],
      "execution_count": 44,
      "outputs": [
        {
          "output_type": "execute_result",
          "data": {
            "text/html": [
              "<div>\n",
              "<style scoped>\n",
              "    .dataframe tbody tr th:only-of-type {\n",
              "        vertical-align: middle;\n",
              "    }\n",
              "\n",
              "    .dataframe tbody tr th {\n",
              "        vertical-align: top;\n",
              "    }\n",
              "\n",
              "    .dataframe thead th {\n",
              "        text-align: right;\n",
              "    }\n",
              "</style>\n",
              "<table border=\"1\" class=\"dataframe\">\n",
              "  <thead>\n",
              "    <tr style=\"text-align: right;\">\n",
              "      <th></th>\n",
              "      <th>gene0</th>\n",
              "      <th>gene1</th>\n",
              "      <th>gene2</th>\n",
              "      <th>gene3</th>\n",
              "      <th>gene4</th>\n",
              "      <th>gene5</th>\n",
              "      <th>gene6</th>\n",
              "      <th>gene7</th>\n",
              "      <th>gene8</th>\n",
              "      <th>gene9</th>\n",
              "    </tr>\n",
              "  </thead>\n",
              "  <tbody>\n",
              "    <tr>\n",
              "      <th>0</th>\n",
              "      <td>1362</td>\n",
              "      <td>1134</td>\n",
              "      <td>246</td>\n",
              "      <td>1113</td>\n",
              "      <td>1932</td>\n",
              "      <td>2661</td>\n",
              "      <td>831</td>\n",
              "      <td>1515</td>\n",
              "      <td>1287</td>\n",
              "      <td>696</td>\n",
              "    </tr>\n",
              "  </tbody>\n",
              "</table>\n",
              "</div>"
            ],
            "text/plain": [
              "   gene0  gene1  gene2  gene3  gene4  gene5  gene6  gene7  gene8  gene9\n",
              "0   1362   1134    246   1113   1932   2661    831   1515   1287    696"
            ]
          },
          "metadata": {
            "tags": []
          },
          "execution_count": 44
        }
      ]
    },
    {
      "metadata": {
        "id": "dcwzYqXgXB7R",
        "colab_type": "code",
        "colab": {}
      },
      "cell_type": "code",
      "source": [
        "expectedtab10 = pd.DataFrame(index=('A','C','G','T'))"
      ],
      "execution_count": 0,
      "outputs": []
    },
    {
      "metadata": {
        "id": "hIy8YVqpRtWG",
        "colab_type": "code",
        "colab": {}
      },
      "cell_type": "code",
      "source": [
        "for column in cs:\n",
        "  for value in cs[column]:\n",
        "    expectedtab10[column]=[ value*x for x in p0 ]"
      ],
      "execution_count": 0,
      "outputs": []
    },
    {
      "metadata": {
        "id": "sOl1HbK0Tuzy",
        "colab_type": "code",
        "colab": {}
      },
      "cell_type": "code",
      "source": [
        "expectedtab10 = expectedtab10.round()"
      ],
      "execution_count": 0,
      "outputs": []
    },
    {
      "metadata": {
        "id": "HQF01LafTxQx",
        "colab_type": "code",
        "outputId": "d46c38a2-2491-42c0-cdbb-83c8856833b5",
        "colab": {
          "base_uri": "https://localhost:8080/",
          "height": 173
        }
      },
      "cell_type": "code",
      "source": [
        "expectedtab10"
      ],
      "execution_count": 48,
      "outputs": [
        {
          "output_type": "execute_result",
          "data": {
            "text/html": [
              "<div>\n",
              "<style scoped>\n",
              "    .dataframe tbody tr th:only-of-type {\n",
              "        vertical-align: middle;\n",
              "    }\n",
              "\n",
              "    .dataframe tbody tr th {\n",
              "        vertical-align: top;\n",
              "    }\n",
              "\n",
              "    .dataframe thead th {\n",
              "        text-align: right;\n",
              "    }\n",
              "</style>\n",
              "<table border=\"1\" class=\"dataframe\">\n",
              "  <thead>\n",
              "    <tr style=\"text-align: right;\">\n",
              "      <th></th>\n",
              "      <th>gene0</th>\n",
              "      <th>gene1</th>\n",
              "      <th>gene2</th>\n",
              "      <th>gene3</th>\n",
              "      <th>gene4</th>\n",
              "      <th>gene5</th>\n",
              "      <th>gene6</th>\n",
              "      <th>gene7</th>\n",
              "      <th>gene8</th>\n",
              "      <th>gene9</th>\n",
              "    </tr>\n",
              "  </thead>\n",
              "  <tbody>\n",
              "    <tr>\n",
              "      <th>A</th>\n",
              "      <td>471.0</td>\n",
              "      <td>392.0</td>\n",
              "      <td>85.0</td>\n",
              "      <td>385.0</td>\n",
              "      <td>668.0</td>\n",
              "      <td>921.0</td>\n",
              "      <td>288.0</td>\n",
              "      <td>524.0</td>\n",
              "      <td>445.0</td>\n",
              "      <td>241.0</td>\n",
              "    </tr>\n",
              "    <tr>\n",
              "      <th>C</th>\n",
              "      <td>207.0</td>\n",
              "      <td>172.0</td>\n",
              "      <td>37.0</td>\n",
              "      <td>169.0</td>\n",
              "      <td>294.0</td>\n",
              "      <td>404.0</td>\n",
              "      <td>126.0</td>\n",
              "      <td>230.0</td>\n",
              "      <td>196.0</td>\n",
              "      <td>106.0</td>\n",
              "    </tr>\n",
              "    <tr>\n",
              "      <th>G</th>\n",
              "      <td>274.0</td>\n",
              "      <td>228.0</td>\n",
              "      <td>49.0</td>\n",
              "      <td>224.0</td>\n",
              "      <td>388.0</td>\n",
              "      <td>535.0</td>\n",
              "      <td>167.0</td>\n",
              "      <td>305.0</td>\n",
              "      <td>259.0</td>\n",
              "      <td>140.0</td>\n",
              "    </tr>\n",
              "    <tr>\n",
              "      <th>T</th>\n",
              "      <td>407.0</td>\n",
              "      <td>339.0</td>\n",
              "      <td>74.0</td>\n",
              "      <td>333.0</td>\n",
              "      <td>578.0</td>\n",
              "      <td>796.0</td>\n",
              "      <td>248.0</td>\n",
              "      <td>453.0</td>\n",
              "      <td>385.0</td>\n",
              "      <td>208.0</td>\n",
              "    </tr>\n",
              "  </tbody>\n",
              "</table>\n",
              "</div>"
            ],
            "text/plain": [
              "   gene0  gene1  gene2  gene3  gene4  gene5  gene6  gene7  gene8  gene9\n",
              "A  471.0  392.0   85.0  385.0  668.0  921.0  288.0  524.0  445.0  241.0\n",
              "C  207.0  172.0   37.0  169.0  294.0  404.0  126.0  230.0  196.0  106.0\n",
              "G  274.0  228.0   49.0  224.0  388.0  535.0  167.0  305.0  259.0  140.0\n",
              "T  407.0  339.0   74.0  333.0  578.0  796.0  248.0  453.0  385.0  208.0"
            ]
          },
          "metadata": {
            "tags": []
          },
          "execution_count": 48
        }
      ]
    },
    {
      "metadata": {
        "id": "OqyRDvxdTxyh",
        "colab_type": "code",
        "colab": {}
      },
      "cell_type": "code",
      "source": [
        "randomtab10 = pd.DataFrame(index=('A','C','G','T'))"
      ],
      "execution_count": 0,
      "outputs": []
    },
    {
      "metadata": {
        "id": "NTkxLL-MeHvf",
        "colab_type": "text"
      },
      "cell_type": "markdown",
      "source": [
        "We can now create a random table with the correct column sums using the rmultinom function. This table is generated according to the null hypothesis that the true proportions are given by `p0`."
      ]
    },
    {
      "metadata": {
        "id": "cybzkOSWcqXT",
        "colab_type": "code",
        "colab": {}
      },
      "cell_type": "code",
      "source": [
        "from scipy.stats import multinomial"
      ],
      "execution_count": 0,
      "outputs": []
    },
    {
      "metadata": {
        "id": "oTqyeDh-ZsUj",
        "colab_type": "code",
        "colab": {}
      },
      "cell_type": "code",
      "source": [
        "for column in cs:\n",
        "  for value in cs[column]:\n",
        "    randomtab10[column]=multinomial.rvs(n=value,p=p0)"
      ],
      "execution_count": 0,
      "outputs": []
    },
    {
      "metadata": {
        "id": "poJR1gQrWxQp",
        "colab_type": "code",
        "outputId": "f2d7b9a3-e426-47cf-8bf9-48df7d97f69a",
        "colab": {
          "base_uri": "https://localhost:8080/",
          "height": 173
        }
      },
      "cell_type": "code",
      "source": [
        "randomtab10"
      ],
      "execution_count": 52,
      "outputs": [
        {
          "output_type": "execute_result",
          "data": {
            "text/html": [
              "<div>\n",
              "<style scoped>\n",
              "    .dataframe tbody tr th:only-of-type {\n",
              "        vertical-align: middle;\n",
              "    }\n",
              "\n",
              "    .dataframe tbody tr th {\n",
              "        vertical-align: top;\n",
              "    }\n",
              "\n",
              "    .dataframe thead th {\n",
              "        text-align: right;\n",
              "    }\n",
              "</style>\n",
              "<table border=\"1\" class=\"dataframe\">\n",
              "  <thead>\n",
              "    <tr style=\"text-align: right;\">\n",
              "      <th></th>\n",
              "      <th>gene0</th>\n",
              "      <th>gene1</th>\n",
              "      <th>gene2</th>\n",
              "      <th>gene3</th>\n",
              "      <th>gene4</th>\n",
              "      <th>gene5</th>\n",
              "      <th>gene6</th>\n",
              "      <th>gene7</th>\n",
              "      <th>gene8</th>\n",
              "      <th>gene9</th>\n",
              "    </tr>\n",
              "  </thead>\n",
              "  <tbody>\n",
              "    <tr>\n",
              "      <th>A</th>\n",
              "      <td>448</td>\n",
              "      <td>399</td>\n",
              "      <td>84</td>\n",
              "      <td>376</td>\n",
              "      <td>646</td>\n",
              "      <td>920</td>\n",
              "      <td>300</td>\n",
              "      <td>511</td>\n",
              "      <td>411</td>\n",
              "      <td>229</td>\n",
              "    </tr>\n",
              "    <tr>\n",
              "      <th>C</th>\n",
              "      <td>210</td>\n",
              "      <td>168</td>\n",
              "      <td>36</td>\n",
              "      <td>178</td>\n",
              "      <td>288</td>\n",
              "      <td>396</td>\n",
              "      <td>133</td>\n",
              "      <td>261</td>\n",
              "      <td>203</td>\n",
              "      <td>112</td>\n",
              "    </tr>\n",
              "    <tr>\n",
              "      <th>G</th>\n",
              "      <td>287</td>\n",
              "      <td>234</td>\n",
              "      <td>46</td>\n",
              "      <td>222</td>\n",
              "      <td>419</td>\n",
              "      <td>566</td>\n",
              "      <td>152</td>\n",
              "      <td>272</td>\n",
              "      <td>280</td>\n",
              "      <td>158</td>\n",
              "    </tr>\n",
              "    <tr>\n",
              "      <th>T</th>\n",
              "      <td>417</td>\n",
              "      <td>333</td>\n",
              "      <td>80</td>\n",
              "      <td>337</td>\n",
              "      <td>579</td>\n",
              "      <td>779</td>\n",
              "      <td>246</td>\n",
              "      <td>471</td>\n",
              "      <td>393</td>\n",
              "      <td>197</td>\n",
              "    </tr>\n",
              "  </tbody>\n",
              "</table>\n",
              "</div>"
            ],
            "text/plain": [
              "   gene0  gene1  gene2  gene3  gene4  gene5  gene6  gene7  gene8  gene9\n",
              "A    448    399     84    376    646    920    300    511    411    229\n",
              "C    210    168     36    178    288    396    133    261    203    112\n",
              "G    287    234     46    222    419    566    152    272    280    158\n",
              "T    417    333     80    337    579    779    246    471    393    197"
            ]
          },
          "metadata": {
            "tags": []
          },
          "execution_count": 52
        }
      ]
    },
    {
      "metadata": {
        "id": "v-iBaLD3cqGR",
        "colab_type": "code",
        "outputId": "9f354ff6-7fcc-4d47-e246-f8bc03048882",
        "colab": {
          "base_uri": "https://localhost:8080/",
          "height": 80
        }
      },
      "cell_type": "code",
      "source": [
        "randomtab10.sum() == cs"
      ],
      "execution_count": 53,
      "outputs": [
        {
          "output_type": "execute_result",
          "data": {
            "text/html": [
              "<div>\n",
              "<style scoped>\n",
              "    .dataframe tbody tr th:only-of-type {\n",
              "        vertical-align: middle;\n",
              "    }\n",
              "\n",
              "    .dataframe tbody tr th {\n",
              "        vertical-align: top;\n",
              "    }\n",
              "\n",
              "    .dataframe thead th {\n",
              "        text-align: right;\n",
              "    }\n",
              "</style>\n",
              "<table border=\"1\" class=\"dataframe\">\n",
              "  <thead>\n",
              "    <tr style=\"text-align: right;\">\n",
              "      <th></th>\n",
              "      <th>gene0</th>\n",
              "      <th>gene1</th>\n",
              "      <th>gene2</th>\n",
              "      <th>gene3</th>\n",
              "      <th>gene4</th>\n",
              "      <th>gene5</th>\n",
              "      <th>gene6</th>\n",
              "      <th>gene7</th>\n",
              "      <th>gene8</th>\n",
              "      <th>gene9</th>\n",
              "    </tr>\n",
              "  </thead>\n",
              "  <tbody>\n",
              "    <tr>\n",
              "      <th>0</th>\n",
              "      <td>True</td>\n",
              "      <td>True</td>\n",
              "      <td>True</td>\n",
              "      <td>True</td>\n",
              "      <td>True</td>\n",
              "      <td>True</td>\n",
              "      <td>True</td>\n",
              "      <td>True</td>\n",
              "      <td>True</td>\n",
              "      <td>True</td>\n",
              "    </tr>\n",
              "  </tbody>\n",
              "</table>\n",
              "</div>"
            ],
            "text/plain": [
              "   gene0  gene1  gene2  gene3  gene4  gene5  gene6  gene7  gene8  gene9\n",
              "0   True   True   True   True   True   True   True   True   True   True"
            ]
          },
          "metadata": {
            "tags": []
          },
          "execution_count": 53
        }
      ]
    },
    {
      "metadata": {
        "id": "bnXEgY3URl9E",
        "colab_type": "text"
      },
      "cell_type": "markdown",
      "source": [
        "Now we repeat this B = 1000 times. For each table we compute our test statistic from Section 1.4.1 in Lecture 1 (the function stat) and store the results in the vector `simulstat`. Together, these values constitute our null distribution, as they were generated under the null hypothesis that `p0` is the vector of multinomial proportions for each of the 10 genes."
      ]
    },
    {
      "metadata": {
        "id": "0aQpfTbfUV83",
        "colab_type": "code",
        "colab": {}
      },
      "cell_type": "code",
      "source": [
        "simulstat = np.zeros(1000)"
      ],
      "execution_count": 0,
      "outputs": []
    },
    {
      "metadata": {
        "id": "5SgzPot_bnij",
        "colab_type": "code",
        "colab": {}
      },
      "cell_type": "code",
      "source": [
        "for i in range(1000):\n",
        "  for column in cs:\n",
        "    for value in cs[column]:\n",
        "      randomtab10[column]=multinomial.rvs(n=value,p=p0)\n",
        "  simulstat[i] = ((randomtab10-expectedtab10)**2/expectedtab10).values.sum()"
      ],
      "execution_count": 0,
      "outputs": []
    },
    {
      "metadata": {
        "id": "lhtzKTAPUVys",
        "colab_type": "code",
        "colab": {}
      },
      "cell_type": "code",
      "source": [
        "S1 = ((tab10-expectedtab10)**2/expectedtab10).values.sum()"
      ],
      "execution_count": 0,
      "outputs": []
    },
    {
      "metadata": {
        "id": "A4roNBB-e15q",
        "colab_type": "code",
        "outputId": "71cd3e7f-2782-4c39-c36b-25c11fb9dfbc",
        "colab": {
          "base_uri": "https://localhost:8080/",
          "height": 34
        }
      },
      "cell_type": "code",
      "source": [
        "S1"
      ],
      "execution_count": 57,
      "outputs": [
        {
          "output_type": "execute_result",
          "data": {
            "text/plain": [
              "70.79264053150476"
            ]
          },
          "metadata": {
            "tags": []
          },
          "execution_count": 57
        }
      ]
    },
    {
      "metadata": {
        "id": "NH74h3YPcMXd",
        "colab_type": "code",
        "outputId": "6e9c8043-42e2-491f-fe88-06fcc2af3480",
        "colab": {
          "base_uri": "https://localhost:8080/",
          "height": 34
        }
      },
      "cell_type": "code",
      "source": [
        "np.sum(simulstat >= S1)"
      ],
      "execution_count": 58,
      "outputs": [
        {
          "output_type": "execute_result",
          "data": {
            "text/plain": [
              "0"
            ]
          },
          "metadata": {
            "tags": []
          },
          "execution_count": 58
        }
      ]
    },
    {
      "metadata": {
        "id": "Z_9c7VBkew_h",
        "colab_type": "text"
      },
      "cell_type": "markdown",
      "source": [
        "The histogram is shown in Figure 2.7. We see that the probability of seeing a value as large as $S1=70.8$ is very small under the null model. It happened 0 times in our 1000 simulations that a value as big as `S1` occured. Thus the ten genes do not seem to come from the same multinomial model."
      ]
    },
    {
      "metadata": {
        "id": "ZTdeogofcDa8",
        "colab_type": "code",
        "outputId": "7e3c2c03-a330-43c1-ec8d-0feffb222a2d",
        "colab": {
          "base_uri": "https://localhost:8080/",
          "height": 299
        }
      },
      "cell_type": "code",
      "source": [
        "g = sns.distplot(simulstat, bins=20, kde=False)\n",
        "g.axvline(S1,color='red')\n",
        "g.axvline(np.quantile(simulstat,0.95),color='g',linestyle=\"--\")\n",
        "g.axvline(np.quantile(simulstat,0.99),color='b',linestyle=\"--\")"
      ],
      "execution_count": 59,
      "outputs": [
        {
          "output_type": "execute_result",
          "data": {
            "text/plain": [
              "<matplotlib.lines.Line2D at 0x7f907a10a390>"
            ]
          },
          "metadata": {
            "tags": []
          },
          "execution_count": 59
        },
        {
          "output_type": "display_data",
          "data": {
            "image/png": "[encoded data removed]",
            "text/plain": [
              "<Figure size 432x288 with 1 Axes>"
            ]
          },
          "metadata": {
            "tags": []
          }
        }
      ]
    },
    {
      "metadata": {
        "id": "pE3NHczbepcJ",
        "colab_type": "text"
      },
      "cell_type": "markdown",
      "source": [
        ">**Figure 2.7.**: Histogram of `simulstat`. The value of `S1` is marked by the vertical red line, those of the 0.95 and 0.99 quantiles (see next section) by the dotted lines."
      ]
    },
    {
      "metadata": {
        "id": "6aM3rKygfcAM",
        "colab_type": "text"
      },
      "cell_type": "markdown",
      "source": [
        "## 2.6. The $\\chi^2$ distribution\n",
        "----------\n",
        "\n",
        "In fact, we could have used statistical theory to come to the same conclusion without running these simulations. The theoretical distribution of the simulstat statistic is called the $\\chi^2$ (chi-squared) distribution (Strictly speaking, the distribution of simulstat is approximately described by a $\\chi^2$ distribution; the approximation is particularly good if the counts in the table are large.) with parameter 30 ($=10 \\times (4-1)$). We can use this for computing the probability of having a value as large as S1 = 70.1. As we just saw above, small probabilities are difficult to compute by Monte Carlo: the granularity of the computation is $1/B$, so we cannot estimate any probabilities smaller than that, and in fact the uncertainty of the estimate is larger. So if any theory is applicable, that tends to be useful. We can check how well theory and simulation match up in our case using another visual goodness-of-fit tool: the (QQ) plot. When comparing two distributions, whether from two different samples or from one sample versus a theoretical model, just looking at histograms is not informative enough. We use a method based on the quantiles of each of the distributions."
      ]
    },
    {
      "metadata": {
        "id": "2YfvJl15gl4O",
        "colab_type": "text"
      },
      "cell_type": "markdown",
      "source": [
        "### 2.6.1. Intermezzo: quantiles and the quantile-quantile plot\n",
        "\n",
        "In the previous chapter, we ordered the 100 sample values $x_{(1)}, x_{(2)}, .... , x_{(100)}$. Say we want the 22nd percentile. We can take any value between the 22nd and the 23rd value, i.e., any value that fulfills $x_{(22)} \\leq c_{0.22} \\leq x_{(23)}$ is acceptable as a 0.22 quantile ($c_{0.22}$). In other words $c_{0.22}$ is defined by:\n",
        "\n",
        "$ \\frac{\\#x'_{i}s \\leq c_{0.22}}{n} = 0.22 $\n",
        "\n",
        "Now that we have an idea what quantiles are, we can do the quantile-quantile plot. We plot the quantiles of the simulstat values, which we simulated under the null hypothesis, against the theoretical null distribution $\\chi^2_{30}$\n",
        " (Figure 2.8):"
      ]
    },
    {
      "metadata": {
        "id": "3Fe_mlYziDUV",
        "colab_type": "code",
        "colab": {}
      },
      "cell_type": "code",
      "source": [
        "from scipy.stats import probplot\n",
        "from scipy.stats import chi2\n"
      ],
      "execution_count": 0,
      "outputs": []
    },
    {
      "metadata": {
        "id": "zHyBwCUBoCJA",
        "colab_type": "code",
        "colab": {}
      },
      "cell_type": "code",
      "source": [
        "x,y=probplot(simulstat,dist=chi2,sparams=(30,))[0]"
      ],
      "execution_count": 0,
      "outputs": []
    },
    {
      "metadata": {
        "id": "AiDwtBfSol7S",
        "colab_type": "code",
        "outputId": "632df19a-e0c5-44c5-f821-508836c78324",
        "colab": {
          "base_uri": "https://localhost:8080/",
          "height": 299
        }
      },
      "cell_type": "code",
      "source": [
        "sns.scatterplot(x=x,y=y)"
      ],
      "execution_count": 62,
      "outputs": [
        {
          "output_type": "execute_result",
          "data": {
            "text/plain": [
              "<matplotlib.axes._subplots.AxesSubplot at 0x7f907ac7e438>"
            ]
          },
          "metadata": {
            "tags": []
          },
          "execution_count": 62
        },
        {
          "output_type": "display_data",
          "data": {
            "image/png": "[encoded data removed]",
            "text/plain": [
              "<Figure size 432x288 with 1 Axes>"
            ]
          },
          "metadata": {
            "tags": []
          }
        }
      ]
    },
    {
      "metadata": {
        "id": "caNw42QNq-R3",
        "colab_type": "text"
      },
      "cell_type": "markdown",
      "source": [
        "Having convinced ourselves that simulstat is well described by a $\\chi^2_{30}$ distribution, we can use that to compute our $p$-value, i.e., the probability that under the null hypothesis (counts are distributed as multinomial with probabilities $p_A=0.35, p_C=0.15, p_G=0.2, p_T=0.3$ we observe a value as high as S1=70.1:"
      ]
    },
    {
      "metadata": {
        "id": "EaNUqG7KrFz9",
        "colab_type": "code",
        "outputId": "1e2f86a4-5868-4d62-b84c-909e1ee5f424",
        "colab": {
          "base_uri": "https://localhost:8080/",
          "height": 34
        }
      },
      "cell_type": "code",
      "source": [
        "chi2.pdf(S1,df=30)"
      ],
      "execution_count": 63,
      "outputs": [
        {
          "output_type": "execute_result",
          "data": {
            "text/plain": [
              "1.1790947465346944e-05"
            ]
          },
          "metadata": {
            "tags": []
          },
          "execution_count": 63
        }
      ]
    },
    {
      "metadata": {
        "id": "1i19rj8RtA0p",
        "colab_type": "text"
      },
      "cell_type": "markdown",
      "source": [
        "With such a small $p$-value, the null hypothesis seems improbable. Note how this computation did not require the 1000 simulations and was faster."
      ]
    },
    {
      "metadata": {
        "id": "2eE3_WX6tfDq",
        "colab_type": "text"
      },
      "cell_type": "markdown",
      "source": [
        "## 2.7. Chargaff's rule\n",
        "---------\n",
        "\n",
        "The most important pattern in the nucleotide frequencies was discovered by Chargaff ([Elson and Chargaff 1952](https://link.springer.com/article/10.1007/BF02170221)).\n",
        "\n",
        " \n",
        "Long before DNA sequencing was available, using the weight of the molecules, he asked whether the nucleotides occurred at equal frequencies. He called this the tetranucleotide hypothesis. We would translate that into asking whether $p_A=p_C=p_G=p_T$.\n",
        "\n",
        "Unfortunately, Chargaff only published the percentages of the mass present in different organisms for each of the nucleotides, not the measurements themselves.\n"
      ]
    },
    {
      "metadata": {
        "id": "Jy9brRbCH3JR",
        "colab_type": "code",
        "colab": {}
      },
      "cell_type": "code",
      "source": [
        ""
      ],
      "execution_count": 0,
      "outputs": []
    },
    {
      "metadata": {
        "id": "RM0yYUAPrcAd",
        "colab_type": "code",
        "outputId": "f5ff46ed-f3a0-41f8-944b-c2aa2fc9838b",
        "colab": {
          "base_uri": "https://localhost:8080/",
          "height": 309
        }
      },
      "cell_type": "code",
      "source": [
        "!wget https://github.com/nekrut/msmb_python/raw/master/data/ChargaffTable.csv"
      ],
      "execution_count": 64,
      "outputs": [
        {
          "output_type": "stream",
          "text": [
            "--2019-04-17 16:41:17--  https://github.com/nekrut/msmb_python/raw/master/data/ChargaffTable.csv\n",
            "Resolving github.com (github.com)... 192.30.255.112, 192.30.255.113\n",
            "Connecting to github.com (github.com)|192.30.255.112|:443... connected.\n",
            "HTTP request sent, awaiting response... 302 Found\n",
            "Location: https://raw.githubusercontent.com/nekrut/msmb_python/master/data/ChargaffTable.csv [following]\n",
            "--2019-04-17 16:41:17--  https://raw.githubusercontent.com/nekrut/msmb_python/master/data/ChargaffTable.csv\n",
            "Resolving raw.githubusercontent.com (raw.githubusercontent.com)... 151.101.0.133, 151.101.64.133, 151.101.128.133, ...\n",
            "Connecting to raw.githubusercontent.com (raw.githubusercontent.com)|151.101.0.133|:443... connected.\n",
            "HTTP request sent, awaiting response... 200 OK\n",
            "Length: 260 [text/plain]\n",
            "Saving to: ‘ChargaffTable.csv.1’\n",
            "\n",
            "ChargaffTable.csv.1 100%[===================>]     260  --.-KB/s    in 0s      \n",
            "\n",
            "2019-04-17 16:41:17 (34.5 MB/s) - ‘ChargaffTable.csv.1’ saved [260/260]\n",
            "\n"
          ],
          "name": "stdout"
        }
      ]
    },
    {
      "metadata": {
        "id": "UB6UlLr8Fk3q",
        "colab_type": "code",
        "colab": {}
      },
      "cell_type": "code",
      "source": [
        "chargaff = pd.read_csv('ChargaffTable.csv')"
      ],
      "execution_count": 0,
      "outputs": []
    },
    {
      "metadata": {
        "id": "Gh3KjYA7FxMZ",
        "colab_type": "code",
        "outputId": "bc1e406d-5803-4181-f9ca-3442a41ce76a",
        "colab": {
          "base_uri": "https://localhost:8080/",
          "height": 204
        }
      },
      "cell_type": "code",
      "source": [
        "chargaff.head()"
      ],
      "execution_count": 66,
      "outputs": [
        {
          "output_type": "execute_result",
          "data": {
            "text/html": [
              "<div>\n",
              "<style scoped>\n",
              "    .dataframe tbody tr th:only-of-type {\n",
              "        vertical-align: middle;\n",
              "    }\n",
              "\n",
              "    .dataframe tbody tr th {\n",
              "        vertical-align: top;\n",
              "    }\n",
              "\n",
              "    .dataframe thead th {\n",
              "        text-align: right;\n",
              "    }\n",
              "</style>\n",
              "<table border=\"1\" class=\"dataframe\">\n",
              "  <thead>\n",
              "    <tr style=\"text-align: right;\">\n",
              "      <th></th>\n",
              "      <th>Species</th>\n",
              "      <th>A</th>\n",
              "      <th>T</th>\n",
              "      <th>C</th>\n",
              "      <th>G</th>\n",
              "    </tr>\n",
              "  </thead>\n",
              "  <tbody>\n",
              "    <tr>\n",
              "      <th>0</th>\n",
              "      <td>Human-Thymus</td>\n",
              "      <td>30.9</td>\n",
              "      <td>29.4</td>\n",
              "      <td>19.9</td>\n",
              "      <td>19.8</td>\n",
              "    </tr>\n",
              "    <tr>\n",
              "      <th>1</th>\n",
              "      <td>Mycobac.Tuber</td>\n",
              "      <td>15.1</td>\n",
              "      <td>14.6</td>\n",
              "      <td>34.9</td>\n",
              "      <td>35.4</td>\n",
              "    </tr>\n",
              "    <tr>\n",
              "      <th>2</th>\n",
              "      <td>Chicken-Eryth.</td>\n",
              "      <td>28.8</td>\n",
              "      <td>29.2</td>\n",
              "      <td>20.5</td>\n",
              "      <td>21.5</td>\n",
              "    </tr>\n",
              "    <tr>\n",
              "      <th>3</th>\n",
              "      <td>Sheep-liver</td>\n",
              "      <td>29.3</td>\n",
              "      <td>29.3</td>\n",
              "      <td>20.5</td>\n",
              "      <td>20.7</td>\n",
              "    </tr>\n",
              "    <tr>\n",
              "      <th>4</th>\n",
              "      <td>Sea Urchin</td>\n",
              "      <td>32.8</td>\n",
              "      <td>32.1</td>\n",
              "      <td>17.7</td>\n",
              "      <td>17.3</td>\n",
              "    </tr>\n",
              "  </tbody>\n",
              "</table>\n",
              "</div>"
            ],
            "text/plain": [
              "          Species     A     T     C     G\n",
              "0    Human-Thymus  30.9  29.4  19.9  19.8\n",
              "1   Mycobac.Tuber  15.1  14.6  34.9  35.4\n",
              "2  Chicken-Eryth.  28.8  29.2  20.5  21.5\n",
              "3     Sheep-liver  29.3  29.3  20.5  20.7\n",
              "4      Sea Urchin  32.8  32.1  17.7  17.3"
            ]
          },
          "metadata": {
            "tags": []
          },
          "execution_count": 66
        }
      ]
    },
    {
      "metadata": {
        "id": "jr70iPDmIC5g",
        "colab_type": "code",
        "colab": {}
      },
      "cell_type": "code",
      "source": [
        "chargaff = pd.melt(chargaff,id_vars=['Species'],var_name='base',value_name='frequency')"
      ],
      "execution_count": 0,
      "outputs": []
    },
    {
      "metadata": {
        "id": "AcmKo6zhInjs",
        "colab_type": "code",
        "outputId": "4afee168-20a4-47e2-b05d-4807d258263d",
        "colab": {
          "base_uri": "https://localhost:8080/",
          "height": 204
        }
      },
      "cell_type": "code",
      "source": [
        "chargaff.head()"
      ],
      "execution_count": 68,
      "outputs": [
        {
          "output_type": "execute_result",
          "data": {
            "text/html": [
              "<div>\n",
              "<style scoped>\n",
              "    .dataframe tbody tr th:only-of-type {\n",
              "        vertical-align: middle;\n",
              "    }\n",
              "\n",
              "    .dataframe tbody tr th {\n",
              "        vertical-align: top;\n",
              "    }\n",
              "\n",
              "    .dataframe thead th {\n",
              "        text-align: right;\n",
              "    }\n",
              "</style>\n",
              "<table border=\"1\" class=\"dataframe\">\n",
              "  <thead>\n",
              "    <tr style=\"text-align: right;\">\n",
              "      <th></th>\n",
              "      <th>Species</th>\n",
              "      <th>base</th>\n",
              "      <th>frequency</th>\n",
              "    </tr>\n",
              "  </thead>\n",
              "  <tbody>\n",
              "    <tr>\n",
              "      <th>0</th>\n",
              "      <td>Human-Thymus</td>\n",
              "      <td>A</td>\n",
              "      <td>30.9</td>\n",
              "    </tr>\n",
              "    <tr>\n",
              "      <th>1</th>\n",
              "      <td>Mycobac.Tuber</td>\n",
              "      <td>A</td>\n",
              "      <td>15.1</td>\n",
              "    </tr>\n",
              "    <tr>\n",
              "      <th>2</th>\n",
              "      <td>Chicken-Eryth.</td>\n",
              "      <td>A</td>\n",
              "      <td>28.8</td>\n",
              "    </tr>\n",
              "    <tr>\n",
              "      <th>3</th>\n",
              "      <td>Sheep-liver</td>\n",
              "      <td>A</td>\n",
              "      <td>29.3</td>\n",
              "    </tr>\n",
              "    <tr>\n",
              "      <th>4</th>\n",
              "      <td>Sea Urchin</td>\n",
              "      <td>A</td>\n",
              "      <td>32.8</td>\n",
              "    </tr>\n",
              "  </tbody>\n",
              "</table>\n",
              "</div>"
            ],
            "text/plain": [
              "          Species base  frequency\n",
              "0    Human-Thymus    A       30.9\n",
              "1   Mycobac.Tuber    A       15.1\n",
              "2  Chicken-Eryth.    A       28.8\n",
              "3     Sheep-liver    A       29.3\n",
              "4      Sea Urchin    A       32.8"
            ]
          },
          "metadata": {
            "tags": []
          },
          "execution_count": 68
        }
      ]
    },
    {
      "metadata": {
        "id": "MkSpZxGbJC8F",
        "colab_type": "code",
        "outputId": "9e3d8eb5-f0a7-4437-e7b6-5c24fe0000bc",
        "colab": {
          "base_uri": "https://localhost:8080/",
          "height": 605
        }
      },
      "cell_type": "code",
      "source": [
        "sns.catplot(kind='bar',x='frequency',y='base',col=\"Species\",col_wrap=4,height=4,data=chargaff)"
      ],
      "execution_count": 69,
      "outputs": [
        {
          "output_type": "execute_result",
          "data": {
            "text/plain": [
              "<seaborn.axisgrid.FacetGrid at 0x7f907abd85c0>"
            ]
          },
          "metadata": {
            "tags": []
          },
          "execution_count": 69
        },
        {
          "output_type": "display_data",
          "data": {
            "image/png": "[encoded data removed]",
            "text/plain": [
              "<Figure size 1152x576 with 8 Axes>"
            ]
          },
          "metadata": {
            "tags": []
          }
        }
      ]
    },
    {
      "metadata": {
        "id": "TXl3fLzXpBKi",
        "colab_type": "text"
      },
      "cell_type": "markdown",
      "source": [
        "- Do these data seem to come from equally likely multinomial categories?\n",
        "- Can you suggest an alternative pattern?\n",
        "- Can you do a quantitative analysis of the pattern, perhaps inspired by the simulations above?\n",
        "\n",
        "Chargaff saw the answer to this question and postulated a pattern called base pairing, which ensured a perfect match of the amount of adenine (A) in the DNA of an organism to the amount of thymine (T). Similarly, whatever the amount of guanine (G), the amount of cytosine (C) would be the same. This is now called Chargaff’s rule. On the other hand, the amount of C/G in an organism could be quite different from that of A/T, with no obvious pattern across organisms. Based on Chargaff’s rule, we might define a statistic:\n",
        "\n",
        "$(p_C-p_G)^2+(p_A-p_T)^2,$\n",
        "\n",
        "summed over all rows of the table. We are going to look at a comparison between the data and what would occur if the nucleotides were ‘exchangeable’, in the sense that the probabilities observed in each row were in no particular order, so that there were no special relationship between the proportions of As and Ts, or between those of Cs and Gs."
      ]
    },
    {
      "metadata": {
        "id": "gowiqqxSSBA8",
        "colab_type": "text"
      },
      "cell_type": "markdown",
      "source": [
        "#### Color blindness and sex\n",
        "\n",
        "Deuteranopia is a form of red-green color blindness due to the fact that medium wavelength sensitive cones (green) are missing. A deuteranope can only distinguish 2 to 3 different hues, whereas somebody with normal vision sees 7 different hues. A survey for this type of color blindness in human subjects produced a two-way table crossing color blindness and sex."
      ]
    },
    {
      "metadata": {
        "id": "mqnBxXHtptDF",
        "colab_type": "code",
        "colab": {}
      },
      "cell_type": "code",
      "source": [
        "Deuteranopia = pd.DataFrame(index=['Deute','NonDeute'],data={'Men':[19,1981],'Women':[2,1998]})"
      ],
      "execution_count": 0,
      "outputs": []
    },
    {
      "metadata": {
        "id": "weSbgffFSwtJ",
        "colab_type": "code",
        "outputId": "abaabc83-18c4-46e8-f46d-15c6082b5213",
        "colab": {
          "base_uri": "https://localhost:8080/",
          "height": 111
        }
      },
      "cell_type": "code",
      "source": [
        "Deuteranopia"
      ],
      "execution_count": 71,
      "outputs": [
        {
          "output_type": "execute_result",
          "data": {
            "text/html": [
              "<div>\n",
              "<style scoped>\n",
              "    .dataframe tbody tr th:only-of-type {\n",
              "        vertical-align: middle;\n",
              "    }\n",
              "\n",
              "    .dataframe tbody tr th {\n",
              "        vertical-align: top;\n",
              "    }\n",
              "\n",
              "    .dataframe thead th {\n",
              "        text-align: right;\n",
              "    }\n",
              "</style>\n",
              "<table border=\"1\" class=\"dataframe\">\n",
              "  <thead>\n",
              "    <tr style=\"text-align: right;\">\n",
              "      <th></th>\n",
              "      <th>Men</th>\n",
              "      <th>Women</th>\n",
              "    </tr>\n",
              "  </thead>\n",
              "  <tbody>\n",
              "    <tr>\n",
              "      <th>Deute</th>\n",
              "      <td>19</td>\n",
              "      <td>2</td>\n",
              "    </tr>\n",
              "    <tr>\n",
              "      <th>NonDeute</th>\n",
              "      <td>1981</td>\n",
              "      <td>1998</td>\n",
              "    </tr>\n",
              "  </tbody>\n",
              "</table>\n",
              "</div>"
            ],
            "text/plain": [
              "           Men  Women\n",
              "Deute       19      2\n",
              "NonDeute  1981   1998"
            ]
          },
          "metadata": {
            "tags": []
          },
          "execution_count": 71
        }
      ]
    },
    {
      "metadata": {
        "id": "cLkSk9nFT5gO",
        "colab_type": "text"
      },
      "cell_type": "markdown",
      "source": [
        "How do we test whether there is a relationship between sex and the occurrence of color blindness? We postulate the null model with two independent binomials: one for sex and one for color blindness. Under this model we can estimate all the cells’ multinomial probabilities, and we can compare the observed counts to the expected ones. This is done through the `chi2_contingency` function in `scipy.stats` package:"
      ]
    },
    {
      "metadata": {
        "id": "9-YhG1p0TpEu",
        "colab_type": "code",
        "colab": {}
      },
      "cell_type": "code",
      "source": [
        "from scipy.stats import chi2_contingency"
      ],
      "execution_count": 0,
      "outputs": []
    },
    {
      "metadata": {
        "id": "EZejmPzjUMC_",
        "colab_type": "code",
        "colab": {}
      },
      "cell_type": "code",
      "source": [
        "chi2, p, dof, ex = chi2_contingency(Deuteranopia,correction=True)"
      ],
      "execution_count": 0,
      "outputs": []
    },
    {
      "metadata": {
        "id": "Eat4WbLaUZQb",
        "colab_type": "code",
        "outputId": "4e0f664a-11dd-4a6a-8086-5503cc6bdb77",
        "colab": {
          "base_uri": "https://localhost:8080/",
          "height": 34
        }
      },
      "cell_type": "code",
      "source": [
        "print('X-squared = {}, df = {}, p-value = {}'.format(chi2,dof,p))"
      ],
      "execution_count": 74,
      "outputs": [
        {
          "output_type": "stream",
          "text": [
            "X-squared = 12.254813963786066, df = 1, p-value = 0.000464059415494955\n"
          ],
          "name": "stdout"
        }
      ]
    },
    {
      "metadata": {
        "id": "RExplOfvVyWA",
        "colab_type": "text"
      },
      "cell_type": "markdown",
      "source": [
        "The small $p$ value tells us that we should expect to see such a table with only a very small probability under the null model – i.e., if the fractions of deuteranopic color blind among women and men were the same.\n",
        "\n",
        "We’ll see another test for this type of data called Fisher’s exact test (also known as the hypergeometric test) in section 10.3.2. This test is widely used for testing the over-representations of certain types of genes in a list of significantly expressed ones."
      ]
    },
    {
      "metadata": {
        "id": "zvVLi2X-sQvK",
        "colab_type": "text"
      },
      "cell_type": "markdown",
      "source": [
        "### 2.7.2. A special multinomial: Hardy-Weinberg equilibrium\n",
        "\n",
        "Here we highlight the use of a multinomial with three possible levels created by combining two alleles $M$ and $N$. Suppose that the overall frequency of allele M in the population is  $p$, so that of $N$ is $q=1-p$. The Hardy-Weinberg model looks at the relationship between $p$ and $q$ if there is independence of the frequency of both alleles in a genotype, the so-called Hardy-Weinberg equilibrium (HWE). This would be the case if there is random mating in a large population with equal distribution of the alleles among sexes. The probabilities of the three genotypes are then as follows:\n",
        "\n",
        "$p_{MM}=p^2, p_{NN}=q^2, p_{MN}=2pq\\ \\ \\ \\ (2.6)$\n",
        "\n",
        "WE only observe the frequencies $(n_{MM}, n_{NN}, n_{MN})$ for the genotrypes MM, NN, and MNand the total number $S=n_{MM}+n_{NN}+n_{MN}$. We can write the likelihood, i.e., he probability of the observed data when the probabilities of the categories are given by (2.6), using the multinomial formula:\n",
        "\n",
        "$P(n_{MM},n_{NN},n_{NM}|p)=\\binom{S}{n_{MM},n_{NN},n_{NM}}(p^2)^{n_{MM}}\\times(2pq)^{n_{MN}}\\times(q^2)^{n_{NN}},$\n",
        "\n",
        "and the log-likelihood under HWE:\n",
        "\n",
        "$L(p)=n_{MM}log(p^2)+n_{MN}log(2pq)+n_{NN}log(q^2)$\n",
        "\n",
        "The value of $p$ that maximizes the likelihood is:\n",
        "\n",
        "$p=\\frac {n_{MM}+n_{MN}/2} {S}.$\n",
        "\n",
        "See (Rice 2006 Chapter 8, Section 5) for the proof. Given the data $(n_{MM}, n_{NN}, n_{MN})$, the log-likelihood $L$ is a function of only one parameter, $p$. Figure 2.11 shows this log-likelihood function for different values of $p$\n",
        "for the 216th row of the Mourant data (This is genotype frequency data of blood group alleles comes from [Mourant, Kopec, and Domaniewska-Sobczak (1976)](https://www.ncbi.nlm.nih.gov/pubmed/61161).\n",
        "\n",
        "\n"
      ]
    },
    {
      "metadata": {
        "id": "ZQzK1O6m6lEW",
        "colab_type": "code",
        "colab": {}
      },
      "cell_type": "code",
      "source": [
        "Mourant=pd.read_csv('https://raw.githubusercontent.com/nekrut/msmb_python/master/data/Mourant.csv')"
      ],
      "execution_count": 0,
      "outputs": []
    },
    {
      "metadata": {
        "id": "EmpPW0IV7QEi",
        "colab_type": "code",
        "colab": {
          "base_uri": "https://localhost:8080/",
          "height": 142
        },
        "outputId": "d36473eb-bee4-40fa-fc0d-076b7d0df67d"
      },
      "cell_type": "code",
      "source": [
        "Mourant[213:216]"
      ],
      "execution_count": 76,
      "outputs": [
        {
          "output_type": "execute_result",
          "data": {
            "text/html": [
              "<div>\n",
              "<style scoped>\n",
              "    .dataframe tbody tr th:only-of-type {\n",
              "        vertical-align: middle;\n",
              "    }\n",
              "\n",
              "    .dataframe tbody tr th {\n",
              "        vertical-align: top;\n",
              "    }\n",
              "\n",
              "    .dataframe thead th {\n",
              "        text-align: right;\n",
              "    }\n",
              "</style>\n",
              "<table border=\"1\" class=\"dataframe\">\n",
              "  <thead>\n",
              "    <tr style=\"text-align: right;\">\n",
              "      <th></th>\n",
              "      <th>Population</th>\n",
              "      <th>Country</th>\n",
              "      <th>Total</th>\n",
              "      <th>MM</th>\n",
              "      <th>MN</th>\n",
              "      <th>NN</th>\n",
              "    </tr>\n",
              "  </thead>\n",
              "  <tbody>\n",
              "    <tr>\n",
              "      <th>213</th>\n",
              "      <td>Oceania</td>\n",
              "      <td>Micronesia</td>\n",
              "      <td>962</td>\n",
              "      <td>228</td>\n",
              "      <td>436</td>\n",
              "      <td>298</td>\n",
              "    </tr>\n",
              "    <tr>\n",
              "      <th>214</th>\n",
              "      <td>Oceania</td>\n",
              "      <td>Micronesia</td>\n",
              "      <td>678</td>\n",
              "      <td>36</td>\n",
              "      <td>229</td>\n",
              "      <td>413</td>\n",
              "    </tr>\n",
              "    <tr>\n",
              "      <th>215</th>\n",
              "      <td>Oceania</td>\n",
              "      <td>Tahiti</td>\n",
              "      <td>580</td>\n",
              "      <td>188</td>\n",
              "      <td>296</td>\n",
              "      <td>96</td>\n",
              "    </tr>\n",
              "  </tbody>\n",
              "</table>\n",
              "</div>"
            ],
            "text/plain": [
              "    Population     Country  Total   MM   MN   NN\n",
              "213    Oceania  Micronesia    962  228  436  298\n",
              "214    Oceania  Micronesia    678   36  229  413\n",
              "215    Oceania      Tahiti    580  188  296   96"
            ]
          },
          "metadata": {
            "tags": []
          },
          "execution_count": 76
        }
      ]
    },
    {
      "metadata": {
        "id": "zYFbEN3T7WVU",
        "colab_type": "code",
        "colab": {}
      },
      "cell_type": "code",
      "source": [
        "nMM = Mourant.MM[215]\n",
        "nMN = Mourant.MN[215]\n",
        "nNN = Mourant.NN[215]"
      ],
      "execution_count": 0,
      "outputs": []
    },
    {
      "metadata": {
        "id": "_nmlLwOR_uTv",
        "colab_type": "code",
        "colab": {}
      },
      "cell_type": "code",
      "source": [
        "def loglik(p,mm,mn,nn):\n",
        "  q = 1 - p\n",
        "  return 2*mm*np.log(p)+mn*np.log(2*p*q)+2*nn*np.log(q)"
      ],
      "execution_count": 0,
      "outputs": []
    },
    {
      "metadata": {
        "id": "xogTna4jAtyF",
        "colab_type": "code",
        "colab": {}
      },
      "cell_type": "code",
      "source": [
        "xv = np.arange(0.01,0.99, step=0.01)"
      ],
      "execution_count": 0,
      "outputs": []
    },
    {
      "metadata": {
        "id": "cF_lbGYBA-kp",
        "colab_type": "code",
        "colab": {
          "base_uri": "https://localhost:8080/",
          "height": 170
        },
        "outputId": "0f3b1bc4-b316-4a5b-cea0-be1fd20f837a"
      },
      "cell_type": "code",
      "source": [
        "xv"
      ],
      "execution_count": 80,
      "outputs": [
        {
          "output_type": "execute_result",
          "data": {
            "text/plain": [
              "array([0.01, 0.02, 0.03, 0.04, 0.05, 0.06, 0.07, 0.08, 0.09, 0.1 , 0.11,\n",
              "       0.12, 0.13, 0.14, 0.15, 0.16, 0.17, 0.18, 0.19, 0.2 , 0.21, 0.22,\n",
              "       0.23, 0.24, 0.25, 0.26, 0.27, 0.28, 0.29, 0.3 , 0.31, 0.32, 0.33,\n",
              "       0.34, 0.35, 0.36, 0.37, 0.38, 0.39, 0.4 , 0.41, 0.42, 0.43, 0.44,\n",
              "       0.45, 0.46, 0.47, 0.48, 0.49, 0.5 , 0.51, 0.52, 0.53, 0.54, 0.55,\n",
              "       0.56, 0.57, 0.58, 0.59, 0.6 , 0.61, 0.62, 0.63, 0.64, 0.65, 0.66,\n",
              "       0.67, 0.68, 0.69, 0.7 , 0.71, 0.72, 0.73, 0.74, 0.75, 0.76, 0.77,\n",
              "       0.78, 0.79, 0.8 , 0.81, 0.82, 0.83, 0.84, 0.85, 0.86, 0.87, 0.88,\n",
              "       0.89, 0.9 , 0.91, 0.92, 0.93, 0.94, 0.95, 0.96, 0.97, 0.98])"
            ]
          },
          "metadata": {
            "tags": []
          },
          "execution_count": 80
        }
      ]
    },
    {
      "metadata": {
        "id": "vdXb19XNA_bI",
        "colab_type": "code",
        "colab": {}
      },
      "cell_type": "code",
      "source": [
        "yv = loglik(xv,nMM,nMN,nNN)"
      ],
      "execution_count": 0,
      "outputs": []
    },
    {
      "metadata": {
        "id": "kLHrQTVABDwE",
        "colab_type": "code",
        "colab": {
          "base_uri": "https://localhost:8080/",
          "height": 442
        },
        "outputId": "98797f57-038c-4be7-d82d-2c6eaf36f109"
      },
      "cell_type": "code",
      "source": [
        "yv"
      ],
      "execution_count": 82,
      "outputs": [
        {
          "output_type": "execute_result",
          "data": {
            "text/plain": [
              "array([-2894.40736343, -2433.56681537, -2166.09943481, -1977.83412219,\n",
              "       -1832.99165004, -1715.63563323, -1617.26567748, -1532.80830869,\n",
              "       -1458.99149515, -1393.58154869, -1334.98567855, -1282.02821618,\n",
              "       -1233.81672018, -1189.65784423, -1149.00230199, -1111.40763112,\n",
              "       -1076.51226649, -1044.01703633, -1013.67166882,  -985.26476475,\n",
              "        -958.61622015,  -933.57141422,  -909.99669133,  -887.77580625,\n",
              "        -866.80709658,  -847.00121127,  -828.27926907,  -810.57135338,\n",
              "        -793.81527255,  -777.9555317 ,  -762.94247464,  -748.73156349,\n",
              "        -735.28277073,  -722.56006365,  -710.53096527,  -699.16617898,\n",
              "        -688.43926652,  -678.32637106,  -668.80597838,  -659.85871077,\n",
              "        -651.46714885,  -643.61567767,  -636.29035385,  -629.47879123,\n",
              "        -623.17006278,  -617.35461714,  -612.02420814,  -607.1718363 ,\n",
              "        -602.7917012 ,  -598.879164  ,  -595.43071963,  -592.44397809,\n",
              "        -589.91765476,  -587.85156952,  -586.24665482,  -585.10497277,\n",
              "        -584.42974186,  -584.22537349,  -584.49751944,  -585.25313088,\n",
              "        -586.50053026,  -588.2494976 ,  -590.51137279,  -593.29917632,\n",
              "        -596.62775092,  -600.51392765,  -604.97672007,  -610.03755186,\n",
              "        -615.72052342,  -622.05272539,  -629.0646079 ,  -636.79041736,\n",
              "        -645.26871524,  -654.54299711,  -664.66243547,  -675.68277642,\n",
              "        -687.66742944,  -700.68880153,  -714.82994383,  -730.18660231,\n",
              "        -746.86979653,  -765.00909829,  -784.75684996,  -806.29366502,\n",
              "        -829.8357078 ,  -855.64449037,  -884.04030812,  -915.42106587,\n",
              "        -950.28931671,  -989.29222646, -1033.28266818, -1083.41645418,\n",
              "       -1141.31483816, -1209.35313563, -1291.21487788, -1393.07221741,\n",
              "       -1526.49727588, -1717.47188052])"
            ]
          },
          "metadata": {
            "tags": []
          },
          "execution_count": 82
        }
      ]
    },
    {
      "metadata": {
        "id": "44dIgCo7BMIJ",
        "colab_type": "code",
        "colab": {
          "base_uri": "https://localhost:8080/",
          "height": 299
        },
        "outputId": "a7679750-0c86-4593-c252-f7ac9f7a0926"
      },
      "cell_type": "code",
      "source": [
        "imax = np.argmax(yv)\n",
        "g = sns.lineplot(x=xv, y=yv)\n",
        "g.axhline(yv[imax],color='purple')\n",
        "g.axvline(xv[imax],color='blue')"
      ],
      "execution_count": 83,
      "outputs": [
        {
          "output_type": "execute_result",
          "data": {
            "text/plain": [
              "<matplotlib.lines.Line2D at 0x7f90795f4be0>"
            ]
          },
          "metadata": {
            "tags": []
          },
          "execution_count": 83
        },
        {
          "output_type": "display_data",
          "data": {
            "image/png": "[encoded data removed]",
            "text/plain": [
              "<Figure size 432x288 with 1 Axes>"
            ]
          },
          "metadata": {
            "tags": []
          }
        }
      ]
    },
    {
      "metadata": {
        "id": "XXPJ9UtqKGBb",
        "colab_type": "code",
        "colab": {}
      },
      "cell_type": "code",
      "source": [
        ""
      ],
      "execution_count": 0,
      "outputs": []
    },
    {
      "metadata": {
        "id": "C7I0vuDtLNQT",
        "colab_type": "text"
      },
      "cell_type": "markdown",
      "source": [
        "The maximum likelihood estimate for the probabilities in the multinomial is also obtained by using the observed frequencies as in the binomial case, however the estimates have to account for the relationships between the three probabilities. We can compute \n",
        "$\\hat{p}_{MM}, \\hat{p}_{MN}, \\hat{p}_{NN}$:"
      ]
    },
    {
      "metadata": {
        "id": "UvBC9IdFKF_G",
        "colab_type": "code",
        "colab": {}
      },
      "cell_type": "code",
      "source": [
        "phat = (nMM+0.5*nMN)/(nMM+nMN+nNN)"
      ],
      "execution_count": 0,
      "outputs": []
    },
    {
      "metadata": {
        "id": "yjaFBfjJKF8j",
        "colab_type": "code",
        "colab": {
          "base_uri": "https://localhost:8080/",
          "height": 34
        },
        "outputId": "bad834ef-66f1-4683-fdd8-dc44cdddd864"
      },
      "cell_type": "code",
      "source": [
        "phat"
      ],
      "execution_count": 94,
      "outputs": [
        {
          "output_type": "execute_result",
          "data": {
            "text/plain": [
              "0.5793103448275863"
            ]
          },
          "metadata": {
            "tags": []
          },
          "execution_count": 94
        }
      ]
    },
    {
      "metadata": {
        "id": "mgGVU7BBKF6T",
        "colab_type": "code",
        "colab": {}
      },
      "cell_type": "code",
      "source": [
        "pMM = phat**2\n",
        "qhat = 1 - phat"
      ],
      "execution_count": 0,
      "outputs": []
    },
    {
      "metadata": {
        "id": "_rCG41cQL6mJ",
        "colab_type": "text"
      },
      "cell_type": "markdown",
      "source": [
        "The expected values under Hardy-Weinberg equilibrium are then:"
      ]
    },
    {
      "metadata": {
        "id": "S5BcX6rFJifP",
        "colab_type": "code",
        "colab": {
          "base_uri": "https://localhost:8080/",
          "height": 34
        },
        "outputId": "b7036021-63f5-40cb-e7fc-f6f1bbc4162f"
      },
      "cell_type": "code",
      "source": [
        "np.array([nMM,nMN,nNN]).sum()*np.array([phat**2,2*phat*qhat,qhat**2])"
      ],
      "execution_count": 95,
      "outputs": [
        {
          "output_type": "execute_result",
          "data": {
            "text/plain": [
              "array([194.64827586, 282.70344828, 102.64827586])"
            ]
          },
          "metadata": {
            "tags": []
          },
          "execution_count": 95
        }
      ]
    },
    {
      "metadata": {
        "id": "-qy_08IJNJMc",
        "colab_type": "text"
      },
      "cell_type": "markdown",
      "source": [
        "which we can compare to the observed values above. We can see that they are quite close to the observed values. We could further test whether the observed values allow us to reject the Hardy-Weinberg model, either by doing a simulation or a $\\chi^2$ test as above. A visual evaluation of the goodness-of-fit of Hardy-Weinberg was designed by de Finetti (Finetti 1926; Cannings and Edwards 1968). It places every sample at a point whose coordinates are given by the proportions of each of the different alleles."
      ]
    },
    {
      "metadata": {
        "id": "xj9_STPSMYdQ",
        "colab_type": "code",
        "colab": {}
      },
      "cell_type": "code",
      "source": [
        ""
      ],
      "execution_count": 0,
      "outputs": []
    }
  ]
}