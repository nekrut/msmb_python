{
  "nbformat": 4,
  "nbformat_minor": 0,
  "metadata": {
    "colab": {
      "name": "L2_stat_mod.ipynb",
      "version": "0.3.2",
      "provenance": [],
      "collapsed_sections": [
        "kPAcR5WmzCl6"
      ],
      "include_colab_link": true
    },
    "kernelspec": {
      "name": "python3",
      "display_name": "Python 3"
    }
  },
  "cells": [
    {
      "cell_type": "markdown",
      "metadata": {
        "id": "view-in-github",
        "colab_type": "text"
      },
      "source": [
        "<a href=\"https://colab.research.google.com/github/nekrut/msmb_python/blob/master/chapter2.ipynb\" target=\"_parent\"><img src=\"https://colab.research.google.com/assets/colab-badge.svg\" alt=\"Open In Colab\"/></a>"
      ]
    },
    {
      "metadata": {
        "id": "Exm8yJN0ybjN",
        "colab_type": "code",
        "outputId": "7b0287d9-3395-4321-9d19-a8353f44237d",
        "colab": {
          "base_uri": "https://localhost:8080/",
          "height": 360
        }
      },
      "cell_type": "code",
      "source": [
        "# Make sure we have latest seaborn\n",
        "!pip install seaborn --upgrade"
      ],
      "execution_count": 2,
      "outputs": [
        {
          "output_type": "stream",
          "text": [
            "Collecting seaborn\n",
            "\u001b[?25l  Downloading https://files.pythonhosted.org/packages/a8/76/220ba4420459d9c4c9c9587c6ce607bf56c25b3d3d2de62056efe482dadc/seaborn-0.9.0-py3-none-any.whl (208kB)\n",
            "\r\u001b[K    4% |█▋                              | 10kB 13.4MB/s eta 0:00:01\r\u001b[K    9% |███▏                            | 20kB 1.8MB/s eta 0:00:01\r\u001b[K    14% |████▊                           | 30kB 2.6MB/s eta 0:00:01\r\u001b[K    19% |██████▎                         | 40kB 1.7MB/s eta 0:00:01\r\u001b[K    24% |███████▉                        | 51kB 2.1MB/s eta 0:00:01\r\u001b[K    29% |█████████▌                      | 61kB 2.5MB/s eta 0:00:01\r\u001b[K    34% |███████████                     | 71kB 2.9MB/s eta 0:00:01\r\u001b[K    39% |████████████▋                   | 81kB 3.2MB/s eta 0:00:01\r\u001b[K    44% |██████████████▏                 | 92kB 3.6MB/s eta 0:00:01\r\u001b[K    49% |███████████████▊                | 102kB 2.8MB/s eta 0:00:01\r\u001b[K    54% |█████████████████▎              | 112kB 2.8MB/s eta 0:00:01\r\u001b[K    59% |███████████████████             | 122kB 3.9MB/s eta 0:00:01\r\u001b[K    63% |████████████████████▌           | 133kB 3.9MB/s eta 0:00:01\r\u001b[K    68% |██████████████████████          | 143kB 7.3MB/s eta 0:00:01\r\u001b[K    73% |███████████████████████▋        | 153kB 7.4MB/s eta 0:00:01\r\u001b[K    78% |█████████████████████████▏      | 163kB 7.4MB/s eta 0:00:01\r\u001b[K    83% |██████████████████████████▊     | 174kB 7.3MB/s eta 0:00:01\r\u001b[K    88% |████████████████████████████▍   | 184kB 7.4MB/s eta 0:00:01\r\u001b[K    93% |██████████████████████████████  | 194kB 7.4MB/s eta 0:00:01\r\u001b[K    98% |███████████████████████████████▌| 204kB 34.2MB/s eta 0:00:01\r\u001b[K    100% |████████████████████████████████| 215kB 24.8MB/s \n",
            "\u001b[?25hRequirement already satisfied, skipping upgrade: matplotlib>=1.4.3 in /usr/local/lib/python3.6/dist-packages (from seaborn) (3.0.3)\n",
            "Requirement already satisfied, skipping upgrade: scipy>=0.14.0 in /usr/local/lib/python3.6/dist-packages (from seaborn) (1.2.1)\n",
            "Requirement already satisfied, skipping upgrade: numpy>=1.9.3 in /usr/local/lib/python3.6/dist-packages (from seaborn) (1.16.2)\n",
            "Requirement already satisfied, skipping upgrade: pandas>=0.15.2 in /usr/local/lib/python3.6/dist-packages (from seaborn) (0.23.4)\n",
            "Requirement already satisfied, skipping upgrade: python-dateutil>=2.1 in /usr/local/lib/python3.6/dist-packages (from matplotlib>=1.4.3->seaborn) (2.5.3)\n",
            "Requirement already satisfied, skipping upgrade: cycler>=0.10 in /usr/local/lib/python3.6/dist-packages (from matplotlib>=1.4.3->seaborn) (0.10.0)\n",
            "Requirement already satisfied, skipping upgrade: pyparsing!=2.0.4,!=2.1.2,!=2.1.6,>=2.0.1 in /usr/local/lib/python3.6/dist-packages (from matplotlib>=1.4.3->seaborn) (2.4.0)\n",
            "Requirement already satisfied, skipping upgrade: kiwisolver>=1.0.1 in /usr/local/lib/python3.6/dist-packages (from matplotlib>=1.4.3->seaborn) (1.0.1)\n",
            "Requirement already satisfied, skipping upgrade: pytz>=2011k in /usr/local/lib/python3.6/dist-packages (from pandas>=0.15.2->seaborn) (2018.9)\n",
            "Requirement already satisfied, skipping upgrade: six>=1.5 in /usr/local/lib/python3.6/dist-packages (from python-dateutil>=2.1->matplotlib>=1.4.3->seaborn) (1.11.0)\n",
            "Requirement already satisfied, skipping upgrade: setuptools in /usr/local/lib/python3.6/dist-packages (from kiwisolver>=1.0.1->matplotlib>=1.4.3->seaborn) (40.9.0)\n",
            "Installing collected packages: seaborn\n",
            "  Found existing installation: seaborn 0.7.1\n",
            "    Uninstalling seaborn-0.7.1:\n",
            "      Successfully uninstalled seaborn-0.7.1\n",
            "Successfully installed seaborn-0.9.0\n"
          ],
          "name": "stdout"
        }
      ]
    },
    {
      "metadata": {
        "id": "ABI5bfUHzade",
        "colab_type": "code",
        "outputId": "b24c881b-519c-4616-80d2-7f9361ac73a3",
        "colab": {
          "base_uri": "https://localhost:8080/",
          "height": 34
        }
      },
      "cell_type": "code",
      "source": [
        "# Make sure we have latest numpy\n",
        "!pip install numpy --upgrade"
      ],
      "execution_count": 3,
      "outputs": [
        {
          "output_type": "stream",
          "text": [
            "Requirement already up-to-date: numpy in /usr/local/lib/python3.6/dist-packages (1.16.2)\n"
          ],
          "name": "stdout"
        }
      ]
    },
    {
      "metadata": {
        "id": "iPbOOmSKoQaj",
        "colab_type": "code",
        "outputId": "16a3eb20-97cb-41c9-cabd-6d890f855396",
        "colab": {
          "base_uri": "https://localhost:8080/",
          "height": 327
        }
      },
      "cell_type": "code",
      "source": [
        "!pip install pandas --upgrade"
      ],
      "execution_count": 4,
      "outputs": [
        {
          "output_type": "stream",
          "text": [
            "Collecting pandas\n",
            "\u001b[?25l  Downloading https://files.pythonhosted.org/packages/19/74/e50234bc82c553fecdbd566d8650801e3fe2d6d8c8d940638e3d8a7c5522/pandas-0.24.2-cp36-cp36m-manylinux1_x86_64.whl (10.1MB)\n",
            "\u001b[K    100% |████████████████████████████████| 10.1MB 2.9MB/s \n",
            "\u001b[?25hRequirement already satisfied, skipping upgrade: python-dateutil>=2.5.0 in /usr/local/lib/python3.6/dist-packages (from pandas) (2.5.3)\n",
            "Requirement already satisfied, skipping upgrade: numpy>=1.12.0 in /usr/local/lib/python3.6/dist-packages (from pandas) (1.16.2)\n",
            "Requirement already satisfied, skipping upgrade: pytz>=2011k in /usr/local/lib/python3.6/dist-packages (from pandas) (2018.9)\n",
            "Requirement already satisfied, skipping upgrade: six>=1.5 in /usr/local/lib/python3.6/dist-packages (from python-dateutil>=2.5.0->pandas) (1.11.0)\n",
            "Installing collected packages: pandas\n",
            "  Found existing installation: pandas 0.23.4\n",
            "    Uninstalling pandas-0.23.4:\n",
            "      Successfully uninstalled pandas-0.23.4\n",
            "Successfully installed pandas-0.24.2\n"
          ],
          "name": "stdout"
        },
        {
          "output_type": "display_data",
          "data": {
            "application/vnd.colab-display-data+json": {
              "pip_warning": {
                "packages": [
                  "pandas"
                ]
              }
            }
          },
          "metadata": {
            "tags": []
          }
        }
      ]
    },
    {
      "metadata": {
        "id": "EVI7c3huzc6Q",
        "colab_type": "code",
        "colab": {}
      },
      "cell_type": "code",
      "source": [
        "import numpy as np\n",
        "import pandas as pd\n",
        "from IPython.display import Image\n",
        "import matplotlib.pyplot as plt\n",
        "import matplotlib.ticker as ticker"
      ],
      "execution_count": 0,
      "outputs": []
    },
    {
      "metadata": {
        "id": "qS0lB_yxzjZ_",
        "colab_type": "code",
        "colab": {}
      },
      "cell_type": "code",
      "source": [
        "import seaborn as sns\n",
        "sns.set_context(\"notebook\", font_scale=1.5, rc={\"lines.linewidth\": 2.5})"
      ],
      "execution_count": 0,
      "outputs": []
    },
    {
      "metadata": {
        "id": "9PeF5G05yiJa",
        "colab_type": "text"
      },
      "cell_type": "markdown",
      "source": [
        "# 2. Statistical Modeling\n",
        "---------\n",
        "In the previous chapter, the knowledge of both the generative model and the values of the parameters provided us with probabilities we could use for decision making – for instance, whether we had really found an epitope. In many real situations, neither the generative model nor the parameters are known, and we will need to estimate them using the data we have collected. Statistical modeling works from the data upwards to a model that might plausibly explain the data (Even if we have found a model that perfectly explains all our current data, it could always be that reality is more complex. A new set of data lets us conclude that another model is needed, and may include the current model as a special case or approximation). This upward-reasoning step is called statistical inference. This chapter will show us some of the distributions and estimation mechanisms that serve as building blocks for inference. Although the examples in this chapter are all parametric (i.e., the statistical models only have a small number of unknown parameters), the principles we discuss will generalize."
      ]
    },
    {
      "metadata": {
        "id": "s2NM3Wt0znQb",
        "colab_type": "code",
        "outputId": "5f8c3af6-da88-47e1-b88f-36f84a47e9a1",
        "colab": {
          "base_uri": "https://localhost:8080/",
          "height": 317
        }
      },
      "cell_type": "code",
      "source": [
        "display(Image('http://web.stanford.edu/class/bios221/book/images/StatDiagram.png',width=300, height=300))\n"
      ],
      "execution_count": 3,
      "outputs": [
        {
          "output_type": "display_data",
          "data": {
            "image/png": "[encoded data removed]",
            "text/plain": [
              "<IPython.core.display.Image object>"
            ]
          },
          "metadata": {
            "tags": [],
            "image/png": {
              "width": 300,
              "height": 300
            }
          }
        }
      ]
    },
    {
      "metadata": {
        "id": "qsHINRw7zu1m",
        "colab_type": "text"
      },
      "cell_type": "markdown",
      "source": [
        "In a statistical setting, we start with the data $X$ and use them to estimate the parameters. These estimates are denoted by Greek letters with what we call hats on them, as in $\\hat{\\theta}$."
      ]
    },
    {
      "metadata": {
        "id": "kPAcR5WmzCl6",
        "colab_type": "text"
      },
      "cell_type": "markdown",
      "source": [
        "## 2.1. Goals of this chapter\n",
        "--------\n",
        "In this chapter we will:\n",
        "\n",
        " - See that there is a difference between two subjects that are often confused: “Probability” and “Statistics”.\n",
        " - Fit data to probability distributions using histograms and other visualization tricks.\n",
        " - Have a first encounter with an estimating procedure known as maximum likelihood through a simulation experiement.\n",
        " - Make inferences from data for which we have prior information. For this we will use the Bayesian paradigm which will involve new distributions with specially tailored properties. We will use simulations and see how Bayesian estimation differs from simple application of maximum likelihood.\n",
        " - Use statistical models and estimation to evaluate dependencies in binomial and multinomial distributions.\n",
        " - Analyse some historically interesting genomic data assembled into tables.\n",
        " - Make Markov chain models for dependent data.\n",
        " - Do a few concrete applications counting motifs in whole genomes and manipulate special Bioconductor classes dedicated to genomic data.\n",
        " \n",
        "Parameters are the key. $\\lambda$, $\\mu$, $\\theta$ are examples of parameters. he single parameter $\\lambda$ defines a Poisson distribution. The letter $\\mu$ is often used for the mean of the normal. More generally, we use the Greek letter $\\theta$ to designate a generic tuple of parameters necessary to specify a probability model. For instance, in the case of the binomial distribution, $\\theta = (n,p)$ comprises two numbers, a positive integer and a real number between 0 and 1.\n",
        "\n",
        "We saw in Chapter 1 that the knowledge of all the parameter values in the epitope example enabled us to use our probability model and test a null hypothesis based on the data we had at hand. We will see different approaches to statistical modeling through some real examples and computer simulations, but let’s start by making a distinction between two situations depending on how much information is available."
      ]
    },
    {
      "metadata": {
        "id": "AbfmsAm71Xra",
        "colab_type": "text"
      },
      "cell_type": "markdown",
      "source": [
        "## 2.2. The difference between statistical and probabilistic models\n",
        "---------\n",
        "A probabilistic analysis is possible when we know a good generative model for the randomness in the data, and we are provided with the parameters’ actual values.\n",
        "\n",
        "In the epitope example, knowing that false positives occured as Bernoulli(0.01) per position, the number of patients assayed and the length of the protein ensured that there were no unknown parameters.\n",
        "\n",
        "In such a case, we can use mathematical deduction to compute the probability of an event as schematized in Figure 2.1 below. In the epitope examples, we used the Poisson probability as our null model with the given parameter $\\lambda = 0.5$. We were able to conclude through mathematical deduction that the chances of seeing a maximum value of $7$ or larger was around $10^{-4}$ and thus that in fact the observed data were highly unlikely under that model (or “null hypothesis”).\n",
        "\n",
        "Now suppose that we know the number of patients and the length of the proteins (these are given by the experimental design) but not the distribution itself and the false positive rate. Once we observe data, we need to go up from the data to estimate both a probability model $F$ (Poisson, normal, binomial) and eventually the missing parameter(s) for that model. This is the type of statistical inference we will explain in this chapter."
      ]
    },
    {
      "metadata": {
        "id": "g7x2sDK-2J6p",
        "colab_type": "code",
        "outputId": "1974aebe-1413-451f-859c-74f8819618b8",
        "colab": {
          "base_uri": "https://localhost:8080/",
          "height": 317
        }
      },
      "cell_type": "code",
      "source": [
        "display(Image('http://web.stanford.edu/class/bios221/book/images/ProbaDiagram.png',width=300, height=300))"
      ],
      "execution_count": 4,
      "outputs": [
        {
          "output_type": "display_data",
          "data": {
            "image/png": "[encoded data removed]",
            "text/plain": [
              "<IPython.core.display.Image object>"
            ]
          },
          "metadata": {
            "tags": [],
            "image/png": {
              "width": 300,
              "height": 300
            }
          }
        }
      ]
    },
    {
      "metadata": {
        "id": "YcK-T8u22PTY",
        "colab_type": "text"
      },
      "cell_type": "markdown",
      "source": [
        ">**Figure 2.1**. The probabilistic model we obtained in Chapter 1. The data are represented as $x$ in green. We can use the observed data to compute the probability of observing $x$ when we know the true value of $\\theta$.\n",
        "\n"
      ]
    },
    {
      "metadata": {
        "id": "E-oEcWvp3Obv",
        "colab_type": "text"
      },
      "cell_type": "markdown",
      "source": [
        "## 2.3. A simple example of statistical modeling\n",
        "-------\n",
        "Start with the data\n",
        "\n",
        "There are two parts to the modeling procedure. First we need a reasonable probability distribution to model the data generation process. As we saw in Chapter 1, discrete count data may be modeled by simple probability distributions such as binomial, multinomial or Poisson distributions. The normal distribution, or bell shaped curve, is often a good model for continuous measurements. Distributions can also be more complicated mixtures of these elementary ones (more on this in Chapter 4).\n",
        "\n",
        "Let’s revisit the epitope example from the previous chapter, starting without the tricky outlier."
      ]
    },
    {
      "metadata": {
        "id": "tfAr9XHj2OkP",
        "colab_type": "code",
        "outputId": "8b5fe84a-49f6-45e0-9a31-d287fccc6854",
        "colab": {
          "base_uri": "https://localhost:8080/",
          "height": 122
        }
      },
      "cell_type": "code",
      "source": [
        "!pip install pyreadr"
      ],
      "execution_count": 5,
      "outputs": [
        {
          "output_type": "stream",
          "text": [
            "Collecting pyreadr\n",
            "\u001b[?25l  Downloading https://files.pythonhosted.org/packages/2f/2b/71a465ec4dd33736fe8764ad9940579c03427c3c6d24c6e2b38716ea4ac4/pyreadr-0.1.9-cp36-cp36m-manylinux1_x86_64.whl (256kB)\n",
            "\u001b[K    100% |████████████████████████████████| 266kB 7.3MB/s \n",
            "\u001b[?25hInstalling collected packages: pyreadr\n",
            "Successfully installed pyreadr-0.1.9\n"
          ],
          "name": "stdout"
        }
      ]
    },
    {
      "metadata": {
        "id": "271FjGJU7MhP",
        "colab_type": "code",
        "outputId": "08a3a8cb-01d1-4717-8065-9f2f3e704780",
        "colab": {
          "base_uri": "https://localhost:8080/",
          "height": 289
        }
      },
      "cell_type": "code",
      "source": [
        "!wget https://github.com/nekrut/msmb_python/raw/master/data/e100.RData"
      ],
      "execution_count": 6,
      "outputs": [
        {
          "output_type": "stream",
          "text": [
            "--2019-04-16 13:18:55--  https://github.com/nekrut/msmb_python/raw/master/data/e100.RData\n",
            "Resolving github.com (github.com)... 192.30.253.112, 192.30.253.113\n",
            "Connecting to github.com (github.com)|192.30.253.112|:443... connected.\n",
            "HTTP request sent, awaiting response... 302 Found\n",
            "Location: https://raw.githubusercontent.com/nekrut/msmb_python/master/data/e100.RData [following]\n",
            "--2019-04-16 13:18:55--  https://raw.githubusercontent.com/nekrut/msmb_python/master/data/e100.RData\n",
            "Resolving raw.githubusercontent.com (raw.githubusercontent.com)... 151.101.0.133, 151.101.64.133, 151.101.128.133, ...\n",
            "Connecting to raw.githubusercontent.com (raw.githubusercontent.com)|151.101.0.133|:443... connected.\n",
            "HTTP request sent, awaiting response... 200 OK\n",
            "Length: 129 [application/octet-stream]\n",
            "Saving to: ‘e100.RData’\n",
            "\n",
            "\re100.RData            0%[                    ]       0  --.-KB/s               \re100.RData          100%[===================>]     129  --.-KB/s    in 0s      \n",
            "\n",
            "2019-04-16 13:18:55 (5.87 MB/s) - ‘e100.RData’ saved [129/129]\n",
            "\n"
          ],
          "name": "stdout"
        }
      ]
    },
    {
      "metadata": {
        "id": "QkQpt_Cb7Owr",
        "colab_type": "code",
        "colab": {}
      },
      "cell_type": "code",
      "source": [
        "import pyreadr\n",
        "df = pyreadr.read_r('e100.RData')['e100']"
      ],
      "execution_count": 0,
      "outputs": []
    },
    {
      "metadata": {
        "id": "Sr427cej7Vxz",
        "colab_type": "code",
        "colab": {}
      },
      "cell_type": "code",
      "source": [
        "e99 = df[df['e100']<7]"
      ],
      "execution_count": 0,
      "outputs": []
    },
    {
      "metadata": {
        "id": "gysWaWmv8T8Y",
        "colab_type": "text"
      },
      "cell_type": "markdown",
      "source": [
        "Goodness-of-fit : visual evaluation\n",
        "\n",
        "Our first step is to find a fit from candidate distributions; this requires consulting graphical and quantitative goodness-of-fit plots. For discrete data, we can plot a barplot of frequencies (for continuous data, we would look at the histogram) as in Figure 2.2:"
      ]
    },
    {
      "metadata": {
        "id": "AqeBI7gx7gXG",
        "colab_type": "code",
        "outputId": "bb2a070e-be56-4dbd-956b-7ef20b6e4796",
        "colab": {
          "base_uri": "https://localhost:8080/",
          "height": 321
        }
      },
      "cell_type": "code",
      "source": [
        "sns.countplot(e99['e100'], color='g', alpha=0.5)"
      ],
      "execution_count": 9,
      "outputs": [
        {
          "output_type": "execute_result",
          "data": {
            "text/plain": [
              "<matplotlib.axes._subplots.AxesSubplot at 0x7ff34a6e4b70>"
            ]
          },
          "metadata": {
            "tags": []
          },
          "execution_count": 9
        },
        {
          "output_type": "display_data",
          "data": {
            "image/png": "[encoded data removed]",
            "text/plain": [
              "<Figure size 432x288 with 1 Axes>"
            ]
          },
          "metadata": {
            "tags": []
          }
        }
      ]
    },
    {
      "metadata": {
        "id": "qTpB7IJMCpyY",
        "colab_type": "text"
      },
      "cell_type": "markdown",
      "source": [
        ">**Figure 2.2.** The observed distribution of the epitope data without the outlier."
      ]
    },
    {
      "metadata": {
        "id": "fn0aWlybC2Bf",
        "colab_type": "text"
      },
      "cell_type": "markdown",
      "source": [
        "However, it is hard to decide which theoretical distribution fits the data best without using a comparison. One visual goodness-of-fit diagram is known as the rootogram (Cleveland 1988); it hangs the bars with the observed counts from the theoretical red points. If the counts correspond exactly to their theoretical values, the bottom of the boxes will align exactly with the horizontal axis."
      ]
    },
    {
      "metadata": {
        "id": "YMqdSsYmO_25",
        "colab_type": "code",
        "colab": {}
      },
      "cell_type": "code",
      "source": [
        "mlest = e99['e100'].mean()"
      ],
      "execution_count": 0,
      "outputs": []
    },
    {
      "metadata": {
        "id": "7ND6PyXvPFGT",
        "colab_type": "code",
        "outputId": "8999662a-3c98-44b1-ff23-b621e072f716",
        "colab": {
          "base_uri": "https://localhost:8080/",
          "height": 321
        }
      },
      "cell_type": "code",
      "source": [
        "from scipy.stats import poisson\n",
        "k = np.arange(e99['e100'].max()+1)\n",
        "sns.countplot(e99['e100'], order=k, color='g', alpha=0.5)\n",
        "plt.plot(k, poisson.pmf(k, mlest)*len(e99), 'go', markersize=9)"
      ],
      "execution_count": 11,
      "outputs": [
        {
          "output_type": "execute_result",
          "data": {
            "text/plain": [
              "[<matplotlib.lines.Line2D at 0x7ff322bd9320>]"
            ]
          },
          "metadata": {
            "tags": []
          },
          "execution_count": 11
        },
        {
          "output_type": "display_data",
          "data": {
            "image/png": "[encoded data removed]",
            "text/plain": [
              "<Figure size 432x288 with 1 Axes>"
            ]
          },
          "metadata": {
            "tags": []
          }
        }
      ]
    },
    {
      "metadata": {
        "id": "ZLLUP8NgR2qq",
        "colab_type": "text"
      },
      "cell_type": "markdown",
      "source": [
        "We see that the rootogram for e99 seems to fit the Poisson model reasonably well. But remember, to make this happen we removed the outlier. The Poisson is completely determined by one parameter, often called the Poisson mean $\\lambda$. In most cases where we can guess the data follows a Poisson distribution, we will need to estimate the Poisson parameter from the data.\n",
        "\n",
        "The parameter is called the Poisson mean because it is the mean of the theoretical distribution and, as it turns out, is estimated by the sample mean. This overloading of the word is confusing to everyone.\n",
        "\n",
        "The most common way of estimating $\\lambda$ is to choose the value $\\hat{\\lambda}$ that makes the observed data the most likely. This is called the maximum likelihood estimator (Rice 2006 Chapter 8, Section 5), often abbreviated MLE. We will illustrate this rather paradoxical idea in the next section.\n",
        "\n",
        "Although we above took out the extreme observation before taking a guess at the probability distribution, we are going to return to the data with it for the rest of our analysis. In practice we would not know whether there is an outlier, and which data point(s) it is / they are. The effect of leaving it in is to make our estimate of the mean higher. In turns this would make it more likely that we’d observe a value of 7 under the null model, resulting in a larger p-value. So, if the resulting p-value is small even with the outlier included, we are assured that our analysis is up to something real. We call such a tactic being conservative: we err on the side of caution, of not detecting something.\n",
        "\n",
        "#### Estimating the parameter of the Poisson distribution\n",
        "\n",
        "What value for the Poisson mean makes the data the most probable? In a first step, we tally the outcomes:"
      ]
    },
    {
      "metadata": {
        "id": "SOr9xJxcOdFc",
        "colab_type": "code",
        "outputId": "2791dece-101d-4804-a192-e75e7c7d778e",
        "colab": {
          "base_uri": "https://localhost:8080/",
          "height": 102
        }
      },
      "cell_type": "code",
      "source": [
        "df['e100'].value_counts()"
      ],
      "execution_count": 12,
      "outputs": [
        {
          "output_type": "execute_result",
          "data": {
            "text/plain": [
              "0.0    58\n",
              "1.0    34\n",
              "2.0     7\n",
              "7.0     1\n",
              "Name: e100, dtype: int64"
            ]
          },
          "metadata": {
            "tags": []
          },
          "execution_count": 12
        }
      ]
    },
    {
      "metadata": {
        "id": "BKdJ0jK7Sy3o",
        "colab_type": "text"
      },
      "cell_type": "markdown",
      "source": [
        "Then we are going to try out different values for the Poisson mean and see which one gives the best fit to our data. If the mean $\\lambda$ of the Poisson distribution were 3, the counts would look something like this:"
      ]
    },
    {
      "metadata": {
        "id": "_Qfb4LGlSri-",
        "colab_type": "code",
        "colab": {}
      },
      "cell_type": "code",
      "source": [
        "x,y = np.unique(poisson.rvs(mu=3,size=100),return_counts=True)"
      ],
      "execution_count": 0,
      "outputs": []
    },
    {
      "metadata": {
        "id": "1cpvR4_HUIf2",
        "colab_type": "code",
        "outputId": "0ae31420-20f4-4679-d30c-9cb411b37dfb",
        "colab": {
          "base_uri": "https://localhost:8080/",
          "height": 34
        }
      },
      "cell_type": "code",
      "source": [
        "x"
      ],
      "execution_count": 14,
      "outputs": [
        {
          "output_type": "execute_result",
          "data": {
            "text/plain": [
              "array([0, 1, 2, 3, 4, 5, 6, 8, 9])"
            ]
          },
          "metadata": {
            "tags": []
          },
          "execution_count": 14
        }
      ]
    },
    {
      "metadata": {
        "id": "isE1gMLrUJX8",
        "colab_type": "code",
        "outputId": "4d144f6a-549d-4540-b83e-503131f7d64d",
        "colab": {
          "base_uri": "https://localhost:8080/",
          "height": 34
        }
      },
      "cell_type": "code",
      "source": [
        "y"
      ],
      "execution_count": 15,
      "outputs": [
        {
          "output_type": "execute_result",
          "data": {
            "text/plain": [
              "array([ 7, 10, 32, 17, 15, 12,  2,  3,  2])"
            ]
          },
          "metadata": {
            "tags": []
          },
          "execution_count": 15
        }
      ]
    },
    {
      "metadata": {
        "id": "Gtie6gUCUdYJ",
        "colab_type": "text"
      },
      "cell_type": "markdown",
      "source": [
        "which has many more 2’s and 3’s than we see in our data. So we see that $\\lambda=3$ is unlikely to have produced our data, as the counts do not match up so well."
      ]
    },
    {
      "metadata": {
        "id": "IyzVJy8WUodQ",
        "colab_type": "text"
      },
      "cell_type": "markdown",
      "source": [
        "&#9757;  Repeat this simulation with different values of $\\lambda$ Can you find one that gives counts close to the oberved ones just by trial and error?"
      ]
    },
    {
      "metadata": {
        "id": "Fq7C8VwOVnch",
        "colab_type": "text"
      },
      "cell_type": "markdown",
      "source": [
        "So we could try out many possible values and proceed by brute force. However, we’ll do something more elegant and use a little mathematics to see which value maximizes the probability of observing our data. Let’s calculate the probability of seeing the data if the value of the Poisson parameter is $m$. Since we suppose the data derive from independent draws, this probability is simply the product of individual probabilities:\n",
        "\n",
        "$P(58 \\times 0, 34 \\times 1, 7 \\times 2, 1 \\times 7 | data\\ are\\ Poisson(m))=P(0)^{58} \\times P(1)^{34} \\times P(2)^{7} \\times P(7)^1\\\\$\n",
        "for $m=3$ we can compute this:"
      ]
    },
    {
      "metadata": {
        "id": "mkxbUYcZULmH",
        "colab_type": "code",
        "outputId": "d23f2b3e-6bc1-478a-8d30-d49963f2b045",
        "colab": {
          "base_uri": "https://localhost:8080/",
          "height": 34
        }
      },
      "cell_type": "code",
      "source": [
        "from numpy import prod\n",
        "prod(poisson.pmf([0,1,2,7],mu=3)**[58,34,7,1])"
      ],
      "execution_count": 16,
      "outputs": [
        {
          "output_type": "execute_result",
          "data": {
            "text/plain": [
              "1.3921432708903147e-110"
            ]
          },
          "metadata": {
            "tags": []
          },
          "execution_count": 16
        }
      ]
    },
    {
      "metadata": {
        "id": "idoyvv6FX7tc",
        "colab_type": "text"
      },
      "cell_type": "markdown",
      "source": [
        "&#9757; Compute the probability as above for $m=0,1,2$. Does $m$ have to be integer? Try computing the probability for $m=0.4$ for example."
      ]
    },
    {
      "metadata": {
        "id": "1IcqBZv6YSMO",
        "colab_type": "text"
      },
      "cell_type": "markdown",
      "source": [
        "This probability is the likelihood function of $\\lambda$, given the data, and we write it:\n",
        "\n",
        "$L(\\lambda,x=(k_1,k_2,k_3,...))=\\prod_{i=1}^{100}f(k_i)\\\\$\n",
        "\n",
        "where $L$ stands for likelihood and $f(k)=e^{-\\lambda}/k!$, the Poisson probability we saw earlier.\n",
        "\n",
        "Instead of working with multiplications of a hundred small numbers, it is convenient (That’s usually true both for pencil and paper and for computer calculations.)  to take the logarithm. Since the logarithm is strictly increasing, if there is a point where the logarithm achieves its maximum within an interval it will also be the maximum for the probability.\n",
        "\n",
        "Let’s start with a computational illustration. We compute the likelihood for many different values of the Poisson parameter. To do this we need to write a small function that computes the probability of the data for different values"
      ]
    },
    {
      "metadata": {
        "id": "qqirFc3mXQDW",
        "colab_type": "code",
        "colab": {}
      },
      "cell_type": "code",
      "source": [
        "def loglikelihood(l,data):\n",
        "  return np.sum(np.log(poisson.pmf(data,mu=l)))"
      ],
      "execution_count": 0,
      "outputs": []
    },
    {
      "metadata": {
        "id": "nVMPlnMd6dQE",
        "colab_type": "code",
        "colab": {}
      },
      "cell_type": "code",
      "source": [
        "lambdas=np.linspace(0.05,0.95,100)"
      ],
      "execution_count": 0,
      "outputs": []
    },
    {
      "metadata": {
        "id": "RXKpd2R66g1S",
        "colab_type": "code",
        "outputId": "609ca4cc-6736-462b-c80a-3b89155dc11c",
        "colab": {
          "base_uri": "https://localhost:8080/",
          "height": 357
        }
      },
      "cell_type": "code",
      "source": [
        "lambdas"
      ],
      "execution_count": 19,
      "outputs": [
        {
          "output_type": "execute_result",
          "data": {
            "text/plain": [
              "array([0.05      , 0.05909091, 0.06818182, 0.07727273, 0.08636364,\n",
              "       0.09545455, 0.10454545, 0.11363636, 0.12272727, 0.13181818,\n",
              "       0.14090909, 0.15      , 0.15909091, 0.16818182, 0.17727273,\n",
              "       0.18636364, 0.19545455, 0.20454545, 0.21363636, 0.22272727,\n",
              "       0.23181818, 0.24090909, 0.25      , 0.25909091, 0.26818182,\n",
              "       0.27727273, 0.28636364, 0.29545455, 0.30454545, 0.31363636,\n",
              "       0.32272727, 0.33181818, 0.34090909, 0.35      , 0.35909091,\n",
              "       0.36818182, 0.37727273, 0.38636364, 0.39545455, 0.40454545,\n",
              "       0.41363636, 0.42272727, 0.43181818, 0.44090909, 0.45      ,\n",
              "       0.45909091, 0.46818182, 0.47727273, 0.48636364, 0.49545455,\n",
              "       0.50454545, 0.51363636, 0.52272727, 0.53181818, 0.54090909,\n",
              "       0.55      , 0.55909091, 0.56818182, 0.57727273, 0.58636364,\n",
              "       0.59545455, 0.60454545, 0.61363636, 0.62272727, 0.63181818,\n",
              "       0.64090909, 0.65      , 0.65909091, 0.66818182, 0.67727273,\n",
              "       0.68636364, 0.69545455, 0.70454545, 0.71363636, 0.72272727,\n",
              "       0.73181818, 0.74090909, 0.75      , 0.75909091, 0.76818182,\n",
              "       0.77727273, 0.78636364, 0.79545455, 0.80454545, 0.81363636,\n",
              "       0.82272727, 0.83181818, 0.84090909, 0.85      , 0.85909091,\n",
              "       0.86818182, 0.87727273, 0.88636364, 0.89545455, 0.90454545,\n",
              "       0.91363636, 0.92272727, 0.93181818, 0.94090909, 0.95      ])"
            ]
          },
          "metadata": {
            "tags": []
          },
          "execution_count": 19
        }
      ]
    },
    {
      "metadata": {
        "id": "ggRdgcDGbM3l",
        "colab_type": "code",
        "outputId": "e6579a60-5642-4402-c61c-a3e90955e2bd",
        "colab": {
          "base_uri": "https://localhost:8080/",
          "height": 299
        }
      },
      "cell_type": "code",
      "source": [
        "g = sns.lineplot(x=lambdas, y=([ loglikelihood(x,df['e100']) for x in lambdas ]))\n",
        "g.axhline(loglikelihood(0.55,df['e100']),color='purple')\n",
        "g.axvline(np.mean(df['e100']),color='r')"
      ],
      "execution_count": 20,
      "outputs": [
        {
          "output_type": "execute_result",
          "data": {
            "text/plain": [
              "<matplotlib.lines.Line2D at 0x7ff322b9b5c0>"
            ]
          },
          "metadata": {
            "tags": []
          },
          "execution_count": 20
        },
        {
          "output_type": "display_data",
          "data": {
            "image/png": "[encoded data removed]",
            "text/plain": [
              "<Figure size 432x288 with 1 Axes>"
            ]
          },
          "metadata": {
            "tags": []
          }
        }
      ]
    },
    {
      "metadata": {
        "id": "sF8tzattMbLr",
        "colab_type": "text"
      },
      "cell_type": "markdown",
      "source": [
        "### 2.3.1. Classical statistics for classical data\n",
        "\n",
        "Here is a formal proof of our computational finding that the mean maximizes the (log-)likelihood:\n",
        "\n",
        "$logL(\\lambda,x)=\\sum_{i=1}^{100}-\\lambda+k_ilog\\lambda-log(k_i!)=\\\\\n",
        "= -100\\lambda+log\\lambda(\\sum_{i=i}^{100}k_i)+const.$\n",
        "\n",
        "We use the catch-all “const.” for terms that do not depend on $\\lambda$ (although they do depend on $x$, i.e., on the $k_i$).  To find the $\\lambda$ that maximizes this, we compute the derivative in $\\lambda$ and set it to zero:\n",
        "\n",
        "$\\frac{d}{d\\lambda}logL=-100+\\frac{1}{\\lambda}\\sum_{i=1}^{100}k_i=0//\n",
        "\\lambda=\\frac{1}{100}\\sum_{i=1}^{100}k_i=\\bar{k}\\\\$\n",
        "\n",
        "You have just seen the first steps of a *statistical approach*, starting \"from the ground up\" (from the data) to infer the model parameter(s): this is statistical *estimation* a parameter from data. Another important component will be choosing which family of distributions our data come from, that part is done by evaluating the *goodness of fit*. We will encounter this later.\n",
        "\n",
        "In the classical *statistical* testing framework, we consider one single model, that we call the *null model*, for the data. The null model formulates an “uninteresting” baseline, such as that all observations come from the same random distribution regardless of which group or treatment they are from. We then test whether there is something more interesting going on by computing the probability that the data are compatible with that model. Often, this is the best we can do, since we do not know in sufficient detail what the “interesting”, non-null or alternative model should be. In other situations, we have two competing models that we can compare, as we will see later.\n",
        "\n",
        "Another useful direction is regression. We may be interested in knowing how our count-based response variable (e.g., the result of counting sequencing reads) depends on a continuous covariate, say, temperature or nutrient concentration. You may already have encountered linear regression, where our model is that the response variable $y$ depends on the covariate $x$ via the equation $y=ax+b+e$, with parameters $a$ and $b$ (that we need to estimate), and with residuals $e$ whose probability model is a normal distribution (whose variance we usually also need to estimate). For count data the same type of regression model is possible, although the probability distribution for the residuals then needs to be non-normal. In that case we use the generalized linear models framework. We will see examples when studying RNA-Seq in Chapter 8 and another type of next generation sequencing data, 16S rRNA data, in Chapter 9.\n",
        "\n",
        "Knowing that our probability model involves a Poisson, binomial, multinomial distribution or another parametric family will enable us to have quick answers to questions about the parameters of the model and compute quantities such as p-values and confidence intervals."
      ]
    },
    {
      "metadata": {
        "id": "xceC9O4XPMO2",
        "colab_type": "text"
      },
      "cell_type": "markdown",
      "source": [
        "## 2.4. Binomial distributions and maximum likelihood\n",
        "-------\n",
        "In a binomial distribution there are two parameters: the number of trials $n$, which is typically known, and the probability $p$ of seeing a 1 in a trial. This probability is often unknown.\n",
        "\n",
        "### 2.4.1. An example\n",
        "\n",
        "Suppose we take a sample of $n=120$ males and test them for red-green colorblindness. We can code the data as 0 if the subject is not colorblind and 1 if he is. We summarize the data by the table:"
      ]
    },
    {
      "metadata": {
        "id": "-4KgIJ6UUnDQ",
        "colab_type": "code",
        "colab": {}
      },
      "cell_type": "code",
      "source": [
        "cb = np.hstack((np.zeros(110),np.ones(10)))"
      ],
      "execution_count": 0,
      "outputs": []
    },
    {
      "metadata": {
        "id": "tjAZ6kYwUoGD",
        "colab_type": "code",
        "outputId": "df49dd1f-ab47-4a89-b578-4b1061ff5202",
        "colab": {
          "base_uri": "https://localhost:8080/",
          "height": 153
        }
      },
      "cell_type": "code",
      "source": [
        "cb"
      ],
      "execution_count": 22,
      "outputs": [
        {
          "output_type": "execute_result",
          "data": {
            "text/plain": [
              "array([0., 0., 0., 0., 0., 0., 0., 0., 0., 0., 0., 0., 0., 0., 0., 0., 0.,\n",
              "       0., 0., 0., 0., 0., 0., 0., 0., 0., 0., 0., 0., 0., 0., 0., 0., 0.,\n",
              "       0., 0., 0., 0., 0., 0., 0., 0., 0., 0., 0., 0., 0., 0., 0., 0., 0.,\n",
              "       0., 0., 0., 0., 0., 0., 0., 0., 0., 0., 0., 0., 0., 0., 0., 0., 0.,\n",
              "       0., 0., 0., 0., 0., 0., 0., 0., 0., 0., 0., 0., 0., 0., 0., 0., 0.,\n",
              "       0., 0., 0., 0., 0., 0., 0., 0., 0., 0., 0., 0., 0., 0., 0., 0., 0.,\n",
              "       0., 0., 0., 0., 0., 0., 0., 0., 1., 1., 1., 1., 1., 1., 1., 1., 1.,\n",
              "       1.])"
            ]
          },
          "metadata": {
            "tags": []
          },
          "execution_count": 22
        }
      ]
    },
    {
      "metadata": {
        "id": "naqehAv2WZwT",
        "colab_type": "code",
        "outputId": "1709c956-16ee-47a2-af80-87598a510877",
        "colab": {
          "base_uri": "https://localhost:8080/",
          "height": 34
        }
      },
      "cell_type": "code",
      "source": [
        "np.unique(cb,return_counts=True)"
      ],
      "execution_count": 23,
      "outputs": [
        {
          "output_type": "execute_result",
          "data": {
            "text/plain": [
              "(array([0., 1.]), array([110,  10]))"
            ]
          },
          "metadata": {
            "tags": []
          },
          "execution_count": 23
        }
      ]
    },
    {
      "metadata": {
        "id": "1vDEZi3HYDh9",
        "colab_type": "text"
      },
      "cell_type": "markdown",
      "source": [
        "&#9757; Which value of $p$ is the most likely given these data?"
      ]
    },
    {
      "metadata": {
        "id": "qbNoGd_yYPqc",
        "colab_type": "text"
      },
      "cell_type": "markdown",
      "source": [
        "In this special case, your intuition may give you the estimate $\\hat p=\\frac{1}{12}$, which turns out to be the maximum likelihood estimate. We put a hat over the letter to remind us that this is not (necessarily) the underlying true value, but an estimate we make from the data.\n",
        "\n",
        "As before in the case of the Poisson, if we compute the likelihood for many possible $p$, we can plot it and see where its maximum falls:"
      ]
    },
    {
      "metadata": {
        "id": "9XxJAj-xXtiO",
        "colab_type": "code",
        "colab": {}
      },
      "cell_type": "code",
      "source": [
        "probs = np.arange(0,0.301,step=0.005)"
      ],
      "execution_count": 0,
      "outputs": []
    },
    {
      "metadata": {
        "id": "TK9zq-E9bnAw",
        "colab_type": "code",
        "colab": {}
      },
      "cell_type": "code",
      "source": [
        "from scipy.stats import binom\n",
        "likelihood=binom.pmf(k=np.sum(cb),n=len(cb),p=probs)"
      ],
      "execution_count": 0,
      "outputs": []
    },
    {
      "metadata": {
        "id": "bLatmn8BcUDQ",
        "colab_type": "code",
        "outputId": "d8a9c4bc-57dc-4c5b-ed20-a75c1e5eb2a7",
        "colab": {
          "base_uri": "https://localhost:8080/",
          "height": 321
        }
      },
      "cell_type": "code",
      "source": [
        "g=sns.lineplot(x=probs, y=likelihood)\n",
        "g.set(xlabel=\"probaility of success\",ylabel=\"likelihood\")"
      ],
      "execution_count": 26,
      "outputs": [
        {
          "output_type": "execute_result",
          "data": {
            "text/plain": [
              "[Text(0, 0.5, 'likelihood'), Text(0.5, 0, 'probaility of success')]"
            ]
          },
          "metadata": {
            "tags": []
          },
          "execution_count": 26
        },
        {
          "output_type": "display_data",
          "data": {
            "image/png": "[encoded data removed]",
            "text/plain": [
              "<Figure size 432x288 with 1 Axes>"
            ]
          },
          "metadata": {
            "tags": []
          }
        }
      ]
    },
    {
      "metadata": {
        "id": "jvnjelZ3frHL",
        "colab_type": "text"
      },
      "cell_type": "markdown",
      "source": [
        ">**Figure 2.5.** Plot of the likelihood as a function of the probabilities. The likelihood is a function on $[0,1]$; here we have zoomed into the range of $[0,0.3]$, as the likelihood is practically zero for larger values of $p$."
      ]
    },
    {
      "metadata": {
        "id": "HaVUPCprcq0J",
        "colab_type": "code",
        "outputId": "c4a932ad-2466-496a-e13f-96c07789e002",
        "colab": {
          "base_uri": "https://localhost:8080/",
          "height": 34
        }
      },
      "cell_type": "code",
      "source": [
        "probs[np.argmax(likelihood)]"
      ],
      "execution_count": 27,
      "outputs": [
        {
          "output_type": "execute_result",
          "data": {
            "text/plain": [
              "0.085"
            ]
          },
          "metadata": {
            "tags": []
          },
          "execution_count": 27
        }
      ]
    },
    {
      "metadata": {
        "id": "xyASR3XQfR1q",
        "colab_type": "text"
      },
      "cell_type": "markdown",
      "source": [
        "Note: 0.085 is not exactly the value we expected ($\\frac{1}{12}$), and that is because the set of values that we tried (in probs) did not include the exact value of \n",
        "$\\frac{1}{12}\\simeq0.0833$, so we obtained the next best one. We could use numeric optimisation methods to overcome that.\n",
        "\n",
        "#### Likelihood for the binomial distribution\n",
        " \n",
        "One can come up with different criteria than ML, which lead to other estimators: they all carry hats. We'll see other examples in Chapter 4. The likelihood and the probability are the same mathematical function, only interpreted in different ways – in one case, it tells us how probable it is to see a particular set of values of the data, given the parameters; in the other case, we consider the data as fixed, and ask for the particular parameter value that makes the data more likely. Suppose \n",
        "$n=300$, and we observe $y=40$ successes. Then, for the binomial distribution:\n",
        "\n",
        "$f(\\theta|n,y)=f(y|n,\\theta)=\\binom{n}{y}\\theta^y(1-\\theta)^{(n-y)}.\\\\$\n",
        "\n",
        "As $\\binom{n}{y}$ is very large (It's around $e^{115}$ , and this can be seen from Stirling’s formula.) we use the logarithm of the likelihood to give:\n",
        "\n",
        "$logF(\\theta|y)=115+40log(\\theta)+(300-40)log(1-\\theta)$.\n",
        "\n",
        "Here’s a function we use to calculate it:"
      ]
    },
    {
      "metadata": {
        "id": "lEfL8Cs2eBps",
        "colab_type": "code",
        "colab": {}
      },
      "cell_type": "code",
      "source": [
        "def loglikelihood(theta, n=300,k=40):\n",
        "  return(115+k*np.log(theta)+(n-k)*np.log(1-theta))"
      ],
      "execution_count": 0,
      "outputs": []
    },
    {
      "metadata": {
        "id": "QEQ9HCPviuv6",
        "colab_type": "code",
        "colab": {}
      },
      "cell_type": "code",
      "source": [
        "thetas=np.arange(0,1,step=0.001)"
      ],
      "execution_count": 0,
      "outputs": []
    },
    {
      "metadata": {
        "id": "5vPAMPVpi1zV",
        "colab_type": "code",
        "outputId": "0d8c2a96-6328-4c15-9016-9f5c66733249",
        "colab": {
          "base_uri": "https://localhost:8080/",
          "height": 333
        }
      },
      "cell_type": "code",
      "source": [
        "sns.lineplot(x=thetas,y=loglikelihood(thetas))"
      ],
      "execution_count": 30,
      "outputs": [
        {
          "output_type": "stream",
          "text": [
            "/usr/local/lib/python3.6/dist-packages/ipykernel_launcher.py:2: RuntimeWarning: divide by zero encountered in log\n",
            "  \n"
          ],
          "name": "stderr"
        },
        {
          "output_type": "execute_result",
          "data": {
            "text/plain": [
              "<matplotlib.axes._subplots.AxesSubplot at 0x7ff322bafb00>"
            ]
          },
          "metadata": {
            "tags": []
          },
          "execution_count": 30
        },
        {
          "output_type": "display_data",
          "data": {
            "image/png": "[encoded data removed]",
            "text/plain": [
              "<Figure size 432x288 with 1 Axes>"
            ]
          },
          "metadata": {
            "tags": []
          }
        }
      ]
    },
    {
      "metadata": {
        "id": "NS9-C05ql6Ut",
        "colab_type": "text"
      },
      "cell_type": "markdown",
      "source": [
        ">**Figure 2.6.** Plot of the log likelihood function for $n=300$ and $y=40$."
      ]
    },
    {
      "metadata": {
        "id": "3gYEQJS9mCSG",
        "colab_type": "text"
      },
      "cell_type": "markdown",
      "source": [
        "The maximum lies at 40/300 = 0.1333… , consistent with intuition, but we see that other values of $\\theta$ are almost equally likely, as the function is quite flat around the maximum. We will see in a later section how Bayesian methods allow us to use a range of values for $\\theta$."
      ]
    },
    {
      "metadata": {
        "id": "2v14L_-mbDVE",
        "colab_type": "text"
      },
      "cell_type": "markdown",
      "source": [
        "## 2.5. More boxes: multinomial data\n",
        "---------------"
      ]
    },
    {
      "metadata": {
        "id": "uxKEHixAbj1M",
        "colab_type": "text"
      },
      "cell_type": "markdown",
      "source": [
        "### 2.5.1. DNA count modeling: base pairs\n",
        "\n",
        "There are four basic molecules of DNA: A - adenine, C - cytosine, G - guanine, T - thymine. The nucleotides are classified into 2 groups: purines (A and G) and pyrimidines (C and T). The binomial would work as a model for the purine/pyrimidine groupings but not if we want to use A, C, G, T; for that we need the multinomial model from 1.4. Let’s look at noticeable patterns that occur in these frequencies."
      ]
    },
    {
      "metadata": {
        "id": "SXp9Q_ElbsoF",
        "colab_type": "text"
      },
      "cell_type": "markdown",
      "source": [
        "### 2.5.2. Nucleotide bias\n",
        "\n",
        "This section combines estimation and testing by simulation in a real example. Data from one strand of DNA for the genes of *Staphylococcus aureus* bacterium are available in a fasta file `staphsequence.ffn.txt`, which we can read with a function from the package [BioPython](https://biopython.org/):"
      ]
    },
    {
      "metadata": {
        "id": "KkQ6PTkajKGv",
        "colab_type": "code",
        "outputId": "b2159a83-eec6-4530-8446-9b50661ad75d",
        "colab": {
          "base_uri": "https://localhost:8080/",
          "height": 139
        }
      },
      "cell_type": "code",
      "source": [
        "pip install biopython"
      ],
      "execution_count": 31,
      "outputs": [
        {
          "output_type": "stream",
          "text": [
            "Collecting biopython\n",
            "\u001b[?25l  Downloading https://files.pythonhosted.org/packages/28/15/8ac646ff24cfa2588b4d5e5ea51e8d13f3d35806bd9498fbf40ef79026fd/biopython-1.73-cp36-cp36m-manylinux1_x86_64.whl (2.2MB)\n",
            "\u001b[K    100% |████████████████████████████████| 2.2MB 13.0MB/s \n",
            "\u001b[?25hRequirement already satisfied: numpy in /usr/local/lib/python3.6/dist-packages (from biopython) (1.16.2)\n",
            "Installing collected packages: biopython\n",
            "Successfully installed biopython-1.73\n"
          ],
          "name": "stdout"
        }
      ]
    },
    {
      "metadata": {
        "id": "wPfPVYCkdGv0",
        "colab_type": "code",
        "outputId": "54d60853-f589-4b8c-ccee-1ca5513abf96",
        "colab": {
          "base_uri": "https://localhost:8080/",
          "height": 204
        }
      },
      "cell_type": "code",
      "source": [
        "!wget https://raw.githubusercontent.com/nekrut/msmb_python/master/data/staphsequence.ffn.txt"
      ],
      "execution_count": 32,
      "outputs": [
        {
          "output_type": "stream",
          "text": [
            "--2019-04-16 13:19:29--  https://raw.githubusercontent.com/nekrut/msmb_python/master/data/staphsequence.ffn.txt\n",
            "Resolving raw.githubusercontent.com (raw.githubusercontent.com)... 151.101.0.133, 151.101.64.133, 151.101.128.133, ...\n",
            "Connecting to raw.githubusercontent.com (raw.githubusercontent.com)|151.101.0.133|:443... connected.\n",
            "HTTP request sent, awaiting response... 200 OK\n",
            "Length: 2788929 (2.7M) [text/plain]\n",
            "Saving to: ‘staphsequence.ffn.txt’\n",
            "\n",
            "\rstaphsequence.ffn.t   0%[                    ]       0  --.-KB/s               \rstaphsequence.ffn.t 100%[===================>]   2.66M  --.-KB/s    in 0.1s    \n",
            "\n",
            "2019-04-16 13:19:29 (25.8 MB/s) - ‘staphsequence.ffn.txt’ saved [2788929/2788929]\n",
            "\n"
          ],
          "name": "stdout"
        }
      ]
    },
    {
      "metadata": {
        "id": "2WFOy504deqY",
        "colab_type": "code",
        "colab": {}
      },
      "cell_type": "code",
      "source": [
        "from Bio import SeqIO\n",
        "with open('staphsequence.ffn.txt','r') as handle:\n",
        "  genes = list(SeqIO.parse(handle,\"fasta\"))"
      ],
      "execution_count": 0,
      "outputs": []
    },
    {
      "metadata": {
        "id": "IjQyZopLQhbW",
        "colab_type": "text"
      },
      "cell_type": "markdown",
      "source": [
        "Let's look at the first gene:"
      ]
    },
    {
      "metadata": {
        "id": "z4P8LMLOQmwL",
        "colab_type": "code",
        "outputId": "73f704fc-9138-4263-a58a-92019c47c90c",
        "colab": {
          "base_uri": "https://localhost:8080/",
          "height": 54
        }
      },
      "cell_type": "code",
      "source": [
        "genes[0]"
      ],
      "execution_count": 34,
      "outputs": [
        {
          "output_type": "execute_result",
          "data": {
            "text/plain": [
              "SeqRecord(seq=Seq('ATGTCGGAAAAAGAAATTTGGGAAAAAGTGCTTGAAATTGCTCAAGAAAAATTA...TAA', SingleLetterAlphabet()), id='lcl|NC_002952.2_cdsid_YP_039478.1', name='lcl|NC_002952.2_cdsid_YP_039478.1', description='lcl|NC_002952.2_cdsid_YP_039478.1 [gene=dnaA] [protein=chromosomal replication initiation protein] [protein_id=YP_039478.1] [location=517..1878]', dbxrefs=[])"
            ]
          },
          "metadata": {
            "tags": []
          },
          "execution_count": 34
        }
      ]
    },
    {
      "metadata": {
        "id": "QbjFrc-KQxKw",
        "colab_type": "code",
        "outputId": "41cf595b-3109-458e-cdc5-3ab168548375",
        "colab": {
          "base_uri": "https://localhost:8080/",
          "height": 34
        }
      },
      "cell_type": "code",
      "source": [
        "[genes[0].seq.count(x) for x in 'ACGT']"
      ],
      "execution_count": 35,
      "outputs": [
        {
          "output_type": "execute_result",
          "data": {
            "text/plain": [
              "[522, 219, 229, 392]"
            ]
          },
          "metadata": {
            "tags": []
          },
          "execution_count": 35
        }
      ]
    },
    {
      "metadata": {
        "id": "L4_uJ1RIRFGC",
        "colab_type": "text"
      },
      "cell_type": "markdown",
      "source": [
        "Due to their different physcal properties, evolutionary selection can act on the nucleotide frequencies. So we can ask whether, say, the first ten genes from these data come from the same multinomial. We do not have a prior reference, we just want to decide whether the nucleotides occur in the same proportions in the first 10 genes. If not, this would provide us with evidence for varying selective pressure on these ten genes."
      ]
    },
    {
      "metadata": {
        "id": "DwySiMTBj6ob",
        "colab_type": "code",
        "colab": {}
      },
      "cell_type": "code",
      "source": [
        "import pandas as pd\n",
        "tab10 = pd.DataFrame(index=('A','C','G','T'))"
      ],
      "execution_count": 0,
      "outputs": []
    },
    {
      "metadata": {
        "id": "usXTUEaLMfXh",
        "colab_type": "code",
        "colab": {}
      },
      "cell_type": "code",
      "source": [
        "for i, gene in enumerate(genes[:10]):\n",
        "  tab10['gene{}'.format(i)] = [gene.seq.count(x) for x in 'ACGT']"
      ],
      "execution_count": 0,
      "outputs": []
    },
    {
      "metadata": {
        "id": "6RYb_X9GNFED",
        "colab_type": "code",
        "outputId": "b3749d98-3bcd-421f-f1a5-f973f7d1a3aa",
        "colab": {
          "base_uri": "https://localhost:8080/",
          "height": 173
        }
      },
      "cell_type": "code",
      "source": [
        "tab10"
      ],
      "execution_count": 38,
      "outputs": [
        {
          "output_type": "execute_result",
          "data": {
            "text/html": [
              "<div>\n",
              "<style scoped>\n",
              "    .dataframe tbody tr th:only-of-type {\n",
              "        vertical-align: middle;\n",
              "    }\n",
              "\n",
              "    .dataframe tbody tr th {\n",
              "        vertical-align: top;\n",
              "    }\n",
              "\n",
              "    .dataframe thead th {\n",
              "        text-align: right;\n",
              "    }\n",
              "</style>\n",
              "<table border=\"1\" class=\"dataframe\">\n",
              "  <thead>\n",
              "    <tr style=\"text-align: right;\">\n",
              "      <th></th>\n",
              "      <th>gene0</th>\n",
              "      <th>gene1</th>\n",
              "      <th>gene2</th>\n",
              "      <th>gene3</th>\n",
              "      <th>gene4</th>\n",
              "      <th>gene5</th>\n",
              "      <th>gene6</th>\n",
              "      <th>gene7</th>\n",
              "      <th>gene8</th>\n",
              "      <th>gene9</th>\n",
              "    </tr>\n",
              "  </thead>\n",
              "  <tbody>\n",
              "    <tr>\n",
              "      <th>A</th>\n",
              "      <td>522</td>\n",
              "      <td>413</td>\n",
              "      <td>85</td>\n",
              "      <td>411</td>\n",
              "      <td>685</td>\n",
              "      <td>887</td>\n",
              "      <td>275</td>\n",
              "      <td>510</td>\n",
              "      <td>487</td>\n",
              "      <td>191</td>\n",
              "    </tr>\n",
              "    <tr>\n",
              "      <th>C</th>\n",
              "      <td>219</td>\n",
              "      <td>176</td>\n",
              "      <td>31</td>\n",
              "      <td>168</td>\n",
              "      <td>293</td>\n",
              "      <td>395</td>\n",
              "      <td>137</td>\n",
              "      <td>244</td>\n",
              "      <td>180</td>\n",
              "      <td>111</td>\n",
              "    </tr>\n",
              "    <tr>\n",
              "      <th>G</th>\n",
              "      <td>229</td>\n",
              "      <td>193</td>\n",
              "      <td>56</td>\n",
              "      <td>207</td>\n",
              "      <td>423</td>\n",
              "      <td>586</td>\n",
              "      <td>169</td>\n",
              "      <td>316</td>\n",
              "      <td>263</td>\n",
              "      <td>142</td>\n",
              "    </tr>\n",
              "    <tr>\n",
              "      <th>T</th>\n",
              "      <td>392</td>\n",
              "      <td>352</td>\n",
              "      <td>74</td>\n",
              "      <td>327</td>\n",
              "      <td>531</td>\n",
              "      <td>793</td>\n",
              "      <td>250</td>\n",
              "      <td>445</td>\n",
              "      <td>357</td>\n",
              "      <td>252</td>\n",
              "    </tr>\n",
              "  </tbody>\n",
              "</table>\n",
              "</div>"
            ],
            "text/plain": [
              "   gene0  gene1  gene2  gene3  gene4  gene5  gene6  gene7  gene8  gene9\n",
              "A    522    413     85    411    685    887    275    510    487    191\n",
              "C    219    176     31    168    293    395    137    244    180    111\n",
              "G    229    193     56    207    423    586    169    316    263    142\n",
              "T    392    352     74    327    531    793    250    445    357    252"
            ]
          },
          "metadata": {
            "tags": []
          },
          "execution_count": 38
        }
      ]
    },
    {
      "metadata": {
        "id": "SYTloTr9NHHj",
        "colab_type": "code",
        "colab": {}
      },
      "cell_type": "code",
      "source": [
        "prop10 = (tab10/tab10.sum()).round(2)"
      ],
      "execution_count": 0,
      "outputs": []
    },
    {
      "metadata": {
        "id": "iC1lcn5uOXCp",
        "colab_type": "code",
        "outputId": "8f5d848c-1239-4bda-e17b-a769519876fd",
        "colab": {
          "base_uri": "https://localhost:8080/",
          "height": 173
        }
      },
      "cell_type": "code",
      "source": [
        "prop10"
      ],
      "execution_count": 40,
      "outputs": [
        {
          "output_type": "execute_result",
          "data": {
            "text/html": [
              "<div>\n",
              "<style scoped>\n",
              "    .dataframe tbody tr th:only-of-type {\n",
              "        vertical-align: middle;\n",
              "    }\n",
              "\n",
              "    .dataframe tbody tr th {\n",
              "        vertical-align: top;\n",
              "    }\n",
              "\n",
              "    .dataframe thead th {\n",
              "        text-align: right;\n",
              "    }\n",
              "</style>\n",
              "<table border=\"1\" class=\"dataframe\">\n",
              "  <thead>\n",
              "    <tr style=\"text-align: right;\">\n",
              "      <th></th>\n",
              "      <th>gene0</th>\n",
              "      <th>gene1</th>\n",
              "      <th>gene2</th>\n",
              "      <th>gene3</th>\n",
              "      <th>gene4</th>\n",
              "      <th>gene5</th>\n",
              "      <th>gene6</th>\n",
              "      <th>gene7</th>\n",
              "      <th>gene8</th>\n",
              "      <th>gene9</th>\n",
              "    </tr>\n",
              "  </thead>\n",
              "  <tbody>\n",
              "    <tr>\n",
              "      <th>A</th>\n",
              "      <td>0.38</td>\n",
              "      <td>0.36</td>\n",
              "      <td>0.35</td>\n",
              "      <td>0.37</td>\n",
              "      <td>0.35</td>\n",
              "      <td>0.33</td>\n",
              "      <td>0.33</td>\n",
              "      <td>0.34</td>\n",
              "      <td>0.38</td>\n",
              "      <td>0.27</td>\n",
              "    </tr>\n",
              "    <tr>\n",
              "      <th>C</th>\n",
              "      <td>0.16</td>\n",
              "      <td>0.16</td>\n",
              "      <td>0.13</td>\n",
              "      <td>0.15</td>\n",
              "      <td>0.15</td>\n",
              "      <td>0.15</td>\n",
              "      <td>0.16</td>\n",
              "      <td>0.16</td>\n",
              "      <td>0.14</td>\n",
              "      <td>0.16</td>\n",
              "    </tr>\n",
              "    <tr>\n",
              "      <th>G</th>\n",
              "      <td>0.17</td>\n",
              "      <td>0.17</td>\n",
              "      <td>0.23</td>\n",
              "      <td>0.19</td>\n",
              "      <td>0.22</td>\n",
              "      <td>0.22</td>\n",
              "      <td>0.20</td>\n",
              "      <td>0.21</td>\n",
              "      <td>0.20</td>\n",
              "      <td>0.20</td>\n",
              "    </tr>\n",
              "    <tr>\n",
              "      <th>T</th>\n",
              "      <td>0.29</td>\n",
              "      <td>0.31</td>\n",
              "      <td>0.30</td>\n",
              "      <td>0.29</td>\n",
              "      <td>0.27</td>\n",
              "      <td>0.30</td>\n",
              "      <td>0.30</td>\n",
              "      <td>0.29</td>\n",
              "      <td>0.28</td>\n",
              "      <td>0.36</td>\n",
              "    </tr>\n",
              "  </tbody>\n",
              "</table>\n",
              "</div>"
            ],
            "text/plain": [
              "   gene0  gene1  gene2  gene3  gene4  gene5  gene6  gene7  gene8  gene9\n",
              "A   0.38   0.36   0.35   0.37   0.35   0.33   0.33   0.34   0.38   0.27\n",
              "C   0.16   0.16   0.13   0.15   0.15   0.15   0.16   0.16   0.14   0.16\n",
              "G   0.17   0.17   0.23   0.19   0.22   0.22   0.20   0.21   0.20   0.20\n",
              "T   0.29   0.31   0.30   0.29   0.27   0.30   0.30   0.29   0.28   0.36"
            ]
          },
          "metadata": {
            "tags": []
          },
          "execution_count": 40
        }
      ]
    },
    {
      "metadata": {
        "id": "JVGEHeMvPaCs",
        "colab_type": "code",
        "colab": {}
      },
      "cell_type": "code",
      "source": [
        "p0 = np.array(prop10.mean(axis=1))"
      ],
      "execution_count": 0,
      "outputs": []
    },
    {
      "metadata": {
        "id": "Dw2npgf5Pn9u",
        "colab_type": "code",
        "outputId": "70180049-e32a-45aa-911c-bd3548f867a5",
        "colab": {
          "base_uri": "https://localhost:8080/",
          "height": 34
        }
      },
      "cell_type": "code",
      "source": [
        "p0"
      ],
      "execution_count": 42,
      "outputs": [
        {
          "output_type": "execute_result",
          "data": {
            "text/plain": [
              "array([0.346, 0.152, 0.201, 0.299])"
            ]
          },
          "metadata": {
            "tags": []
          },
          "execution_count": 42
        }
      ]
    },
    {
      "metadata": {
        "id": "-iXCIUgtRdvC",
        "colab_type": "text"
      },
      "cell_type": "markdown",
      "source": [
        "So let’s suppose `p0` is the vector of multinomial probabilities for all the ten genes and use a Monte Carlo simulation to test whether the departures between the observed letter frequencies and expected values under this supposition are within a plausible range.\n",
        "\n",
        "We compute the expected counts by taking the outer product of the vector of probabilities p0 with the sums of nucleotide counts from each of the 10 columns, `cs`:"
      ]
    },
    {
      "metadata": {
        "id": "BoCQ6NsHRRuL",
        "colab_type": "code",
        "colab": {}
      },
      "cell_type": "code",
      "source": [
        "cs = pd.DataFrame(tab10.sum()).T"
      ],
      "execution_count": 0,
      "outputs": []
    },
    {
      "metadata": {
        "id": "EYRWQ4vZVpVn",
        "colab_type": "code",
        "outputId": "808fd5b6-9ba7-4f6b-dc3a-c15b8bfe1385",
        "colab": {
          "base_uri": "https://localhost:8080/",
          "height": 80
        }
      },
      "cell_type": "code",
      "source": [
        "cs"
      ],
      "execution_count": 44,
      "outputs": [
        {
          "output_type": "execute_result",
          "data": {
            "text/html": [
              "<div>\n",
              "<style scoped>\n",
              "    .dataframe tbody tr th:only-of-type {\n",
              "        vertical-align: middle;\n",
              "    }\n",
              "\n",
              "    .dataframe tbody tr th {\n",
              "        vertical-align: top;\n",
              "    }\n",
              "\n",
              "    .dataframe thead th {\n",
              "        text-align: right;\n",
              "    }\n",
              "</style>\n",
              "<table border=\"1\" class=\"dataframe\">\n",
              "  <thead>\n",
              "    <tr style=\"text-align: right;\">\n",
              "      <th></th>\n",
              "      <th>gene0</th>\n",
              "      <th>gene1</th>\n",
              "      <th>gene2</th>\n",
              "      <th>gene3</th>\n",
              "      <th>gene4</th>\n",
              "      <th>gene5</th>\n",
              "      <th>gene6</th>\n",
              "      <th>gene7</th>\n",
              "      <th>gene8</th>\n",
              "      <th>gene9</th>\n",
              "    </tr>\n",
              "  </thead>\n",
              "  <tbody>\n",
              "    <tr>\n",
              "      <th>0</th>\n",
              "      <td>1362</td>\n",
              "      <td>1134</td>\n",
              "      <td>246</td>\n",
              "      <td>1113</td>\n",
              "      <td>1932</td>\n",
              "      <td>2661</td>\n",
              "      <td>831</td>\n",
              "      <td>1515</td>\n",
              "      <td>1287</td>\n",
              "      <td>696</td>\n",
              "    </tr>\n",
              "  </tbody>\n",
              "</table>\n",
              "</div>"
            ],
            "text/plain": [
              "   gene0  gene1  gene2  gene3  gene4  gene5  gene6  gene7  gene8  gene9\n",
              "0   1362   1134    246   1113   1932   2661    831   1515   1287    696"
            ]
          },
          "metadata": {
            "tags": []
          },
          "execution_count": 44
        }
      ]
    },
    {
      "metadata": {
        "id": "dcwzYqXgXB7R",
        "colab_type": "code",
        "colab": {}
      },
      "cell_type": "code",
      "source": [
        "expectedtab10 = pd.DataFrame(index=('A','C','G','T'))"
      ],
      "execution_count": 0,
      "outputs": []
    },
    {
      "metadata": {
        "id": "hIy8YVqpRtWG",
        "colab_type": "code",
        "colab": {}
      },
      "cell_type": "code",
      "source": [
        "for column in cs:\n",
        "  for value in cs[column]:\n",
        "    expectedtab10[column]=[ value*x for x in p0 ]"
      ],
      "execution_count": 0,
      "outputs": []
    },
    {
      "metadata": {
        "id": "sOl1HbK0Tuzy",
        "colab_type": "code",
        "colab": {}
      },
      "cell_type": "code",
      "source": [
        "expectedtab10 = expectedtab10.round()"
      ],
      "execution_count": 0,
      "outputs": []
    },
    {
      "metadata": {
        "id": "HQF01LafTxQx",
        "colab_type": "code",
        "outputId": "a35a0be0-5fe6-4b40-d034-f54d6e0daf22",
        "colab": {
          "base_uri": "https://localhost:8080/",
          "height": 173
        }
      },
      "cell_type": "code",
      "source": [
        "expectedtab10"
      ],
      "execution_count": 48,
      "outputs": [
        {
          "output_type": "execute_result",
          "data": {
            "text/html": [
              "<div>\n",
              "<style scoped>\n",
              "    .dataframe tbody tr th:only-of-type {\n",
              "        vertical-align: middle;\n",
              "    }\n",
              "\n",
              "    .dataframe tbody tr th {\n",
              "        vertical-align: top;\n",
              "    }\n",
              "\n",
              "    .dataframe thead th {\n",
              "        text-align: right;\n",
              "    }\n",
              "</style>\n",
              "<table border=\"1\" class=\"dataframe\">\n",
              "  <thead>\n",
              "    <tr style=\"text-align: right;\">\n",
              "      <th></th>\n",
              "      <th>gene0</th>\n",
              "      <th>gene1</th>\n",
              "      <th>gene2</th>\n",
              "      <th>gene3</th>\n",
              "      <th>gene4</th>\n",
              "      <th>gene5</th>\n",
              "      <th>gene6</th>\n",
              "      <th>gene7</th>\n",
              "      <th>gene8</th>\n",
              "      <th>gene9</th>\n",
              "    </tr>\n",
              "  </thead>\n",
              "  <tbody>\n",
              "    <tr>\n",
              "      <th>A</th>\n",
              "      <td>471.0</td>\n",
              "      <td>392.0</td>\n",
              "      <td>85.0</td>\n",
              "      <td>385.0</td>\n",
              "      <td>668.0</td>\n",
              "      <td>921.0</td>\n",
              "      <td>288.0</td>\n",
              "      <td>524.0</td>\n",
              "      <td>445.0</td>\n",
              "      <td>241.0</td>\n",
              "    </tr>\n",
              "    <tr>\n",
              "      <th>C</th>\n",
              "      <td>207.0</td>\n",
              "      <td>172.0</td>\n",
              "      <td>37.0</td>\n",
              "      <td>169.0</td>\n",
              "      <td>294.0</td>\n",
              "      <td>404.0</td>\n",
              "      <td>126.0</td>\n",
              "      <td>230.0</td>\n",
              "      <td>196.0</td>\n",
              "      <td>106.0</td>\n",
              "    </tr>\n",
              "    <tr>\n",
              "      <th>G</th>\n",
              "      <td>274.0</td>\n",
              "      <td>228.0</td>\n",
              "      <td>49.0</td>\n",
              "      <td>224.0</td>\n",
              "      <td>388.0</td>\n",
              "      <td>535.0</td>\n",
              "      <td>167.0</td>\n",
              "      <td>305.0</td>\n",
              "      <td>259.0</td>\n",
              "      <td>140.0</td>\n",
              "    </tr>\n",
              "    <tr>\n",
              "      <th>T</th>\n",
              "      <td>407.0</td>\n",
              "      <td>339.0</td>\n",
              "      <td>74.0</td>\n",
              "      <td>333.0</td>\n",
              "      <td>578.0</td>\n",
              "      <td>796.0</td>\n",
              "      <td>248.0</td>\n",
              "      <td>453.0</td>\n",
              "      <td>385.0</td>\n",
              "      <td>208.0</td>\n",
              "    </tr>\n",
              "  </tbody>\n",
              "</table>\n",
              "</div>"
            ],
            "text/plain": [
              "   gene0  gene1  gene2  gene3  gene4  gene5  gene6  gene7  gene8  gene9\n",
              "A  471.0  392.0   85.0  385.0  668.0  921.0  288.0  524.0  445.0  241.0\n",
              "C  207.0  172.0   37.0  169.0  294.0  404.0  126.0  230.0  196.0  106.0\n",
              "G  274.0  228.0   49.0  224.0  388.0  535.0  167.0  305.0  259.0  140.0\n",
              "T  407.0  339.0   74.0  333.0  578.0  796.0  248.0  453.0  385.0  208.0"
            ]
          },
          "metadata": {
            "tags": []
          },
          "execution_count": 48
        }
      ]
    },
    {
      "metadata": {
        "id": "OqyRDvxdTxyh",
        "colab_type": "code",
        "colab": {}
      },
      "cell_type": "code",
      "source": [
        "randomtab10 = pd.DataFrame(index=('A','C','G','T'))"
      ],
      "execution_count": 0,
      "outputs": []
    },
    {
      "metadata": {
        "id": "NTkxLL-MeHvf",
        "colab_type": "text"
      },
      "cell_type": "markdown",
      "source": [
        "We can now create a random table with the correct column sums using the rmultinom function. This table is generated according to the null hypothesis that the true proportions are given by `p0`."
      ]
    },
    {
      "metadata": {
        "id": "cybzkOSWcqXT",
        "colab_type": "code",
        "colab": {}
      },
      "cell_type": "code",
      "source": [
        "from scipy.stats import multinomial"
      ],
      "execution_count": 0,
      "outputs": []
    },
    {
      "metadata": {
        "id": "oTqyeDh-ZsUj",
        "colab_type": "code",
        "colab": {}
      },
      "cell_type": "code",
      "source": [
        "for column in cs:\n",
        "  for value in cs[column]:\n",
        "    randomtab10[column]=multinomial.rvs(n=value,p=p0)"
      ],
      "execution_count": 0,
      "outputs": []
    },
    {
      "metadata": {
        "id": "poJR1gQrWxQp",
        "colab_type": "code",
        "outputId": "6b3bfd6b-15c9-4310-a49b-ac4a4b8b8014",
        "colab": {
          "base_uri": "https://localhost:8080/",
          "height": 173
        }
      },
      "cell_type": "code",
      "source": [
        "randomtab10"
      ],
      "execution_count": 52,
      "outputs": [
        {
          "output_type": "execute_result",
          "data": {
            "text/html": [
              "<div>\n",
              "<style scoped>\n",
              "    .dataframe tbody tr th:only-of-type {\n",
              "        vertical-align: middle;\n",
              "    }\n",
              "\n",
              "    .dataframe tbody tr th {\n",
              "        vertical-align: top;\n",
              "    }\n",
              "\n",
              "    .dataframe thead th {\n",
              "        text-align: right;\n",
              "    }\n",
              "</style>\n",
              "<table border=\"1\" class=\"dataframe\">\n",
              "  <thead>\n",
              "    <tr style=\"text-align: right;\">\n",
              "      <th></th>\n",
              "      <th>gene0</th>\n",
              "      <th>gene1</th>\n",
              "      <th>gene2</th>\n",
              "      <th>gene3</th>\n",
              "      <th>gene4</th>\n",
              "      <th>gene5</th>\n",
              "      <th>gene6</th>\n",
              "      <th>gene7</th>\n",
              "      <th>gene8</th>\n",
              "      <th>gene9</th>\n",
              "    </tr>\n",
              "  </thead>\n",
              "  <tbody>\n",
              "    <tr>\n",
              "      <th>A</th>\n",
              "      <td>516</td>\n",
              "      <td>384</td>\n",
              "      <td>88</td>\n",
              "      <td>375</td>\n",
              "      <td>708</td>\n",
              "      <td>909</td>\n",
              "      <td>300</td>\n",
              "      <td>512</td>\n",
              "      <td>421</td>\n",
              "      <td>209</td>\n",
              "    </tr>\n",
              "    <tr>\n",
              "      <th>C</th>\n",
              "      <td>193</td>\n",
              "      <td>175</td>\n",
              "      <td>48</td>\n",
              "      <td>155</td>\n",
              "      <td>261</td>\n",
              "      <td>405</td>\n",
              "      <td>122</td>\n",
              "      <td>225</td>\n",
              "      <td>212</td>\n",
              "      <td>117</td>\n",
              "    </tr>\n",
              "    <tr>\n",
              "      <th>G</th>\n",
              "      <td>272</td>\n",
              "      <td>220</td>\n",
              "      <td>45</td>\n",
              "      <td>241</td>\n",
              "      <td>350</td>\n",
              "      <td>545</td>\n",
              "      <td>167</td>\n",
              "      <td>294</td>\n",
              "      <td>250</td>\n",
              "      <td>133</td>\n",
              "    </tr>\n",
              "    <tr>\n",
              "      <th>T</th>\n",
              "      <td>381</td>\n",
              "      <td>355</td>\n",
              "      <td>65</td>\n",
              "      <td>342</td>\n",
              "      <td>613</td>\n",
              "      <td>802</td>\n",
              "      <td>242</td>\n",
              "      <td>484</td>\n",
              "      <td>404</td>\n",
              "      <td>237</td>\n",
              "    </tr>\n",
              "  </tbody>\n",
              "</table>\n",
              "</div>"
            ],
            "text/plain": [
              "   gene0  gene1  gene2  gene3  gene4  gene5  gene6  gene7  gene8  gene9\n",
              "A    516    384     88    375    708    909    300    512    421    209\n",
              "C    193    175     48    155    261    405    122    225    212    117\n",
              "G    272    220     45    241    350    545    167    294    250    133\n",
              "T    381    355     65    342    613    802    242    484    404    237"
            ]
          },
          "metadata": {
            "tags": []
          },
          "execution_count": 52
        }
      ]
    },
    {
      "metadata": {
        "id": "v-iBaLD3cqGR",
        "colab_type": "code",
        "outputId": "28ad1f38-596a-497f-c221-aa6fddb85b0f",
        "colab": {
          "base_uri": "https://localhost:8080/",
          "height": 80
        }
      },
      "cell_type": "code",
      "source": [
        "randomtab10.sum() == cs"
      ],
      "execution_count": 53,
      "outputs": [
        {
          "output_type": "execute_result",
          "data": {
            "text/html": [
              "<div>\n",
              "<style scoped>\n",
              "    .dataframe tbody tr th:only-of-type {\n",
              "        vertical-align: middle;\n",
              "    }\n",
              "\n",
              "    .dataframe tbody tr th {\n",
              "        vertical-align: top;\n",
              "    }\n",
              "\n",
              "    .dataframe thead th {\n",
              "        text-align: right;\n",
              "    }\n",
              "</style>\n",
              "<table border=\"1\" class=\"dataframe\">\n",
              "  <thead>\n",
              "    <tr style=\"text-align: right;\">\n",
              "      <th></th>\n",
              "      <th>gene0</th>\n",
              "      <th>gene1</th>\n",
              "      <th>gene2</th>\n",
              "      <th>gene3</th>\n",
              "      <th>gene4</th>\n",
              "      <th>gene5</th>\n",
              "      <th>gene6</th>\n",
              "      <th>gene7</th>\n",
              "      <th>gene8</th>\n",
              "      <th>gene9</th>\n",
              "    </tr>\n",
              "  </thead>\n",
              "  <tbody>\n",
              "    <tr>\n",
              "      <th>0</th>\n",
              "      <td>True</td>\n",
              "      <td>True</td>\n",
              "      <td>True</td>\n",
              "      <td>True</td>\n",
              "      <td>True</td>\n",
              "      <td>True</td>\n",
              "      <td>True</td>\n",
              "      <td>True</td>\n",
              "      <td>True</td>\n",
              "      <td>True</td>\n",
              "    </tr>\n",
              "  </tbody>\n",
              "</table>\n",
              "</div>"
            ],
            "text/plain": [
              "   gene0  gene1  gene2  gene3  gene4  gene5  gene6  gene7  gene8  gene9\n",
              "0   True   True   True   True   True   True   True   True   True   True"
            ]
          },
          "metadata": {
            "tags": []
          },
          "execution_count": 53
        }
      ]
    },
    {
      "metadata": {
        "id": "bnXEgY3URl9E",
        "colab_type": "text"
      },
      "cell_type": "markdown",
      "source": [
        "Now we repeat this B = 1000 times. For each table we compute our test statistic from Section 1.4.1 in Lecture 1 (the function stat) and store the results in the vector `simulstat`. Together, these values constitute our null distribution, as they were generated under the null hypothesis that `p0` is the vector of multinomial proportions for each of the 10 genes."
      ]
    },
    {
      "metadata": {
        "id": "0aQpfTbfUV83",
        "colab_type": "code",
        "colab": {}
      },
      "cell_type": "code",
      "source": [
        "simulstat = np.zeros(1000)"
      ],
      "execution_count": 0,
      "outputs": []
    },
    {
      "metadata": {
        "id": "5SgzPot_bnij",
        "colab_type": "code",
        "colab": {}
      },
      "cell_type": "code",
      "source": [
        "for i in range(1000):\n",
        "  for column in cs:\n",
        "    for value in cs[column]:\n",
        "      randomtab10[column]=multinomial.rvs(n=value,p=p0)\n",
        "  simulstat[i] = ((randomtab10-expectedtab10)**2/expectedtab10).values.sum()"
      ],
      "execution_count": 0,
      "outputs": []
    },
    {
      "metadata": {
        "id": "lhtzKTAPUVys",
        "colab_type": "code",
        "colab": {}
      },
      "cell_type": "code",
      "source": [
        "S1 = ((tab10-expectedtab10)**2/expectedtab10).values.sum()"
      ],
      "execution_count": 0,
      "outputs": []
    },
    {
      "metadata": {
        "id": "A4roNBB-e15q",
        "colab_type": "code",
        "outputId": "cd5a6e06-bbf0-46c1-f4e3-764142a457d6",
        "colab": {
          "base_uri": "https://localhost:8080/",
          "height": 34
        }
      },
      "cell_type": "code",
      "source": [
        "S1"
      ],
      "execution_count": 57,
      "outputs": [
        {
          "output_type": "execute_result",
          "data": {
            "text/plain": [
              "70.79264053150476"
            ]
          },
          "metadata": {
            "tags": []
          },
          "execution_count": 57
        }
      ]
    },
    {
      "metadata": {
        "id": "NH74h3YPcMXd",
        "colab_type": "code",
        "outputId": "4603f42d-bf69-4587-e582-c09f3abd0338",
        "colab": {
          "base_uri": "https://localhost:8080/",
          "height": 34
        }
      },
      "cell_type": "code",
      "source": [
        "np.sum(simulstat >= S1)"
      ],
      "execution_count": 58,
      "outputs": [
        {
          "output_type": "execute_result",
          "data": {
            "text/plain": [
              "0"
            ]
          },
          "metadata": {
            "tags": []
          },
          "execution_count": 58
        }
      ]
    },
    {
      "metadata": {
        "id": "Z_9c7VBkew_h",
        "colab_type": "text"
      },
      "cell_type": "markdown",
      "source": [
        "The histogram is shown in Figure 2.7. We see that the probability of seeing a value as large as $S1=70.8$ is very small under the null model. It happened 0 times in our 1000 simulations that a value as big as `S1` occured. Thus the ten genes do not seem to come from the same multinomial model."
      ]
    },
    {
      "metadata": {
        "id": "ZTdeogofcDa8",
        "colab_type": "code",
        "outputId": "613cc7b7-3874-4ca6-960e-6652c20d5fc7",
        "colab": {
          "base_uri": "https://localhost:8080/",
          "height": 299
        }
      },
      "cell_type": "code",
      "source": [
        "g = sns.distplot(simulstat, bins=20, kde=False)\n",
        "g.axvline(S1,color='red')\n",
        "g.axvline(np.quantile(simulstat,0.95),color='g',linestyle=\"--\")\n",
        "g.axvline(np.quantile(simulstat,0.99),color='b',linestyle=\"--\")"
      ],
      "execution_count": 59,
      "outputs": [
        {
          "output_type": "execute_result",
          "data": {
            "text/plain": [
              "<matplotlib.lines.Line2D at 0x7ff32171fe48>"
            ]
          },
          "metadata": {
            "tags": []
          },
          "execution_count": 59
        },
        {
          "output_type": "display_data",
          "data": {
            "image/png": "[encoded data removed]",
            "text/plain": [
              "<Figure size 432x288 with 1 Axes>"
            ]
          },
          "metadata": {
            "tags": []
          }
        }
      ]
    },
    {
      "metadata": {
        "id": "pE3NHczbepcJ",
        "colab_type": "text"
      },
      "cell_type": "markdown",
      "source": [
        ">**Figure 2.7.**: Histogram of `simulstat`. The value of `S1` is marked by the vertical red line, those of the 0.95 and 0.99 quantiles (see next section) by the dotted lines."
      ]
    },
    {
      "metadata": {
        "id": "6aM3rKygfcAM",
        "colab_type": "text"
      },
      "cell_type": "markdown",
      "source": [
        "## 2.6. The $\\chi^2$ distribution\n",
        "----------\n",
        "\n",
        "In fact, we could have used statistical theory to come to the same conclusion without running these simulations. The theoretical distribution of the simulstat statistic is called the $\\chi^2$ (chi-squared) distribution (Strictly speaking, the distribution of simulstat is approximately described by a $\\chi^2$ distribution; the approximation is particularly good if the counts in the table are large.) with parameter 30 ($=10 \\times (4-1)$). We can use this for computing the probability of having a value as large as S1 = 70.1. As we just saw above, small probabilities are difficult to compute by Monte Carlo: the granularity of the computation is $1/B$, so we cannot estimate any probabilities smaller than that, and in fact the uncertainty of the estimate is larger. So if any theory is applicable, that tends to be useful. We can check how well theory and simulation match up in our case using another visual goodness-of-fit tool: the (QQ) plot. When comparing two distributions, whether from two different samples or from one sample versus a theoretical model, just looking at histograms is not informative enough. We use a method based on the quantiles of each of the distributions."
      ]
    },
    {
      "metadata": {
        "id": "2YfvJl15gl4O",
        "colab_type": "text"
      },
      "cell_type": "markdown",
      "source": [
        "### 2.6.1. Intermezzo: quantiles and the quantile-quantile plot\n",
        "\n",
        "In the previous chapter, we ordered the 100 sample values $x_{(1)}, x_{(2)}, .... , x_{(100)}$. Say we want the 22nd percentile. We can take any value between the 22nd and the 23rd value, i.e., any value that fulfills $x_{(22)} \\leq c_{0.22} \\leq x_{(23)}$ is acceptable as a 0.22 quantile ($c_{0.22}$). In other words $c_{0.22}$ is defined by:\n",
        "\n",
        "$ \\frac{\\#x'_{i}s \\leq c_{0.22}}{n} = 0.22 $\n",
        "\n",
        "Now that we have an idea what quantiles are, we can do the quantile-quantile plot. We plot the quantiles of the simulstat values, which we simulated under the null hypothesis, against the theoretical null distribution $\\chi^2_{30}$\n",
        " (Figure 2.8):"
      ]
    },
    {
      "metadata": {
        "id": "3Fe_mlYziDUV",
        "colab_type": "code",
        "colab": {}
      },
      "cell_type": "code",
      "source": [
        "from scipy.stats import probplot\n",
        "from scipy.stats import chi2\n"
      ],
      "execution_count": 0,
      "outputs": []
    },
    {
      "metadata": {
        "id": "zHyBwCUBoCJA",
        "colab_type": "code",
        "colab": {}
      },
      "cell_type": "code",
      "source": [
        "x,y=probplot(simulstat,dist=chi2,sparams=(30,))[0]"
      ],
      "execution_count": 0,
      "outputs": []
    },
    {
      "metadata": {
        "id": "AiDwtBfSol7S",
        "colab_type": "code",
        "outputId": "1b68bf9b-0572-48fb-8b18-65fb533d8b12",
        "colab": {
          "base_uri": "https://localhost:8080/",
          "height": 299
        }
      },
      "cell_type": "code",
      "source": [
        "sns.scatterplot(x=x,y=y)"
      ],
      "execution_count": 62,
      "outputs": [
        {
          "output_type": "execute_result",
          "data": {
            "text/plain": [
              "<matplotlib.axes._subplots.AxesSubplot at 0x7ff321f5f1d0>"
            ]
          },
          "metadata": {
            "tags": []
          },
          "execution_count": 62
        },
        {
          "output_type": "display_data",
          "data": {
            "image/png": "[encoded data removed]",
            "text/plain": [
              "<Figure size 432x288 with 1 Axes>"
            ]
          },
          "metadata": {
            "tags": []
          }
        }
      ]
    },
    {
      "metadata": {
        "id": "caNw42QNq-R3",
        "colab_type": "text"
      },
      "cell_type": "markdown",
      "source": [
        "Having convinced ourselves that simulstat is well described by a $\\chi^2_{30}$ distribution, we can use that to compute our $p$-value, i.e., the probability that under the null hypothesis (counts are distributed as multinomial with probabilities $p_A=0.35, p_C=0.15, p_G=0.2, p_T=0.3$ we observe a value as high as S1=70.1:"
      ]
    },
    {
      "metadata": {
        "id": "EaNUqG7KrFz9",
        "colab_type": "code",
        "outputId": "034781d3-e1a3-493d-e904-44b0fe20bffc",
        "colab": {
          "base_uri": "https://localhost:8080/",
          "height": 34
        }
      },
      "cell_type": "code",
      "source": [
        "chi2.pdf(S1,df=30)"
      ],
      "execution_count": 63,
      "outputs": [
        {
          "output_type": "execute_result",
          "data": {
            "text/plain": [
              "1.1790947465346944e-05"
            ]
          },
          "metadata": {
            "tags": []
          },
          "execution_count": 63
        }
      ]
    },
    {
      "metadata": {
        "id": "1i19rj8RtA0p",
        "colab_type": "text"
      },
      "cell_type": "markdown",
      "source": [
        "With such a small $p$-value, the null hypothesis seems improbable. Note how this computation did not require the 1000 simulations and was faster."
      ]
    },
    {
      "metadata": {
        "id": "2eE3_WX6tfDq",
        "colab_type": "text"
      },
      "cell_type": "markdown",
      "source": [
        "## 2.7. Chargaff's rule\n",
        "---------\n",
        "\n",
        "The most important pattern in the nucleotide frequencies was discovered by Chargaff ([Elson and Chargaff 1952](https://link.springer.com/article/10.1007/BF02170221)).\n",
        "\n",
        " \n",
        "Long before DNA sequencing was available, using the weight of the molecules, he asked whether the nucleotides occurred at equal frequencies. He called this the tetranucleotide hypothesis. We would translate that into asking whether $p_A=p_C=p_G=p_T$.\n",
        "\n",
        "Unfortunately, Chargaff only published the percentages of the mass present in different organisms for each of the nucleotides, not the measurements themselves.\n"
      ]
    },
    {
      "metadata": {
        "id": "Jy9brRbCH3JR",
        "colab_type": "code",
        "colab": {}
      },
      "cell_type": "code",
      "source": [
        ""
      ],
      "execution_count": 0,
      "outputs": []
    },
    {
      "metadata": {
        "id": "RM0yYUAPrcAd",
        "colab_type": "code",
        "outputId": "a032e022-43ee-42ee-accb-3e8565ec8145",
        "colab": {
          "base_uri": "https://localhost:8080/",
          "height": 289
        }
      },
      "cell_type": "code",
      "source": [
        "!wget https://github.com/nekrut/msmb_python/raw/master/data/ChargaffTable.csv"
      ],
      "execution_count": 64,
      "outputs": [
        {
          "output_type": "stream",
          "text": [
            "--2019-04-16 13:20:02--  https://github.com/nekrut/msmb_python/raw/master/data/ChargaffTable.csv\n",
            "Resolving github.com (github.com)... 192.30.253.112, 192.30.253.113\n",
            "Connecting to github.com (github.com)|192.30.253.112|:443... connected.\n",
            "HTTP request sent, awaiting response... 302 Found\n",
            "Location: https://raw.githubusercontent.com/nekrut/msmb_python/master/data/ChargaffTable.csv [following]\n",
            "--2019-04-16 13:20:02--  https://raw.githubusercontent.com/nekrut/msmb_python/master/data/ChargaffTable.csv\n",
            "Resolving raw.githubusercontent.com (raw.githubusercontent.com)... 151.101.0.133, 151.101.64.133, 151.101.128.133, ...\n",
            "Connecting to raw.githubusercontent.com (raw.githubusercontent.com)|151.101.0.133|:443... connected.\n",
            "HTTP request sent, awaiting response... 200 OK\n",
            "Length: 260 [text/plain]\n",
            "Saving to: ‘ChargaffTable.csv’\n",
            "\n",
            "\rChargaffTable.csv     0%[                    ]       0  --.-KB/s               \rChargaffTable.csv   100%[===================>]     260  --.-KB/s    in 0s      \n",
            "\n",
            "2019-04-16 13:20:02 (28.5 MB/s) - ‘ChargaffTable.csv’ saved [260/260]\n",
            "\n"
          ],
          "name": "stdout"
        }
      ]
    },
    {
      "metadata": {
        "id": "UB6UlLr8Fk3q",
        "colab_type": "code",
        "colab": {}
      },
      "cell_type": "code",
      "source": [
        "chargaff = pd.read_csv('ChargaffTable.csv')"
      ],
      "execution_count": 0,
      "outputs": []
    },
    {
      "metadata": {
        "id": "Gh3KjYA7FxMZ",
        "colab_type": "code",
        "outputId": "ae935cef-60e4-4b97-daf4-18123f66d20c",
        "colab": {
          "base_uri": "https://localhost:8080/",
          "height": 204
        }
      },
      "cell_type": "code",
      "source": [
        "chargaff.head()"
      ],
      "execution_count": 66,
      "outputs": [
        {
          "output_type": "execute_result",
          "data": {
            "text/html": [
              "<div>\n",
              "<style scoped>\n",
              "    .dataframe tbody tr th:only-of-type {\n",
              "        vertical-align: middle;\n",
              "    }\n",
              "\n",
              "    .dataframe tbody tr th {\n",
              "        vertical-align: top;\n",
              "    }\n",
              "\n",
              "    .dataframe thead th {\n",
              "        text-align: right;\n",
              "    }\n",
              "</style>\n",
              "<table border=\"1\" class=\"dataframe\">\n",
              "  <thead>\n",
              "    <tr style=\"text-align: right;\">\n",
              "      <th></th>\n",
              "      <th>Species</th>\n",
              "      <th>A</th>\n",
              "      <th>T</th>\n",
              "      <th>C</th>\n",
              "      <th>G</th>\n",
              "    </tr>\n",
              "  </thead>\n",
              "  <tbody>\n",
              "    <tr>\n",
              "      <th>0</th>\n",
              "      <td>Human-Thymus</td>\n",
              "      <td>30.9</td>\n",
              "      <td>29.4</td>\n",
              "      <td>19.9</td>\n",
              "      <td>19.8</td>\n",
              "    </tr>\n",
              "    <tr>\n",
              "      <th>1</th>\n",
              "      <td>Mycobac.Tuber</td>\n",
              "      <td>15.1</td>\n",
              "      <td>14.6</td>\n",
              "      <td>34.9</td>\n",
              "      <td>35.4</td>\n",
              "    </tr>\n",
              "    <tr>\n",
              "      <th>2</th>\n",
              "      <td>Chicken-Eryth.</td>\n",
              "      <td>28.8</td>\n",
              "      <td>29.2</td>\n",
              "      <td>20.5</td>\n",
              "      <td>21.5</td>\n",
              "    </tr>\n",
              "    <tr>\n",
              "      <th>3</th>\n",
              "      <td>Sheep-liver</td>\n",
              "      <td>29.3</td>\n",
              "      <td>29.3</td>\n",
              "      <td>20.5</td>\n",
              "      <td>20.7</td>\n",
              "    </tr>\n",
              "    <tr>\n",
              "      <th>4</th>\n",
              "      <td>Sea Urchin</td>\n",
              "      <td>32.8</td>\n",
              "      <td>32.1</td>\n",
              "      <td>17.7</td>\n",
              "      <td>17.3</td>\n",
              "    </tr>\n",
              "  </tbody>\n",
              "</table>\n",
              "</div>"
            ],
            "text/plain": [
              "          Species     A     T     C     G\n",
              "0    Human-Thymus  30.9  29.4  19.9  19.8\n",
              "1   Mycobac.Tuber  15.1  14.6  34.9  35.4\n",
              "2  Chicken-Eryth.  28.8  29.2  20.5  21.5\n",
              "3     Sheep-liver  29.3  29.3  20.5  20.7\n",
              "4      Sea Urchin  32.8  32.1  17.7  17.3"
            ]
          },
          "metadata": {
            "tags": []
          },
          "execution_count": 66
        }
      ]
    },
    {
      "metadata": {
        "id": "jr70iPDmIC5g",
        "colab_type": "code",
        "colab": {}
      },
      "cell_type": "code",
      "source": [
        "chargaff = pd.melt(chargaff,id_vars=['Species'],var_name='base',value_name='frequency')"
      ],
      "execution_count": 0,
      "outputs": []
    },
    {
      "metadata": {
        "id": "AcmKo6zhInjs",
        "colab_type": "code",
        "outputId": "b015a01c-2861-4feb-8010-020f3900ef53",
        "colab": {
          "base_uri": "https://localhost:8080/",
          "height": 204
        }
      },
      "cell_type": "code",
      "source": [
        "chargaff.head()"
      ],
      "execution_count": 68,
      "outputs": [
        {
          "output_type": "execute_result",
          "data": {
            "text/html": [
              "<div>\n",
              "<style scoped>\n",
              "    .dataframe tbody tr th:only-of-type {\n",
              "        vertical-align: middle;\n",
              "    }\n",
              "\n",
              "    .dataframe tbody tr th {\n",
              "        vertical-align: top;\n",
              "    }\n",
              "\n",
              "    .dataframe thead th {\n",
              "        text-align: right;\n",
              "    }\n",
              "</style>\n",
              "<table border=\"1\" class=\"dataframe\">\n",
              "  <thead>\n",
              "    <tr style=\"text-align: right;\">\n",
              "      <th></th>\n",
              "      <th>Species</th>\n",
              "      <th>base</th>\n",
              "      <th>frequency</th>\n",
              "    </tr>\n",
              "  </thead>\n",
              "  <tbody>\n",
              "    <tr>\n",
              "      <th>0</th>\n",
              "      <td>Human-Thymus</td>\n",
              "      <td>A</td>\n",
              "      <td>30.9</td>\n",
              "    </tr>\n",
              "    <tr>\n",
              "      <th>1</th>\n",
              "      <td>Mycobac.Tuber</td>\n",
              "      <td>A</td>\n",
              "      <td>15.1</td>\n",
              "    </tr>\n",
              "    <tr>\n",
              "      <th>2</th>\n",
              "      <td>Chicken-Eryth.</td>\n",
              "      <td>A</td>\n",
              "      <td>28.8</td>\n",
              "    </tr>\n",
              "    <tr>\n",
              "      <th>3</th>\n",
              "      <td>Sheep-liver</td>\n",
              "      <td>A</td>\n",
              "      <td>29.3</td>\n",
              "    </tr>\n",
              "    <tr>\n",
              "      <th>4</th>\n",
              "      <td>Sea Urchin</td>\n",
              "      <td>A</td>\n",
              "      <td>32.8</td>\n",
              "    </tr>\n",
              "  </tbody>\n",
              "</table>\n",
              "</div>"
            ],
            "text/plain": [
              "          Species base  frequency\n",
              "0    Human-Thymus    A       30.9\n",
              "1   Mycobac.Tuber    A       15.1\n",
              "2  Chicken-Eryth.    A       28.8\n",
              "3     Sheep-liver    A       29.3\n",
              "4      Sea Urchin    A       32.8"
            ]
          },
          "metadata": {
            "tags": []
          },
          "execution_count": 68
        }
      ]
    },
    {
      "metadata": {
        "id": "MkSpZxGbJC8F",
        "colab_type": "code",
        "outputId": "82865280-0391-422f-d4c0-71f0e4be0d36",
        "colab": {
          "base_uri": "https://localhost:8080/",
          "height": 585
        }
      },
      "cell_type": "code",
      "source": [
        "sns.catplot(kind='bar',x='frequency',y='base',col=\"Species\",col_wrap=4,height=4,data=chargaff)"
      ],
      "execution_count": 69,
      "outputs": [
        {
          "output_type": "execute_result",
          "data": {
            "text/plain": [
              "<seaborn.axisgrid.FacetGrid at 0x7ff322c0ea58>"
            ]
          },
          "metadata": {
            "tags": []
          },
          "execution_count": 69
        },
        {
          "output_type": "display_data",
          "data": {
            "image/png": "[encoded data removed]",
            "text/plain": [
              "<Figure size 1152x576 with 8 Axes>"
            ]
          },
          "metadata": {
            "tags": []
          }
        }
      ]
    },
    {
      "metadata": {
        "id": "TXl3fLzXpBKi",
        "colab_type": "text"
      },
      "cell_type": "markdown",
      "source": [
        "- Do these data seem to come from equally likely multinomial categories?\n",
        "- Can you suggest an alternative pattern?\n",
        "- Can you do a quantitative analysis of the pattern, perhaps inspired by the simulations above?\n",
        "\n",
        "Chargaff saw the answer to this question and postulated a pattern called base pairing, which ensured a perfect match of the amount of adenine (A) in the DNA of an organism to the amount of thymine (T). Similarly, whatever the amount of guanine (G), the amount of cytosine (C) would be the same. This is now called Chargaff’s rule. On the other hand, the amount of C/G in an organism could be quite different from that of A/T, with no obvious pattern across organisms. Based on Chargaff’s rule, we might define a statistic:\n",
        "\n",
        "$(p_C-p_G)^2+(p_A-p_T)^2,$\n",
        "\n",
        "summed over all rows of the table. We are going to look at a comparison between the data and what would occur if the nucleotides were ‘exchangeable’, in the sense that the probabilities observed in each row were in no particular order, so that there were no special relationship between the proportions of As and Ts, or between those of Cs and Gs."
      ]
    },
    {
      "metadata": {
        "id": "gowiqqxSSBA8",
        "colab_type": "text"
      },
      "cell_type": "markdown",
      "source": [
        "#### Color blindness and sex\n",
        "\n",
        "Deuteranopia is a form of red-green color blindness due to the fact that medium wavelength sensitive cones (green) are missing. A deuteranope can only distinguish 2 to 3 different hues, whereas somebody with normal vision sees 7 different hues. A survey for this type of color blindness in human subjects produced a two-way table crossing color blindness and sex."
      ]
    },
    {
      "metadata": {
        "id": "mqnBxXHtptDF",
        "colab_type": "code",
        "colab": {}
      },
      "cell_type": "code",
      "source": [
        "Deuteranopia = pd.DataFrame(index=['Deute','NonDeute'],data={'Men':[19,1981],'Women':[2,1998]})"
      ],
      "execution_count": 0,
      "outputs": []
    },
    {
      "metadata": {
        "id": "weSbgffFSwtJ",
        "colab_type": "code",
        "colab": {
          "base_uri": "https://localhost:8080/",
          "height": 111
        },
        "outputId": "acc5c90b-0bb8-4f42-f05d-6f85badaeb73"
      },
      "cell_type": "code",
      "source": [
        "Deuteranopia"
      ],
      "execution_count": 75,
      "outputs": [
        {
          "output_type": "execute_result",
          "data": {
            "text/html": [
              "<div>\n",
              "<style scoped>\n",
              "    .dataframe tbody tr th:only-of-type {\n",
              "        vertical-align: middle;\n",
              "    }\n",
              "\n",
              "    .dataframe tbody tr th {\n",
              "        vertical-align: top;\n",
              "    }\n",
              "\n",
              "    .dataframe thead th {\n",
              "        text-align: right;\n",
              "    }\n",
              "</style>\n",
              "<table border=\"1\" class=\"dataframe\">\n",
              "  <thead>\n",
              "    <tr style=\"text-align: right;\">\n",
              "      <th></th>\n",
              "      <th>Men</th>\n",
              "      <th>Women</th>\n",
              "    </tr>\n",
              "  </thead>\n",
              "  <tbody>\n",
              "    <tr>\n",
              "      <th>Deute</th>\n",
              "      <td>19</td>\n",
              "      <td>2</td>\n",
              "    </tr>\n",
              "    <tr>\n",
              "      <th>NonDeute</th>\n",
              "      <td>1981</td>\n",
              "      <td>1998</td>\n",
              "    </tr>\n",
              "  </tbody>\n",
              "</table>\n",
              "</div>"
            ],
            "text/plain": [
              "           Men  Women\n",
              "Deute       19      2\n",
              "NonDeute  1981   1998"
            ]
          },
          "metadata": {
            "tags": []
          },
          "execution_count": 75
        }
      ]
    },
    {
      "metadata": {
        "id": "cLkSk9nFT5gO",
        "colab_type": "text"
      },
      "cell_type": "markdown",
      "source": [
        "How do we test whether there is a relationship between sex and the occurrence of color blindness? We postulate the null model with two independent binomials: one for sex and one for color blindness. Under this model we can estimate all the cells’ multinomial probabilities, and we can compare the observed counts to the expected ones. This is done through the `chi2_contingency` function in `scipy.stats` package:"
      ]
    },
    {
      "metadata": {
        "id": "9-YhG1p0TpEu",
        "colab_type": "code",
        "colab": {}
      },
      "cell_type": "code",
      "source": [
        "from scipy.stats import chi2_contingency"
      ],
      "execution_count": 0,
      "outputs": []
    },
    {
      "metadata": {
        "id": "EZejmPzjUMC_",
        "colab_type": "code",
        "colab": {}
      },
      "cell_type": "code",
      "source": [
        "chi2, p, dof, ex = chi2_contingency(Deuteranopia,correction=True)"
      ],
      "execution_count": 0,
      "outputs": []
    },
    {
      "metadata": {
        "id": "Eat4WbLaUZQb",
        "colab_type": "code",
        "colab": {
          "base_uri": "https://localhost:8080/",
          "height": 34
        },
        "outputId": "da958e81-00a4-4209-c2da-b51f1f594a81"
      },
      "cell_type": "code",
      "source": [
        "print('X-squared = {}, df = {}, p-value = {}'.format(chi2,dof,p))"
      ],
      "execution_count": 82,
      "outputs": [
        {
          "output_type": "stream",
          "text": [
            "X-squared = 12.254813963786066, df = 1, p-value = 0.000464059415494955\n"
          ],
          "name": "stdout"
        }
      ]
    },
    {
      "metadata": {
        "id": "RExplOfvVyWA",
        "colab_type": "text"
      },
      "cell_type": "markdown",
      "source": [
        "The small $p$ value tells us that we should expect to see such a table with only a very small probability under the null model – i.e., if the fractions of deuteranopic color blind among women and men were the same.\n",
        "\n",
        "We’ll see another test for this type of data called Fisher’s exact test (also known as the hypergeometric test) in section 10.3.2. This test is widely used for testing the over-representations of certain types of genes in a list of significantly expressed ones."
      ]
    },
    {
      "metadata": {
        "id": "NWTnEcqbVt70",
        "colab_type": "code",
        "colab": {}
      },
      "cell_type": "code",
      "source": [
        ""
      ],
      "execution_count": 0,
      "outputs": []
    }
  ]
}